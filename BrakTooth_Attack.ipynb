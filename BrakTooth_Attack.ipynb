{
 "cells": [
  {
   "attachments": {},
   "cell_type": "markdown",
   "id": "09a42dbb",
   "metadata": {},
   "source": [
    "### Students:\n",
    " Nicolas Charpentier\n",
    "\n",
    " Lydia Delgado Uriarte\n"
   ]
  },
  {
   "attachments": {},
   "cell_type": "markdown",
   "id": "9b4bfa74",
   "metadata": {
    "slideshow": {
     "slide_type": "subslide"
    }
   },
   "source": [
    "#         BrakTooth Attack Dataset\n",
    "\n",
    "\n",
    "The ISOT BrakTooth Attack dataset contains Bluetooth classic traffic from both normal Bluetooth communications and BrakTooth-based attacks.\n",
    "In this notebook, we are training our data with different models to detect if there is an attack or not. \n",
    "\n",
    "\n"
   ]
  },
  {
   "attachments": {},
   "cell_type": "markdown",
   "id": "fafe852c",
   "metadata": {},
   "source": [
    "\n",
    "## Import libraries and load data\n",
    "Import **pandas** library to work with datasets, **numpy** library that support matrix operation, **matplotlib** library for plotting data.  "
   ]
  },
  {
   "cell_type": "code",
   "execution_count": null,
   "id": "32ae115b",
   "metadata": {},
   "outputs": [
    {
     "data": {
      "text/plain": [
       "['Requirement already satisfied: sns in /Users/lydiadelgado/anaconda3/lib/python3.11/site-packages (0.1)']"
      ]
     },
     "execution_count": 1,
     "metadata": {},
     "output_type": "execute_result"
    }
   ],
   "source": [
    "# Some libraries to install\n",
    "!! pip install scikit-learn\n",
    "!! pip install imbalanced-learn\n",
    "!! pip install memory-profiler\n",
    "!! pip install sns"
   ]
  },
  {
   "cell_type": "code",
   "execution_count": null,
   "id": "98d1c808",
   "metadata": {},
   "outputs": [],
   "source": [
    "import pandas as pd\n",
    "import numpy as np\n",
    "import matplotlib.pyplot as plt"
   ]
  },
  {
   "cell_type": "code",
   "execution_count": null,
   "id": "f77badb7",
   "metadata": {},
   "outputs": [],
   "source": [
    "#pd.set_option('display.max_rows', None)"
   ]
  },
  {
   "attachments": {},
   "cell_type": "markdown",
   "id": "2dbf6c3e",
   "metadata": {},
   "source": [
    "# Read the csv\n",
    "We will use pandas to read a csv and make the csv a DataFrame."
   ]
  },
  {
   "cell_type": "code",
   "execution_count": null,
   "id": "43e98b2f",
   "metadata": {},
   "outputs": [],
   "source": [
    "# We read the csv in \n",
    "X_test = pd.read_csv(\"X_test.csv\")\n",
    "dataset = pd.read_csv(\"X_train.csv\")"
   ]
  },
  {
   "cell_type": "code",
   "execution_count": null,
   "id": "3c901dc8",
   "metadata": {
    "scrolled": true
   },
   "outputs": [
    {
     "data": {
      "text/plain": [
       "Protocol     True\n",
       "Info         True\n",
       "Length       True\n",
       "Delta       False\n",
       "Type         True\n",
       "dtype: bool"
      ]
     },
     "execution_count": 5,
     "metadata": {},
     "output_type": "execute_result"
    }
   ],
   "source": [
    "# \n",
    "dataset.all()"
   ]
  },
  {
   "cell_type": "code",
   "execution_count": null,
   "id": "0c1c1566",
   "metadata": {},
   "outputs": [
    {
     "name": "stdout",
     "output_type": "stream",
     "text": [
      "False values in column Delta: 4\n"
     ]
    },
    {
     "data": {
      "text/plain": [
       "array(['Rcvd Link Key Request', 'Sent Link Key Request Negative Reply',\n",
       "       'Rcvd Command Complete (Link Key Request Negative Reply)',\n",
       "       'LM Sent', 'LMP_au_rand', 'FHS', 'LMP_not_accepted', 'LM Received',\n",
       "       'Rcvd Connect Request', 'Sent Accept Connection Request',\n",
       "       'Rcvd Command Status (Accept Connection Request)',\n",
       "       'Rcvd Connect Complete', 'Sent Read Clock offset',\n",
       "       'Sent Information Request (Extended Features Mask)',\n",
       "       'Rcvd Max Slots Change',\n",
       "       'Rcvd Connection Request (SDP, SCID: 0x0041)',\n",
       "       'Rcvd Command Status (Read Clock offset)',\n",
       "       'Sent Read Remote Version Information',\n",
       "       'Sent Connection Response - Pending (SCID: 0x0041)',\n",
       "       'Rcvd Read Clock Offset Complete',\n",
       "       'Rcvd Command Status (Read Remote Version Information)',\n",
       "       'Sent Read Remote Supported Features',\n",
       "       'Rcvd Read Remote Version Information Complete',\n",
       "       'Rcvd Command Status (Read Remote Supported Features)',\n",
       "       'Sent Remote Name Request', 'Rcvd Read Remote Supported Features',\n",
       "       'Rcvd Command Status (Remote Name Request)',\n",
       "       'Sent Write Link Policy Settings',\n",
       "       'Rcvd Command Complete (Write Link Policy Settings)',\n",
       "       'Sent Read Remote Extended Features',\n",
       "       'Rcvd Command Status (Read Remote Extended Features)',\n",
       "       'Rcvd Read Remote Extended Features Complete',\n",
       "       'Sent Change Connection Packet Type',\n",
       "       'Rcvd Command Status (Change Connection Packet Type)',\n",
       "       'Rcvd Connection Packet Type Changed',\n",
       "       'Sent Connection Response - Success (SCID: 0x0041, DCID: 0x0044)',\n",
       "       'Sent Configure Request (DCID: 0x0041)',\n",
       "       'Rcvd Remote Name Request Complete',\n",
       "       'Rcvd Number of Completed Packets', 'Rcvd Disconnect Complete',\n",
       "       'LMP_features_req', 'LMP_features_res', 'LMP_features_req_ext',\n",
       "       'LMP_features_res_ext', 'LMP_not_accepted_ext', 'LMP_version_res',\n",
       "       'LMP_setup_complete', 'LMP_max_slot', 'LMP_accepted',\n",
       "       'LMP_timing_accuracy_req', 'LMP_timing_accuracy_res',\n",
       "       'LMP_power_control_req', 'LMP_name_req', 'LMP_name_res',\n",
       "       'LMP_packet_type_table_req',\n",
       "       'Information Request (Extended Features Mask)',\n",
       "       'LMP_host_connection_req',\n",
       "       'Rcvd Information Response (Extended Features Mask, Success)',\n",
       "       'Sent Information Request (Fixed Channels Supported)',\n",
       "       'Rcvd Information Response (Fixed Channels Supported, Success)',\n",
       "       'Sent Connection Response - Success (SCID: 0x0041, DCID: 0x0048)',\n",
       "       'Rcvd Configure Request (DCID: 0x0048)',\n",
       "       'Sent Configure Response - Success (SCID: 0x0041)',\n",
       "       'Rcvd Configure Response - Success (SCID: 0x0048)',\n",
       "       'Rcvd Service Search Attribute Request : Public Browse Group: Attribute Range (0x0001 - 0x0100) ',\n",
       "       'Sent Service Search Attribute Response (fragment)',\n",
       "       'Sent Service Search Attribute Response ',\n",
       "       'Rcvd Disconnection Request (SCID: 0x0041, DCID: 0x0048, PSM: 0x0001, Service: SDP)',\n",
       "       'Sent Disconnection Response (SCID: 0x0041, DCID: 0x0048, PSM: 0x0001, Service: SDP)',\n",
       "       'Rcvd Connection Request (SDP, SCID: 0x0042)',\n",
       "       'Sent Connection Response - Pending (SCID: 0x0042)',\n",
       "       'Sent Connection Response - Success (SCID: 0x0042, DCID: 0x0049)',\n",
       "       'Sent Configure Request (DCID: 0x0042)',\n",
       "       'Rcvd Configure Request (DCID: 0x0049)',\n",
       "       'Sent Configure Response - Success (SCID: 0x0042)',\n",
       "       'Rcvd Configure Response - Success (SCID: 0x0049)',\n",
       "       'Rcvd Disconnection Request (SCID: 0x0042, DCID: 0x0049, PSM: 0x0001, Service: SDP)',\n",
       "       'Sent Disconnection Response (SCID: 0x0042, DCID: 0x0049, PSM: 0x0001, Service: SDP)',\n",
       "       'LMP_version_req', 'LMP_set_AFH', 'LMP_channel_classification_req',\n",
       "       'LMP_auto_rate', 'LMP_max_slot_req', 'LMP_accepted_ext',\n",
       "       'Connection Response - Pending (SCID: 0x0041)',\n",
       "       'Information Response (Extended Features Mask, Success)',\n",
       "       'Information Request (Fixed Channels Supported)',\n",
       "       'Information Response (Fixed Channels Supported, Success)',\n",
       "       'Connection Response - Success (SCID: 0x0041, DCID: 0x0048)',\n",
       "       'Configure Request (DCID: 0x0041)',\n",
       "       'Configure Request (DCID: 0x0048)',\n",
       "       'Configure Response - Success (SCID: 0x0048)',\n",
       "       'Configure Response - Success (SCID: 0x0041)',\n",
       "       'Connection oriented channel',\n",
       "       'Disconnection Request (SCID: 0x0041, DCID: 0x0048, PSM: Unknown, Service: Unknown)',\n",
       "       'Disconnection Response (SCID: 0x0041, DCID: 0x0048, PSM: Unknown, Service: Unknown)',\n",
       "       'LMP_detach', 'Connection Request (SDP, SCID: 0x0042)',\n",
       "       'Connection Response - Pending (SCID: 0x0042)',\n",
       "       'Connection Response - Success (SCID: 0x0042, DCID: 0x0049)',\n",
       "       'Configure Request (DCID: 0x0042)',\n",
       "       'Configure Request (DCID: 0x0049)',\n",
       "       'Configure Response - Success (SCID: 0x0049)',\n",
       "       'Configure Response - Success (SCID: 0x0042)',\n",
       "       'Service Search Attribute Request : Public Browse Group: Attribute Range (0x0001 - 0x0100) ',\n",
       "       'Service Search Attribute Response (fragment)',\n",
       "       'Service Search Attribute Response ',\n",
       "       'Disconnection Request (SCID: 0x0042, DCID: 0x0049, PSM: 0x0001, Service: SDP)',\n",
       "       'Disconnection Response (SCID: 0x0042, DCID: 0x0049, PSM: 0x0001, Service: SDP)',\n",
       "       'LMP_channel_classification',\n",
       "       'Sent Connection Response - Success (SCID: 0x0041, DCID: 0x0046)',\n",
       "       'Rcvd Configure Request (DCID: 0x0046)',\n",
       "       'Rcvd Configure Response - Success (SCID: 0x0046)',\n",
       "       'Rcvd Disconnection Request (SCID: 0x0041, DCID: 0x0046, PSM: 0x0001, Service: SDP)',\n",
       "       'Sent Disconnection Response (SCID: 0x0041, DCID: 0x0046, PSM: 0x0001, Service: SDP)',\n",
       "       'Connection Request (SDP, SCID: 0x0041)',\n",
       "       'Connection Response - Success (SCID: 0x0041, DCID: 0x0046)',\n",
       "       'Configure Request (DCID: 0x0046)',\n",
       "       'Configure Response - Success (SCID: 0x0046)',\n",
       "       'Disconnection Request (SCID: 0x0041, DCID: 0x0046, PSM: 0x0001, Service: SDP)',\n",
       "       'Disconnection Response (SCID: 0x0041, DCID: 0x0046, PSM: 0x0001, Service: SDP)',\n",
       "       'Sent Connection Response - Success (SCID: 0x0041, DCID: 0x0045)',\n",
       "       'Rcvd Configure Request (DCID: 0x0045)',\n",
       "       'Rcvd Configure Response - Success (SCID: 0x0045)',\n",
       "       'Rcvd Disconnection Request (SCID: 0x0041, DCID: 0x0045, PSM: 0x0001, Service: SDP)',\n",
       "       'Sent Disconnection Response (SCID: 0x0041, DCID: 0x0045, PSM: 0x0001, Service: SDP)',\n",
       "       'Connection Response - Success (SCID: 0x0041, DCID: 0x0045)',\n",
       "       'Configure Request (DCID: 0x0045)',\n",
       "       'Configure Response - Success (SCID: 0x0045)',\n",
       "       'Disconnection Request (SCID: 0x0041, DCID: 0x0045, PSM: Unknown, Service: Unknown)',\n",
       "       'Disconnection Response (SCID: 0x0041, DCID: 0x0045, PSM: Unknown, Service: Unknown)',\n",
       "       'LMP_slot_offset', 'LMP_switch_req', 'Rcvd Role Change',\n",
       "       'LMP_auto_rate[Dissector bug, protocol esp32_btlmp: ../libs/wireshark/plugins/epan/h4bcm/packet-btbrlmp.c:3130: failed assertion \"len == 1\"]',\n",
       "       'LMP_accepted[Dissector bug, protocol esp32_btlmp: ../libs/wireshark/plugins/epan/h4bcm/packet-btbrlmp.c:2691: failed assertion \"len == 2\"]',\n",
       "       'Unknown Opcode (84)',\n",
       "       'Sent Connection Response - Success (SCID: 0x0041, DCID: 0x0047)',\n",
       "       'Unknown Opcode (91)', 'Sent LE Set Scan Parameters',\n",
       "       'Rcvd Command Complete (LE Set Scan Parameters)',\n",
       "       'Sent LE Set Scan Enable',\n",
       "       'Rcvd Command Complete (LE Set Scan Enable)',\n",
       "       'Sent Set Event Filter',\n",
       "       'Rcvd Command Complete (Set Event Filter)',\n",
       "       'Sent Write Current IAC LAP',\n",
       "       'Rcvd LE Meta (LE Advertising Report)',\n",
       "       'Rcvd Command Complete (Write Current IAC LAP)',\n",
       "       'Sent Write Scan Enable',\n",
       "       'Rcvd Command Complete (Write Scan Enable)', 'Sent Inquiry',\n",
       "       'Rcvd Command Status (Inquiry)', 'Rcvd Inquiry Complete',\n",
       "       'LMP_clkoffset_req', 'LMP_preferred_rate', 'LMP_clkoffset_res',\n",
       "       'Rcvd Link Supervision Timeout Changed', 'LMP_supervision_timeout',\n",
       "       'Rcvd Information Request (Extended Features Mask)',\n",
       "       'Sent Information Response (Extended Features Mask, Success)',\n",
       "       'Rcvd Information Request (Fixed Channels Supported)',\n",
       "       'Sent Information Response (Fixed Channels Supported, Success)',\n",
       "       'Rcvd IO Capability Response', 'Rcvd IO Capability Request',\n",
       "       'LMP_IO_Capability_req', 'Sent IO Capability Request Reply',\n",
       "       'Rcvd Command Complete (IO Capability Request Reply)',\n",
       "       'LMP_IO_Capability_res', 'LMP_encapsulated_header',\n",
       "       'LMP_encapsulated_payload', 'LMP_Simple_Pairing_Confirm',\n",
       "       'LMP_Simple_Pairing_Number', 'Rcvd User Confirmation Request',\n",
       "       'LMP_power_control_res', 'Sent User Confirmation Request Reply',\n",
       "       'Rcvd Command Complete (User Confirmation Request Reply)',\n",
       "       'LMP_DHkey_Check', 'Rcvd Simple Pairing Complete', 'LMP_sres',\n",
       "       'Rcvd Link Key Notification', 'LMP_encryption_key_size_mask_req',\n",
       "       'LMP_encryption_key_size_mask_res', 'LMP_encryption_mode_req',\n",
       "       'LMP_encryption_key_size_req', 'Rcvd Encryption Change',\n",
       "       'LMP_start_encryption_req',\n",
       "       'Rcvd Connection Request (BNEP, SCID: 0x0040)',\n",
       "       'Sent Connection Response - Success (SCID: 0x0040, DCID: 0x0045)',\n",
       "       'Sent Configure Request (DCID: 0x0040)',\n",
       "       'Sent Connection Request (SDP, SCID: 0x0046)',\n",
       "       'Sent Configure Response - Success (SCID: 0x0040)',\n",
       "       'Rcvd Connection Response - Success (SCID: 0x0046, DCID: 0x0041)',\n",
       "       'Rcvd Control - Setup Connection Request - dst: <PAN NAP>, src: <PAN PANU>',\n",
       "       'Sent Control - Setup Connection Response - Operation Successful',\n",
       "       'Sent Sniff Subrating',\n",
       "       'Sent Disconnection Request (SCID: 0x0045, DCID: 0x0040, PSM: 0x000f, Service: BNEP)',\n",
       "       'Rcvd Command Complete (Sniff Subrating)',\n",
       "       'Sent Service Search Attribute Request : PnP Information: Attribute Range (0x0000 - 0xffff) ',\n",
       "       'Rcvd Disconnection Response (SCID: 0x0045, DCID: 0x0040, PSM: 0x000f, Service: BNEP)',\n",
       "       'Rcvd Service Search Attribute Response ',\n",
       "       'Sent Disconnection Request (SCID: 0x0046, DCID: 0x0041, PSM: 0x0001, Service: SDP)',\n",
       "       'Sent Connection Response - Success (SCID: 0x0042, DCID: 0x0047)',\n",
       "       'Rcvd Disconnection Response (SCID: 0x0046, DCID: 0x0041, PSM: 0x0001, Service: SDP)',\n",
       "       'Sent Connection Request (SDP, SCID: 0x0048)',\n",
       "       'Rcvd Configure Request (DCID: 0x0047)',\n",
       "       'Rcvd Configure Response - Success (SCID: 0x0047)',\n",
       "       'Rcvd Connection Response - Success (SCID: 0x0048, DCID: 0x0043)',\n",
       "       'Sent Configure Request (DCID: 0x0043)',\n",
       "       'Sent Configure Response - Success (SCID: 0x0043)',\n",
       "       'Rcvd Service Search Attribute Request : PnP Information: Attribute Range (0x0000 - 0xffff) ',\n",
       "       'Sent Service Search Attribute Request : L2CAP: Attribute Range (0x0000 - 0xffff) ',\n",
       "       'Rcvd Disconnection Request (SCID: 0x0042, DCID: 0x0047, PSM: 0x0001, Service: SDP)',\n",
       "       'Sent Disconnection Response (SCID: 0x0042, DCID: 0x0047, PSM: 0x0001, Service: SDP)',\n",
       "       'Rcvd Service Search Attribute Response (fragment)',\n",
       "       'Rcvd Connection Request (SDP, SCID: 0x0044)',\n",
       "       'Sent Connection Response - Success (SCID: 0x0044, DCID: 0x0049)',\n",
       "       'Sent Configure Request (DCID: 0x0044)',\n",
       "       'Sent Disconnection Request (SCID: 0x0048, DCID: 0x0043, PSM: 0x0001, Service: SDP)',\n",
       "       'Sent Configure Response - Success (SCID: 0x0044)',\n",
       "       'Rcvd Disconnection Response (SCID: 0x0048, DCID: 0x0043, PSM: 0x0001, Service: SDP)',\n",
       "       'Rcvd Service Search Attribute Request : L2CAP: Attribute Range (0x0000 - 0xffff) ',\n",
       "       'Rcvd Disconnection Request (SCID: 0x0044, DCID: 0x0049, PSM: 0x0001, Service: SDP)',\n",
       "       'Sent Disconnection Response (SCID: 0x0044, DCID: 0x0049, PSM: 0x0001, Service: SDP)',\n",
       "       'Sent Disconnect', 'Rcvd Command Status (Disconnect)',\n",
       "       'Rcvd Connection Request (SDP, SCID: 0x0046)',\n",
       "       'Sent Connection Response - Success (SCID: 0x0046, DCID: 0x004a)',\n",
       "       'Sent Configure Request (DCID: 0x0046)',\n",
       "       'Rcvd Configure Request (DCID: 0x004a)',\n",
       "       'Sent Configure Response - Success (SCID: 0x0046)',\n",
       "       'Rcvd Configure Response - Success (SCID: 0x004a)',\n",
       "       'Rcvd Service Search Attribute Request : OBEX Object Push: Attribute Range (0x0000 - 0xffff) ',\n",
       "       'Rcvd Disconnection Request (SCID: 0x0046, DCID: 0x004a, PSM: 0x0001, Service: SDP)',\n",
       "       'Sent Disconnection Response (SCID: 0x0046, DCID: 0x004a, PSM: 0x0001, Service: SDP)',\n",
       "       'Rcvd Connection Request (SDP, SCID: 0x0047)',\n",
       "       'Sent Connection Response - Success (SCID: 0x0047, DCID: 0x004b)',\n",
       "       'Sent Configure Request (DCID: 0x0047)',\n",
       "       'Rcvd Configure Request (DCID: 0x004b)',\n",
       "       'Sent Configure Response - Success (SCID: 0x0047)',\n",
       "       'Rcvd Configure Response - Success (SCID: 0x004b)',\n",
       "       'Rcvd Disconnection Request (SCID: 0x0047, DCID: 0x004b, PSM: 0x0001, Service: SDP)',\n",
       "       'Sent Disconnection Response (SCID: 0x0047, DCID: 0x004b, PSM: 0x0001, Service: SDP)',\n",
       "       'Sent Link Key Request Reply',\n",
       "       'Rcvd Command Complete (Link Key Request Reply)',\n",
       "       'Rcvd Connection Request (RFCOMM, SCID: 0x0048)',\n",
       "       'Sent Connection Response - Success (SCID: 0x0048, DCID: 0x004c)',\n",
       "       'Sent Configure Request (DCID: 0x0048)',\n",
       "       'Rcvd Configure Request (DCID: 0x004c)',\n",
       "       'Sent Configure Response - Success (SCID: 0x0048)',\n",
       "       'Rcvd Configure Response - Success (SCID: 0x004c)',\n",
       "       'Rcvd SABM Channel=0 ', 'Sent UA Channel=0 ',\n",
       "       'Rcvd UIH Channel=0 -> 12 MPX_CTRL DLC Parameter Negotiation (PN) ',\n",
       "       'Sent UIH Channel=0 -> 12 MPX_CTRL DLC Parameter Negotiation (PN) ',\n",
       "       'Rcvd SABM Channel=12 (OBEX Object Push) ', 'Sent UA Channel=12 ',\n",
       "       'Rcvd UIH Channel=0 -> 12 MPX_CTRL Modem Status Command (MSC) ',\n",
       "       'Sent UIH Channel=0 -> 12 MPX_CTRL Modem Status Command (MSC) ',\n",
       "       'Rcvd Connect', 'Sent Success', 'Rcvd OBEX fragment',\n",
       "       'Sent UIH Channel=12 UID ',\n",
       "       'Rcvd Put continue \"IMG-20221213-WA0013.jpeg\" (JPEG JFIF image)',\n",
       "       'Rcvd Mode Change', 'LMP_sniff_subrating_req',\n",
       "       'Rcvd Sniff Subrating', 'LMP_sniff_subrating_res',\n",
       "       'Sent Exit Sniff Mode', 'Sent Continue',\n",
       "       'Rcvd Command Status (Exit Sniff Mode)', 'LMP_unsniff_req',\n",
       "       'Rcvd Put continue', 'Rcvd Put final', 'Rcvd Disconnect',\n",
       "       'Sent DISC Channel=12 ', 'Rcvd DISC Channel=12 ',\n",
       "       'Rcvd DM Channel=12 ', 'Sent DM Channel=12 ',\n",
       "       'Sent DISC Channel=0 ', 'Rcvd DISC Channel=0 ',\n",
       "       'Rcvd UA Channel=0 ',\n",
       "       'Sent Disconnection Request (SCID: 0x004c, DCID: 0x0048, PSM: 0x0003, Service: RFCOMM)',\n",
       "       'Rcvd Disconnection Request (SCID: 0x0048, DCID: 0x004c, PSM: 0x0003, Service: RFCOMM)',\n",
       "       'Sent Disconnection Response (SCID: 0x0048, DCID: 0x004c, PSM: 0x0003, Service: RFCOMM)',\n",
       "       'Rcvd Disconnection Response (SCID: 0x004c, DCID: 0x0048, PSM: 0x0003, Service: RFCOMM)',\n",
       "       'Rcvd Connection Request (SDP, SCID: 0x0049)',\n",
       "       'Sent Connection Response - Success (SCID: 0x0049, DCID: 0x004d)',\n",
       "       'Sent Configure Request (DCID: 0x0049)',\n",
       "       'Rcvd Configure Request (DCID: 0x004d)',\n",
       "       'Sent Configure Response - Success (SCID: 0x0049)',\n",
       "       'Rcvd Configure Response - Success (SCID: 0x004d)',\n",
       "       'Rcvd Disconnection Request (SCID: 0x0049, DCID: 0x004d, PSM: 0x0001, Service: SDP)',\n",
       "       'Sent Disconnection Response (SCID: 0x0049, DCID: 0x004d, PSM: 0x0001, Service: SDP)',\n",
       "       'Rcvd Connection Request (SDP, SCID: 0x004a)',\n",
       "       'Sent Connection Response - Success (SCID: 0x004a, DCID: 0x004e)',\n",
       "       'Sent Configure Request (DCID: 0x004a)',\n",
       "       'Rcvd Configure Request (DCID: 0x004e)',\n",
       "       'Sent Configure Response - Success (SCID: 0x004a)',\n",
       "       'Rcvd Configure Response - Success (SCID: 0x004e)',\n",
       "       'Rcvd Disconnection Request (SCID: 0x004a, DCID: 0x004e, PSM: 0x0001, Service: SDP)',\n",
       "       'Sent Disconnection Response (SCID: 0x004a, DCID: 0x004e, PSM: 0x0001, Service: SDP)',\n",
       "       'Rcvd Connection Request (RFCOMM, SCID: 0x004b)',\n",
       "       'Sent Connection Response - Success (SCID: 0x004b, DCID: 0x004f)',\n",
       "       'Sent Configure Request (DCID: 0x004b)',\n",
       "       'Rcvd Configure Request (DCID: 0x004f)',\n",
       "       'Sent Configure Response - Success (SCID: 0x004b)',\n",
       "       'Rcvd Configure Response - Success (SCID: 0x004f)',\n",
       "       'Rcvd Put continue \"IMG_20221213_163415.jpg\" (JPEG JFIF image)'],\n",
       "      dtype=object)"
      ]
     },
     "execution_count": 6,
     "metadata": {},
     "output_type": "execute_result"
    }
   ],
   "source": [
    "count_false = (dataset['Delta'] == False).sum()\n",
    "print(f'False values in column Delta: {count_false}')\n",
    "dataset[\"Info\"].unique()"
   ]
  },
  {
   "cell_type": "code",
   "execution_count": null,
   "id": "db304143",
   "metadata": {},
   "outputs": [
    {
     "name": "stdout",
     "output_type": "stream",
     "text": [
      "1661    0.0\n",
      "1896    0.0\n",
      "2116    0.0\n",
      "2249    0.0\n",
      "Name: Delta, dtype: float64\n"
     ]
    }
   ],
   "source": [
    "mask = (dataset['Delta'] == False)\n",
    "\n",
    "# Imprime los valores False\n",
    "print(dataset.loc[mask, 'Delta'])"
   ]
  },
  {
   "cell_type": "code",
   "execution_count": null,
   "id": "afbbf669",
   "metadata": {},
   "outputs": [
    {
     "name": "stdout",
     "output_type": "stream",
     "text": [
      "Null values:\n",
      "Protocol    0\n",
      "Info        0\n",
      "Length      0\n",
      "Delta       0\n",
      "Type        0\n",
      "dtype: int64\n",
      "\n",
      "Duplicated values: 0\n"
     ]
    }
   ],
   "source": [
    "# Check if we have duplicated values or null values\n",
    "print(f\"Null values:\\n{dataset.isna().sum()}\\n\")\n",
    "print(f\"Duplicated values: {dataset.duplicated().sum()}\")"
   ]
  },
  {
   "cell_type": "code",
   "execution_count": null,
   "id": "77b339c0",
   "metadata": {
    "scrolled": true
   },
   "outputs": [
    {
     "name": "stdout",
     "output_type": "stream",
     "text": [
      "['au_rand_flooding' 'duplicated_encapsulated_payload' 'duplicated_iocap'\n",
      " 'truncated_sco_link_request' 'feature_response_flooding'\n",
      " 'invalid_feature_page_execution' 'lmp_auto_rate_overflow'\n",
      " 'lmp_overflow_dm1' 'truncated_lmp_accepted' 'invalid_setup_complete'\n",
      " 'invalid_timing_accuracy' 'normal']\n",
      "['HCI_EVT' 'HCI_CMD' 'HCI H4 Broadcom' 'LMP' 'Baseband' 'L2CAP' 'SDP'\n",
      " 'BNEP' 'RFCOMM' 'OBEX']\n"
     ]
    }
   ],
   "source": [
    "# Check the types we have for the protocols\n",
    "print(dataset[\"Type\"].unique())\n",
    "print(dataset[\"Protocol\"].unique())"
   ]
  },
  {
   "cell_type": "code",
   "execution_count": null,
   "id": "1ec75e24",
   "metadata": {},
   "outputs": [
    {
     "data": {
      "text/plain": [
       "count     6402\n",
       "unique      10\n",
       "top       OBEX\n",
       "freq      2575\n",
       "Name: Protocol, dtype: object"
      ]
     },
     "execution_count": 10,
     "metadata": {},
     "output_type": "execute_result"
    }
   ],
   "source": [
    "dataset[\"Protocol\"].describe()"
   ]
  },
  {
   "attachments": {},
   "cell_type": "markdown",
   "id": "acba3b19",
   "metadata": {},
   "source": [
    "# Check the count of the Protocols\n",
    "To see how the number of total protocols are distributed, we incorporate a bar graph and as well a table from ascendent to descendent in order to visualize which protocol attack .\n"
   ]
  },
  {
   "cell_type": "code",
   "execution_count": null,
   "id": "75e647cf",
   "metadata": {},
   "outputs": [
    {
     "data": {
      "text/plain": [
       "OBEX               2575\n",
       "LMP                1546\n",
       "HCI_EVT             964\n",
       "RFCOMM              638\n",
       "HCI_CMD             287\n",
       "L2CAP               231\n",
       "Baseband             78\n",
       "SDP                  44\n",
       "HCI H4 Broadcom      37\n",
       "BNEP                  2\n",
       "Name: Protocol, dtype: int64"
      ]
     },
     "execution_count": 11,
     "metadata": {},
     "output_type": "execute_result"
    }
   ],
   "source": [
    "# Count the occurrences of each protocol\n",
    "#dataset = dataset.shape()\n",
    "protocol_counts = dataset['Protocol'].value_counts()\n",
    "protocol_counts"
   ]
  },
  {
   "cell_type": "code",
   "execution_count": null,
   "id": "c8598d16",
   "metadata": {
    "scrolled": true
   },
   "outputs": [
    {
     "data": {
      "image/png": "[encoded data removed]",
      "text/plain": [
       "<Figure size 1400x400 with 1 Axes>"
      ]
     },
     "metadata": {},
     "output_type": "display_data"
    }
   ],
   "source": [
    "# Create a bar plot using Matplotlib\n",
    "plt.figure(figsize=(14, 4))\n",
    "plt.bar(protocol_counts.index, protocol_counts.values, color='c')\n",
    "plt.title('Distribution of Protocols')\n",
    "plt.grid(False)\n",
    "plt.xlabel('Protocol')\n",
    "plt.ylabel('Count')\n",
    "plt.show()"
   ]
  },
  {
   "cell_type": "code",
   "execution_count": null,
   "id": "0abf031c",
   "metadata": {},
   "outputs": [
    {
     "data": {
      "text/plain": [
       "normal                             4055\n",
       "au_rand_flooding                    526\n",
       "truncated_sco_link_request          304\n",
       "duplicated_iocap                    277\n",
       "invalid_feature_page_execution      239\n",
       "truncated_lmp_accepted              236\n",
       "invalid_timing_accuracy             188\n",
       "feature_response_flooding           161\n",
       "lmp_overflow_dm1                    142\n",
       "lmp_auto_rate_overflow              124\n",
       "duplicated_encapsulated_payload      94\n",
       "invalid_setup_complete               56\n",
       "Name: Type, dtype: int64"
      ]
     },
     "execution_count": 13,
     "metadata": {},
     "output_type": "execute_result"
    }
   ],
   "source": [
    "type_counts = dataset['Type'].value_counts()\n",
    "type_counts"
   ]
  },
  {
   "cell_type": "code",
   "execution_count": null,
   "id": "b4b3e526",
   "metadata": {
    "scrolled": false
   },
   "outputs": [
    {
     "data": {
      "image/png": "[encoded data removed]",
      "text/plain": [
       "<Figure size 1200x400 with 1 Axes>"
      ]
     },
     "metadata": {},
     "output_type": "display_data"
    }
   ],
   "source": [
    "# Create a bar plot using Matplotlib\n",
    "plt.figure(figsize=(12, 4))\n",
    "plt.barh(type_counts.index, type_counts.values, color='c')\n",
    "plt.title('Distribution of Types')\n",
    "plt.gca().invert_yaxis()\n",
    "plt.xlabel('Count')\n",
    "plt.ylabel('Type')\n",
    "plt.show()"
   ]
  },
  {
   "cell_type": "code",
   "execution_count": null,
   "id": "4ba31aa1",
   "metadata": {},
   "outputs": [],
   "source": [
    "# Rename the columns if its not normal, then it will be attack\n",
    "dataset[\"Type\"] = dataset[\"Type\"].str.replace(\"normal\", \"No Attack\")\n",
    "# Numpy where to check where values are different from no attack\n",
    "dataset[\"Type\"] = np.where(dataset[\"Type\"]!= \"No Attack\", \"Attack\", dataset[\"Type\"])\n"
   ]
  },
  {
   "cell_type": "code",
   "execution_count": null,
   "id": "2175e29a",
   "metadata": {
    "scrolled": true
   },
   "outputs": [
    {
     "data": {
      "text/plain": [
       "No Attack    4055\n",
       "Attack       2347\n",
       "Name: Type, dtype: int64"
      ]
     },
     "execution_count": 16,
     "metadata": {},
     "output_type": "execute_result"
    }
   ],
   "source": [
    "type_counts = dataset['Type'].value_counts()\n",
    "type_counts"
   ]
  },
  {
   "cell_type": "code",
   "execution_count": null,
   "id": "ad8dce34",
   "metadata": {
    "scrolled": true
   },
   "outputs": [
    {
     "data": {
      "image/png": "[encoded data removed]",
      "text/plain": [
       "<Figure size 600x300 with 1 Axes>"
      ]
     },
     "metadata": {},
     "output_type": "display_data"
    }
   ],
   "source": [
    "# Create a bar plot using Matplotlib\n",
    "plt.figure(figsize=(6, 3))\n",
    "plt.bar(type_counts.index, type_counts.values, color='c')\n",
    "plt.title('Distribution of Types')\n",
    "plt.xlabel('Type')\n",
    "plt.ylabel('Count')\n",
    "plt.show()"
   ]
  },
  {
   "attachments": {},
   "cell_type": "markdown",
   "id": "80640900",
   "metadata": {},
   "source": [
    "## Clean our information\n",
    "Seeing the info column, we can see that the dataset have repeated values as well after the \"()\" characters or \"-\" character. In this case, we would implement a method to delete the rest of the string if it detects one of this special characters."
   ]
  },
  {
   "cell_type": "code",
   "execution_count": null,
   "id": "93650990",
   "metadata": {},
   "outputs": [
    {
     "data": {
      "text/plain": [
       "array(['Rcvd Link Key Request', 'Sent Link Key Request Negative Reply',\n",
       "       'Rcvd Command Complete (Link Key Request Negative Reply)',\n",
       "       'LM Sent', 'LMP_au_rand', 'FHS', 'LMP_not_accepted', 'LM Received',\n",
       "       'Rcvd Connect Request', 'Sent Accept Connection Request',\n",
       "       'Rcvd Command Status (Accept Connection Request)',\n",
       "       'Rcvd Connect Complete', 'Sent Read Clock offset',\n",
       "       'Sent Information Request (Extended Features Mask)',\n",
       "       'Rcvd Max Slots Change',\n",
       "       'Rcvd Connection Request (SDP, SCID: 0x0041)',\n",
       "       'Rcvd Command Status (Read Clock offset)',\n",
       "       'Sent Read Remote Version Information',\n",
       "       'Sent Connection Response - Pending (SCID: 0x0041)',\n",
       "       'Rcvd Read Clock Offset Complete',\n",
       "       'Rcvd Command Status (Read Remote Version Information)',\n",
       "       'Sent Read Remote Supported Features',\n",
       "       'Rcvd Read Remote Version Information Complete',\n",
       "       'Rcvd Command Status (Read Remote Supported Features)',\n",
       "       'Sent Remote Name Request', 'Rcvd Read Remote Supported Features',\n",
       "       'Rcvd Command Status (Remote Name Request)',\n",
       "       'Sent Write Link Policy Settings',\n",
       "       'Rcvd Command Complete (Write Link Policy Settings)',\n",
       "       'Sent Read Remote Extended Features',\n",
       "       'Rcvd Command Status (Read Remote Extended Features)',\n",
       "       'Rcvd Read Remote Extended Features Complete',\n",
       "       'Sent Change Connection Packet Type',\n",
       "       'Rcvd Command Status (Change Connection Packet Type)',\n",
       "       'Rcvd Connection Packet Type Changed',\n",
       "       'Sent Connection Response - Success (SCID: 0x0041, DCID: 0x0044)',\n",
       "       'Sent Configure Request (DCID: 0x0041)',\n",
       "       'Rcvd Remote Name Request Complete',\n",
       "       'Rcvd Number of Completed Packets', 'Rcvd Disconnect Complete',\n",
       "       'LMP_features_req', 'LMP_features_res', 'LMP_features_req_ext',\n",
       "       'LMP_features_res_ext', 'LMP_not_accepted_ext', 'LMP_version_res',\n",
       "       'LMP_setup_complete', 'LMP_max_slot', 'LMP_accepted',\n",
       "       'LMP_timing_accuracy_req', 'LMP_timing_accuracy_res',\n",
       "       'LMP_power_control_req', 'LMP_name_req', 'LMP_name_res',\n",
       "       'LMP_packet_type_table_req',\n",
       "       'Information Request (Extended Features Mask)',\n",
       "       'LMP_host_connection_req',\n",
       "       'Rcvd Information Response (Extended Features Mask, Success)',\n",
       "       'Sent Information Request (Fixed Channels Supported)',\n",
       "       'Rcvd Information Response (Fixed Channels Supported, Success)',\n",
       "       'Sent Connection Response - Success (SCID: 0x0041, DCID: 0x0048)',\n",
       "       'Rcvd Configure Request (DCID: 0x0048)',\n",
       "       'Sent Configure Response - Success (SCID: 0x0041)',\n",
       "       'Rcvd Configure Response - Success (SCID: 0x0048)',\n",
       "       'Rcvd Service Search Attribute Request : Public Browse Group: Attribute Range (0x0001 - 0x0100) ',\n",
       "       'Sent Service Search Attribute Response (fragment)',\n",
       "       'Sent Service Search Attribute Response ',\n",
       "       'Rcvd Disconnection Request (SCID: 0x0041, DCID: 0x0048, PSM: 0x0001, Service: SDP)',\n",
       "       'Sent Disconnection Response (SCID: 0x0041, DCID: 0x0048, PSM: 0x0001, Service: SDP)',\n",
       "       'Rcvd Connection Request (SDP, SCID: 0x0042)',\n",
       "       'Sent Connection Response - Pending (SCID: 0x0042)',\n",
       "       'Sent Connection Response - Success (SCID: 0x0042, DCID: 0x0049)',\n",
       "       'Sent Configure Request (DCID: 0x0042)',\n",
       "       'Rcvd Configure Request (DCID: 0x0049)',\n",
       "       'Sent Configure Response - Success (SCID: 0x0042)',\n",
       "       'Rcvd Configure Response - Success (SCID: 0x0049)',\n",
       "       'Rcvd Disconnection Request (SCID: 0x0042, DCID: 0x0049, PSM: 0x0001, Service: SDP)',\n",
       "       'Sent Disconnection Response (SCID: 0x0042, DCID: 0x0049, PSM: 0x0001, Service: SDP)',\n",
       "       'LMP_version_req', 'LMP_set_AFH', 'LMP_channel_classification_req',\n",
       "       'LMP_auto_rate', 'LMP_max_slot_req', 'LMP_accepted_ext',\n",
       "       'Connection Response - Pending (SCID: 0x0041)',\n",
       "       'Information Response (Extended Features Mask, Success)',\n",
       "       'Information Request (Fixed Channels Supported)',\n",
       "       'Information Response (Fixed Channels Supported, Success)',\n",
       "       'Connection Response - Success (SCID: 0x0041, DCID: 0x0048)',\n",
       "       'Configure Request (DCID: 0x0041)',\n",
       "       'Configure Request (DCID: 0x0048)',\n",
       "       'Configure Response - Success (SCID: 0x0048)',\n",
       "       'Configure Response - Success (SCID: 0x0041)',\n",
       "       'Connection oriented channel',\n",
       "       'Disconnection Request (SCID: 0x0041, DCID: 0x0048, PSM: Unknown, Service: Unknown)',\n",
       "       'Disconnection Response (SCID: 0x0041, DCID: 0x0048, PSM: Unknown, Service: Unknown)',\n",
       "       'LMP_detach', 'Connection Request (SDP, SCID: 0x0042)',\n",
       "       'Connection Response - Pending (SCID: 0x0042)',\n",
       "       'Connection Response - Success (SCID: 0x0042, DCID: 0x0049)',\n",
       "       'Configure Request (DCID: 0x0042)',\n",
       "       'Configure Request (DCID: 0x0049)',\n",
       "       'Configure Response - Success (SCID: 0x0049)',\n",
       "       'Configure Response - Success (SCID: 0x0042)',\n",
       "       'Service Search Attribute Request : Public Browse Group: Attribute Range (0x0001 - 0x0100) ',\n",
       "       'Service Search Attribute Response (fragment)',\n",
       "       'Service Search Attribute Response ',\n",
       "       'Disconnection Request (SCID: 0x0042, DCID: 0x0049, PSM: 0x0001, Service: SDP)',\n",
       "       'Disconnection Response (SCID: 0x0042, DCID: 0x0049, PSM: 0x0001, Service: SDP)',\n",
       "       'LMP_channel_classification',\n",
       "       'Sent Connection Response - Success (SCID: 0x0041, DCID: 0x0046)',\n",
       "       'Rcvd Configure Request (DCID: 0x0046)',\n",
       "       'Rcvd Configure Response - Success (SCID: 0x0046)',\n",
       "       'Rcvd Disconnection Request (SCID: 0x0041, DCID: 0x0046, PSM: 0x0001, Service: SDP)',\n",
       "       'Sent Disconnection Response (SCID: 0x0041, DCID: 0x0046, PSM: 0x0001, Service: SDP)',\n",
       "       'Connection Request (SDP, SCID: 0x0041)',\n",
       "       'Connection Response - Success (SCID: 0x0041, DCID: 0x0046)',\n",
       "       'Configure Request (DCID: 0x0046)',\n",
       "       'Configure Response - Success (SCID: 0x0046)',\n",
       "       'Disconnection Request (SCID: 0x0041, DCID: 0x0046, PSM: 0x0001, Service: SDP)',\n",
       "       'Disconnection Response (SCID: 0x0041, DCID: 0x0046, PSM: 0x0001, Service: SDP)',\n",
       "       'Sent Connection Response - Success (SCID: 0x0041, DCID: 0x0045)',\n",
       "       'Rcvd Configure Request (DCID: 0x0045)',\n",
       "       'Rcvd Configure Response - Success (SCID: 0x0045)',\n",
       "       'Rcvd Disconnection Request (SCID: 0x0041, DCID: 0x0045, PSM: 0x0001, Service: SDP)',\n",
       "       'Sent Disconnection Response (SCID: 0x0041, DCID: 0x0045, PSM: 0x0001, Service: SDP)',\n",
       "       'Connection Response - Success (SCID: 0x0041, DCID: 0x0045)',\n",
       "       'Configure Request (DCID: 0x0045)',\n",
       "       'Configure Response - Success (SCID: 0x0045)',\n",
       "       'Disconnection Request (SCID: 0x0041, DCID: 0x0045, PSM: Unknown, Service: Unknown)',\n",
       "       'Disconnection Response (SCID: 0x0041, DCID: 0x0045, PSM: Unknown, Service: Unknown)',\n",
       "       'LMP_slot_offset', 'LMP_switch_req', 'Rcvd Role Change',\n",
       "       'LMP_auto_rate[Dissector bug, protocol esp32_btlmp: ../libs/wireshark/plugins/epan/h4bcm/packet-btbrlmp.c:3130: failed assertion \"len == 1\"]',\n",
       "       'LMP_accepted[Dissector bug, protocol esp32_btlmp: ../libs/wireshark/plugins/epan/h4bcm/packet-btbrlmp.c:2691: failed assertion \"len == 2\"]',\n",
       "       'Unknown Opcode (84)',\n",
       "       'Sent Connection Response - Success (SCID: 0x0041, DCID: 0x0047)',\n",
       "       'Unknown Opcode (91)', 'Sent LE Set Scan Parameters',\n",
       "       'Rcvd Command Complete (LE Set Scan Parameters)',\n",
       "       'Sent LE Set Scan Enable',\n",
       "       'Rcvd Command Complete (LE Set Scan Enable)',\n",
       "       'Sent Set Event Filter',\n",
       "       'Rcvd Command Complete (Set Event Filter)',\n",
       "       'Sent Write Current IAC LAP',\n",
       "       'Rcvd LE Meta (LE Advertising Report)',\n",
       "       'Rcvd Command Complete (Write Current IAC LAP)',\n",
       "       'Sent Write Scan Enable',\n",
       "       'Rcvd Command Complete (Write Scan Enable)', 'Sent Inquiry',\n",
       "       'Rcvd Command Status (Inquiry)', 'Rcvd Inquiry Complete',\n",
       "       'LMP_clkoffset_req', 'LMP_preferred_rate', 'LMP_clkoffset_res',\n",
       "       'Rcvd Link Supervision Timeout Changed', 'LMP_supervision_timeout',\n",
       "       'Rcvd Information Request (Extended Features Mask)',\n",
       "       'Sent Information Response (Extended Features Mask, Success)',\n",
       "       'Rcvd Information Request (Fixed Channels Supported)',\n",
       "       'Sent Information Response (Fixed Channels Supported, Success)',\n",
       "       'Rcvd IO Capability Response', 'Rcvd IO Capability Request',\n",
       "       'LMP_IO_Capability_req', 'Sent IO Capability Request Reply',\n",
       "       'Rcvd Command Complete (IO Capability Request Reply)',\n",
       "       'LMP_IO_Capability_res', 'LMP_encapsulated_header',\n",
       "       'LMP_encapsulated_payload', 'LMP_Simple_Pairing_Confirm',\n",
       "       'LMP_Simple_Pairing_Number', 'Rcvd User Confirmation Request',\n",
       "       'LMP_power_control_res', 'Sent User Confirmation Request Reply',\n",
       "       'Rcvd Command Complete (User Confirmation Request Reply)',\n",
       "       'LMP_DHkey_Check', 'Rcvd Simple Pairing Complete', 'LMP_sres',\n",
       "       'Rcvd Link Key Notification', 'LMP_encryption_key_size_mask_req',\n",
       "       'LMP_encryption_key_size_mask_res', 'LMP_encryption_mode_req',\n",
       "       'LMP_encryption_key_size_req', 'Rcvd Encryption Change',\n",
       "       'LMP_start_encryption_req',\n",
       "       'Rcvd Connection Request (BNEP, SCID: 0x0040)',\n",
       "       'Sent Connection Response - Success (SCID: 0x0040, DCID: 0x0045)',\n",
       "       'Sent Configure Request (DCID: 0x0040)',\n",
       "       'Sent Connection Request (SDP, SCID: 0x0046)',\n",
       "       'Sent Configure Response - Success (SCID: 0x0040)',\n",
       "       'Rcvd Connection Response - Success (SCID: 0x0046, DCID: 0x0041)',\n",
       "       'Rcvd Control - Setup Connection Request - dst: <PAN NAP>, src: <PAN PANU>',\n",
       "       'Sent Control - Setup Connection Response - Operation Successful',\n",
       "       'Sent Sniff Subrating',\n",
       "       'Sent Disconnection Request (SCID: 0x0045, DCID: 0x0040, PSM: 0x000f, Service: BNEP)',\n",
       "       'Rcvd Command Complete (Sniff Subrating)',\n",
       "       'Sent Service Search Attribute Request : PnP Information: Attribute Range (0x0000 - 0xffff) ',\n",
       "       'Rcvd Disconnection Response (SCID: 0x0045, DCID: 0x0040, PSM: 0x000f, Service: BNEP)',\n",
       "       'Rcvd Service Search Attribute Response ',\n",
       "       'Sent Disconnection Request (SCID: 0x0046, DCID: 0x0041, PSM: 0x0001, Service: SDP)',\n",
       "       'Sent Connection Response - Success (SCID: 0x0042, DCID: 0x0047)',\n",
       "       'Rcvd Disconnection Response (SCID: 0x0046, DCID: 0x0041, PSM: 0x0001, Service: SDP)',\n",
       "       'Sent Connection Request (SDP, SCID: 0x0048)',\n",
       "       'Rcvd Configure Request (DCID: 0x0047)',\n",
       "       'Rcvd Configure Response - Success (SCID: 0x0047)',\n",
       "       'Rcvd Connection Response - Success (SCID: 0x0048, DCID: 0x0043)',\n",
       "       'Sent Configure Request (DCID: 0x0043)',\n",
       "       'Sent Configure Response - Success (SCID: 0x0043)',\n",
       "       'Rcvd Service Search Attribute Request : PnP Information: Attribute Range (0x0000 - 0xffff) ',\n",
       "       'Sent Service Search Attribute Request : L2CAP: Attribute Range (0x0000 - 0xffff) ',\n",
       "       'Rcvd Disconnection Request (SCID: 0x0042, DCID: 0x0047, PSM: 0x0001, Service: SDP)',\n",
       "       'Sent Disconnection Response (SCID: 0x0042, DCID: 0x0047, PSM: 0x0001, Service: SDP)',\n",
       "       'Rcvd Service Search Attribute Response (fragment)',\n",
       "       'Rcvd Connection Request (SDP, SCID: 0x0044)',\n",
       "       'Sent Connection Response - Success (SCID: 0x0044, DCID: 0x0049)',\n",
       "       'Sent Configure Request (DCID: 0x0044)',\n",
       "       'Sent Disconnection Request (SCID: 0x0048, DCID: 0x0043, PSM: 0x0001, Service: SDP)',\n",
       "       'Sent Configure Response - Success (SCID: 0x0044)',\n",
       "       'Rcvd Disconnection Response (SCID: 0x0048, DCID: 0x0043, PSM: 0x0001, Service: SDP)',\n",
       "       'Rcvd Service Search Attribute Request : L2CAP: Attribute Range (0x0000 - 0xffff) ',\n",
       "       'Rcvd Disconnection Request (SCID: 0x0044, DCID: 0x0049, PSM: 0x0001, Service: SDP)',\n",
       "       'Sent Disconnection Response (SCID: 0x0044, DCID: 0x0049, PSM: 0x0001, Service: SDP)',\n",
       "       'Sent Disconnect', 'Rcvd Command Status (Disconnect)',\n",
       "       'Rcvd Connection Request (SDP, SCID: 0x0046)',\n",
       "       'Sent Connection Response - Success (SCID: 0x0046, DCID: 0x004a)',\n",
       "       'Sent Configure Request (DCID: 0x0046)',\n",
       "       'Rcvd Configure Request (DCID: 0x004a)',\n",
       "       'Sent Configure Response - Success (SCID: 0x0046)',\n",
       "       'Rcvd Configure Response - Success (SCID: 0x004a)',\n",
       "       'Rcvd Service Search Attribute Request : OBEX Object Push: Attribute Range (0x0000 - 0xffff) ',\n",
       "       'Rcvd Disconnection Request (SCID: 0x0046, DCID: 0x004a, PSM: 0x0001, Service: SDP)',\n",
       "       'Sent Disconnection Response (SCID: 0x0046, DCID: 0x004a, PSM: 0x0001, Service: SDP)',\n",
       "       'Rcvd Connection Request (SDP, SCID: 0x0047)',\n",
       "       'Sent Connection Response - Success (SCID: 0x0047, DCID: 0x004b)',\n",
       "       'Sent Configure Request (DCID: 0x0047)',\n",
       "       'Rcvd Configure Request (DCID: 0x004b)',\n",
       "       'Sent Configure Response - Success (SCID: 0x0047)',\n",
       "       'Rcvd Configure Response - Success (SCID: 0x004b)',\n",
       "       'Rcvd Disconnection Request (SCID: 0x0047, DCID: 0x004b, PSM: 0x0001, Service: SDP)',\n",
       "       'Sent Disconnection Response (SCID: 0x0047, DCID: 0x004b, PSM: 0x0001, Service: SDP)',\n",
       "       'Sent Link Key Request Reply',\n",
       "       'Rcvd Command Complete (Link Key Request Reply)',\n",
       "       'Rcvd Connection Request (RFCOMM, SCID: 0x0048)',\n",
       "       'Sent Connection Response - Success (SCID: 0x0048, DCID: 0x004c)',\n",
       "       'Sent Configure Request (DCID: 0x0048)',\n",
       "       'Rcvd Configure Request (DCID: 0x004c)',\n",
       "       'Sent Configure Response - Success (SCID: 0x0048)',\n",
       "       'Rcvd Configure Response - Success (SCID: 0x004c)',\n",
       "       'Rcvd SABM Channel=0 ', 'Sent UA Channel=0 ',\n",
       "       'Rcvd UIH Channel=0 -> 12 MPX_CTRL DLC Parameter Negotiation (PN) ',\n",
       "       'Sent UIH Channel=0 -> 12 MPX_CTRL DLC Parameter Negotiation (PN) ',\n",
       "       'Rcvd SABM Channel=12 (OBEX Object Push) ', 'Sent UA Channel=12 ',\n",
       "       'Rcvd UIH Channel=0 -> 12 MPX_CTRL Modem Status Command (MSC) ',\n",
       "       'Sent UIH Channel=0 -> 12 MPX_CTRL Modem Status Command (MSC) ',\n",
       "       'Rcvd Connect', 'Sent Success', 'Rcvd OBEX fragment',\n",
       "       'Sent UIH Channel=12 UID ',\n",
       "       'Rcvd Put continue \"IMG-20221213-WA0013.jpeg\" (JPEG JFIF image)',\n",
       "       'Rcvd Mode Change', 'LMP_sniff_subrating_req',\n",
       "       'Rcvd Sniff Subrating', 'LMP_sniff_subrating_res',\n",
       "       'Sent Exit Sniff Mode', 'Sent Continue',\n",
       "       'Rcvd Command Status (Exit Sniff Mode)', 'LMP_unsniff_req',\n",
       "       'Rcvd Put continue', 'Rcvd Put final', 'Rcvd Disconnect',\n",
       "       'Sent DISC Channel=12 ', 'Rcvd DISC Channel=12 ',\n",
       "       'Rcvd DM Channel=12 ', 'Sent DM Channel=12 ',\n",
       "       'Sent DISC Channel=0 ', 'Rcvd DISC Channel=0 ',\n",
       "       'Rcvd UA Channel=0 ',\n",
       "       'Sent Disconnection Request (SCID: 0x004c, DCID: 0x0048, PSM: 0x0003, Service: RFCOMM)',\n",
       "       'Rcvd Disconnection Request (SCID: 0x0048, DCID: 0x004c, PSM: 0x0003, Service: RFCOMM)',\n",
       "       'Sent Disconnection Response (SCID: 0x0048, DCID: 0x004c, PSM: 0x0003, Service: RFCOMM)',\n",
       "       'Rcvd Disconnection Response (SCID: 0x004c, DCID: 0x0048, PSM: 0x0003, Service: RFCOMM)',\n",
       "       'Rcvd Connection Request (SDP, SCID: 0x0049)',\n",
       "       'Sent Connection Response - Success (SCID: 0x0049, DCID: 0x004d)',\n",
       "       'Sent Configure Request (DCID: 0x0049)',\n",
       "       'Rcvd Configure Request (DCID: 0x004d)',\n",
       "       'Sent Configure Response - Success (SCID: 0x0049)',\n",
       "       'Rcvd Configure Response - Success (SCID: 0x004d)',\n",
       "       'Rcvd Disconnection Request (SCID: 0x0049, DCID: 0x004d, PSM: 0x0001, Service: SDP)',\n",
       "       'Sent Disconnection Response (SCID: 0x0049, DCID: 0x004d, PSM: 0x0001, Service: SDP)',\n",
       "       'Rcvd Connection Request (SDP, SCID: 0x004a)',\n",
       "       'Sent Connection Response - Success (SCID: 0x004a, DCID: 0x004e)',\n",
       "       'Sent Configure Request (DCID: 0x004a)',\n",
       "       'Rcvd Configure Request (DCID: 0x004e)',\n",
       "       'Sent Configure Response - Success (SCID: 0x004a)',\n",
       "       'Rcvd Configure Response - Success (SCID: 0x004e)',\n",
       "       'Rcvd Disconnection Request (SCID: 0x004a, DCID: 0x004e, PSM: 0x0001, Service: SDP)',\n",
       "       'Sent Disconnection Response (SCID: 0x004a, DCID: 0x004e, PSM: 0x0001, Service: SDP)',\n",
       "       'Rcvd Connection Request (RFCOMM, SCID: 0x004b)',\n",
       "       'Sent Connection Response - Success (SCID: 0x004b, DCID: 0x004f)',\n",
       "       'Sent Configure Request (DCID: 0x004b)',\n",
       "       'Rcvd Configure Request (DCID: 0x004f)',\n",
       "       'Sent Configure Response - Success (SCID: 0x004b)',\n",
       "       'Rcvd Configure Response - Success (SCID: 0x004f)',\n",
       "       'Rcvd Put continue \"IMG_20221213_163415.jpg\" (JPEG JFIF image)'],\n",
       "      dtype=object)"
      ]
     },
     "execution_count": 18,
     "metadata": {},
     "output_type": "execute_result"
    }
   ],
   "source": [
    "dataset[\"Info\"].unique()"
   ]
  },
  {
   "cell_type": "code",
   "execution_count": null,
   "id": "dda2c5f3",
   "metadata": {
    "scrolled": true
   },
   "outputs": [
    {
     "data": {
      "text/html": [
       "<div>\n",
       "<style scoped>\n",
       "    .dataframe tbody tr th:only-of-type {\n",
       "        vertical-align: middle;\n",
       "    }\n",
       "\n",
       "    .dataframe tbody tr th {\n",
       "        vertical-align: top;\n",
       "    }\n",
       "\n",
       "    .dataframe thead th {\n",
       "        text-align: right;\n",
       "    }\n",
       "</style>\n",
       "<table border=\"1\" class=\"dataframe\">\n",
       "  <thead>\n",
       "    <tr style=\"text-align: right;\">\n",
       "      <th></th>\n",
       "      <th>Protocol</th>\n",
       "      <th>Info</th>\n",
       "      <th>Length</th>\n",
       "      <th>Delta</th>\n",
       "      <th>Type</th>\n",
       "    </tr>\n",
       "  </thead>\n",
       "  <tbody>\n",
       "    <tr>\n",
       "      <th>0</th>\n",
       "      <td>HCI_EVT</td>\n",
       "      <td>Rcvd Link Key Request</td>\n",
       "      <td>9</td>\n",
       "      <td>0.010473</td>\n",
       "      <td>Attack</td>\n",
       "    </tr>\n",
       "    <tr>\n",
       "      <th>1</th>\n",
       "      <td>HCI_CMD</td>\n",
       "      <td>Sent Link Key Request Negative Reply</td>\n",
       "      <td>10</td>\n",
       "      <td>0.010473</td>\n",
       "      <td>Attack</td>\n",
       "    </tr>\n",
       "    <tr>\n",
       "      <th>2</th>\n",
       "      <td>HCI_EVT</td>\n",
       "      <td>Rcvd Link Key Request</td>\n",
       "      <td>9</td>\n",
       "      <td>0.017913</td>\n",
       "      <td>Attack</td>\n",
       "    </tr>\n",
       "    <tr>\n",
       "      <th>3</th>\n",
       "      <td>HCI_EVT</td>\n",
       "      <td>Rcvd Command Complete (Link Key Request Negati...</td>\n",
       "      <td>13</td>\n",
       "      <td>0.002642</td>\n",
       "      <td>Attack</td>\n",
       "    </tr>\n",
       "    <tr>\n",
       "      <th>4</th>\n",
       "      <td>HCI_CMD</td>\n",
       "      <td>Sent Link Key Request Negative Reply</td>\n",
       "      <td>10</td>\n",
       "      <td>0.002882</td>\n",
       "      <td>Attack</td>\n",
       "    </tr>\n",
       "    <tr>\n",
       "      <th>...</th>\n",
       "      <td>...</td>\n",
       "      <td>...</td>\n",
       "      <td>...</td>\n",
       "      <td>...</td>\n",
       "      <td>...</td>\n",
       "    </tr>\n",
       "    <tr>\n",
       "      <th>6397</th>\n",
       "      <td>RFCOMM</td>\n",
       "      <td>Sent UIH Channel=12 UID</td>\n",
       "      <td>14</td>\n",
       "      <td>0.006531</td>\n",
       "      <td>No Attack</td>\n",
       "    </tr>\n",
       "    <tr>\n",
       "      <th>6398</th>\n",
       "      <td>HCI_EVT</td>\n",
       "      <td>Rcvd Number of Completed Packets</td>\n",
       "      <td>8</td>\n",
       "      <td>0.004969</td>\n",
       "      <td>No Attack</td>\n",
       "    </tr>\n",
       "    <tr>\n",
       "      <th>6399</th>\n",
       "      <td>OBEX</td>\n",
       "      <td>Sent Continue</td>\n",
       "      <td>21</td>\n",
       "      <td>0.014489</td>\n",
       "      <td>No Attack</td>\n",
       "    </tr>\n",
       "    <tr>\n",
       "      <th>6400</th>\n",
       "      <td>LMP</td>\n",
       "      <td>LMP_power_control_req</td>\n",
       "      <td>64</td>\n",
       "      <td>0.003510</td>\n",
       "      <td>No Attack</td>\n",
       "    </tr>\n",
       "    <tr>\n",
       "      <th>6401</th>\n",
       "      <td>LMP</td>\n",
       "      <td>LMP_power_control_res</td>\n",
       "      <td>64</td>\n",
       "      <td>0.001288</td>\n",
       "      <td>No Attack</td>\n",
       "    </tr>\n",
       "  </tbody>\n",
       "</table>\n",
       "<p>6402 rows × 5 columns</p>\n",
       "</div>"
      ],
      "text/plain": [
       "     Protocol                                               Info  Length  \\\n",
       "0     HCI_EVT                              Rcvd Link Key Request       9   \n",
       "1     HCI_CMD               Sent Link Key Request Negative Reply      10   \n",
       "2     HCI_EVT                              Rcvd Link Key Request       9   \n",
       "3     HCI_EVT  Rcvd Command Complete (Link Key Request Negati...      13   \n",
       "4     HCI_CMD               Sent Link Key Request Negative Reply      10   \n",
       "...       ...                                                ...     ...   \n",
       "6397   RFCOMM                           Sent UIH Channel=12 UID       14   \n",
       "6398  HCI_EVT                   Rcvd Number of Completed Packets       8   \n",
       "6399     OBEX                                      Sent Continue      21   \n",
       "6400      LMP                              LMP_power_control_req      64   \n",
       "6401      LMP                              LMP_power_control_res      64   \n",
       "\n",
       "         Delta       Type  \n",
       "0     0.010473     Attack  \n",
       "1     0.010473     Attack  \n",
       "2     0.017913     Attack  \n",
       "3     0.002642     Attack  \n",
       "4     0.002882     Attack  \n",
       "...        ...        ...  \n",
       "6397  0.006531  No Attack  \n",
       "6398  0.004969  No Attack  \n",
       "6399  0.014489  No Attack  \n",
       "6400  0.003510  No Attack  \n",
       "6401  0.001288  No Attack  \n",
       "\n",
       "[6402 rows x 5 columns]"
      ]
     },
     "execution_count": 19,
     "metadata": {},
     "output_type": "execute_result"
    }
   ],
   "source": [
    "dataset"
   ]
  },
  {
   "cell_type": "code",
   "execution_count": null,
   "id": "a3e04a07",
   "metadata": {},
   "outputs": [
    {
     "data": {
      "text/plain": [
       "array(['FHS', 'LM Received', 'LM Sent', 'LMP_accepted',\n",
       "       'LMP_accepted_ext', 'LMP_au_rand', 'LMP_auto_rate',\n",
       "       'LMP_channel_classification', 'LMP_channel_classification_req',\n",
       "       'LMP_detach', 'LMP_features_req', 'LMP_features_req_ext',\n",
       "       'LMP_features_res', 'LMP_features_res_ext',\n",
       "       'LMP_host_connection_req', 'LMP_max_slot', 'LMP_max_slot_req',\n",
       "       'LMP_not_accepted', 'LMP_not_accepted_ext',\n",
       "       'LMP_packet_type_table_req', 'LMP_power_control_req',\n",
       "       'LMP_power_control_res', 'LMP_set_AFH', 'LMP_setup_complete',\n",
       "       'LMP_timing_accuracy_req', 'LMP_timing_accuracy_res',\n",
       "       'LMP_version_req', 'LMP_version_res',\n",
       "       'Rcvd Command Complete (Link Key Request Negative Reply)',\n",
       "       'Rcvd Command Complete (Write Link Policy Settings)',\n",
       "       'Rcvd Command Complete (Write Scan Enable)',\n",
       "       'Rcvd Command Status (Accept Connection Request)',\n",
       "       'Rcvd Command Status (Change Connection Packet Type)',\n",
       "       'Rcvd Command Status (Read Clock offset)',\n",
       "       'Rcvd Command Status (Read Remote Extended Features)',\n",
       "       'Rcvd Command Status (Read Remote Version Information)',\n",
       "       'Rcvd Connect Complete', 'Rcvd Connect Request',\n",
       "       'Rcvd Disconnect Complete', 'Rcvd LE Meta (LE Advertising Report)',\n",
       "       'Rcvd Link Key Request', 'Rcvd Max Slots Change',\n",
       "       'Rcvd Number of Completed Packets', 'Rcvd OBEX fragment',\n",
       "       'Rcvd Put continue', 'Rcvd Read Clock Offset Complete',\n",
       "       'Rcvd Read Remote Extended Features Complete',\n",
       "       'Rcvd Read Remote Version Information Complete',\n",
       "       'Sent Accept Connection Request',\n",
       "       'Sent Change Connection Packet Type', 'Sent Continue',\n",
       "       'Sent Information Request (Extended Features Mask)',\n",
       "       'Sent Link Key Request Negative Reply', 'Sent Read Clock offset',\n",
       "       'Sent Read Remote Extended Features',\n",
       "       'Sent Read Remote Version Information', 'Sent UIH Channel=12 UID ',\n",
       "       'Sent Write Link Policy Settings', 'Sent Write Scan Enable'],\n",
       "      dtype=object)"
      ]
     },
     "execution_count": 20,
     "metadata": {},
     "output_type": "execute_result"
    }
   ],
   "source": [
    "X_test = pd.read_csv(\"X_test.csv\")\n",
    "X_test['Info'].unique()"
   ]
  },
  {
   "cell_type": "code",
   "execution_count": null,
   "id": "4be26194",
   "metadata": {},
   "outputs": [
    {
     "data": {
      "text/html": [
       "<div>\n",
       "<style scoped>\n",
       "    .dataframe tbody tr th:only-of-type {\n",
       "        vertical-align: middle;\n",
       "    }\n",
       "\n",
       "    .dataframe tbody tr th {\n",
       "        vertical-align: top;\n",
       "    }\n",
       "\n",
       "    .dataframe thead th {\n",
       "        text-align: right;\n",
       "    }\n",
       "</style>\n",
       "<table border=\"1\" class=\"dataframe\">\n",
       "  <thead>\n",
       "    <tr style=\"text-align: right;\">\n",
       "      <th></th>\n",
       "      <th>Protocol</th>\n",
       "      <th>Info</th>\n",
       "      <th>Length</th>\n",
       "      <th>Delta</th>\n",
       "      <th>Type</th>\n",
       "    </tr>\n",
       "  </thead>\n",
       "  <tbody>\n",
       "    <tr>\n",
       "      <th>0</th>\n",
       "      <td>HCI_EVT</td>\n",
       "      <td>Rcvd Link Key Request</td>\n",
       "      <td>9</td>\n",
       "      <td>0.010473</td>\n",
       "      <td>Attack</td>\n",
       "    </tr>\n",
       "    <tr>\n",
       "      <th>1</th>\n",
       "      <td>HCI_CMD</td>\n",
       "      <td>Sent Link Key Request Negative Reply</td>\n",
       "      <td>10</td>\n",
       "      <td>0.010473</td>\n",
       "      <td>Attack</td>\n",
       "    </tr>\n",
       "    <tr>\n",
       "      <th>2</th>\n",
       "      <td>HCI_EVT</td>\n",
       "      <td>Rcvd Link Key Request</td>\n",
       "      <td>9</td>\n",
       "      <td>0.017913</td>\n",
       "      <td>Attack</td>\n",
       "    </tr>\n",
       "    <tr>\n",
       "      <th>3</th>\n",
       "      <td>HCI_EVT</td>\n",
       "      <td>Rcvd Command Complete (Link Key Request Negati...</td>\n",
       "      <td>13</td>\n",
       "      <td>0.002642</td>\n",
       "      <td>Attack</td>\n",
       "    </tr>\n",
       "    <tr>\n",
       "      <th>4</th>\n",
       "      <td>HCI_CMD</td>\n",
       "      <td>Sent Link Key Request Negative Reply</td>\n",
       "      <td>10</td>\n",
       "      <td>0.002882</td>\n",
       "      <td>Attack</td>\n",
       "    </tr>\n",
       "    <tr>\n",
       "      <th>...</th>\n",
       "      <td>...</td>\n",
       "      <td>...</td>\n",
       "      <td>...</td>\n",
       "      <td>...</td>\n",
       "      <td>...</td>\n",
       "    </tr>\n",
       "    <tr>\n",
       "      <th>5906</th>\n",
       "      <td>RFCOMM</td>\n",
       "      <td>Sent UIH Channel=12 UID</td>\n",
       "      <td>14</td>\n",
       "      <td>0.006531</td>\n",
       "      <td>No Attack</td>\n",
       "    </tr>\n",
       "    <tr>\n",
       "      <th>5907</th>\n",
       "      <td>HCI_EVT</td>\n",
       "      <td>Rcvd Number of Completed Packets</td>\n",
       "      <td>8</td>\n",
       "      <td>0.004969</td>\n",
       "      <td>No Attack</td>\n",
       "    </tr>\n",
       "    <tr>\n",
       "      <th>5908</th>\n",
       "      <td>OBEX</td>\n",
       "      <td>Sent Continue</td>\n",
       "      <td>21</td>\n",
       "      <td>0.014489</td>\n",
       "      <td>No Attack</td>\n",
       "    </tr>\n",
       "    <tr>\n",
       "      <th>5909</th>\n",
       "      <td>LMP</td>\n",
       "      <td>LMP_power_control_req</td>\n",
       "      <td>64</td>\n",
       "      <td>0.003510</td>\n",
       "      <td>No Attack</td>\n",
       "    </tr>\n",
       "    <tr>\n",
       "      <th>5910</th>\n",
       "      <td>LMP</td>\n",
       "      <td>LMP_power_control_res</td>\n",
       "      <td>64</td>\n",
       "      <td>0.001288</td>\n",
       "      <td>No Attack</td>\n",
       "    </tr>\n",
       "  </tbody>\n",
       "</table>\n",
       "<p>5911 rows × 5 columns</p>\n",
       "</div>"
      ],
      "text/plain": [
       "     Protocol                                               Info  Length  \\\n",
       "0     HCI_EVT                              Rcvd Link Key Request       9   \n",
       "1     HCI_CMD               Sent Link Key Request Negative Reply      10   \n",
       "2     HCI_EVT                              Rcvd Link Key Request       9   \n",
       "3     HCI_EVT  Rcvd Command Complete (Link Key Request Negati...      13   \n",
       "4     HCI_CMD               Sent Link Key Request Negative Reply      10   \n",
       "...       ...                                                ...     ...   \n",
       "5906   RFCOMM                           Sent UIH Channel=12 UID       14   \n",
       "5907  HCI_EVT                   Rcvd Number of Completed Packets       8   \n",
       "5908     OBEX                                      Sent Continue      21   \n",
       "5909      LMP                              LMP_power_control_req      64   \n",
       "5910      LMP                              LMP_power_control_res      64   \n",
       "\n",
       "         Delta       Type  \n",
       "0     0.010473     Attack  \n",
       "1     0.010473     Attack  \n",
       "2     0.017913     Attack  \n",
       "3     0.002642     Attack  \n",
       "4     0.002882     Attack  \n",
       "...        ...        ...  \n",
       "5906  0.006531  No Attack  \n",
       "5907  0.004969  No Attack  \n",
       "5908  0.014489  No Attack  \n",
       "5909  0.003510  No Attack  \n",
       "5910  0.001288  No Attack  \n",
       "\n",
       "[5911 rows x 5 columns]"
      ]
     },
     "execution_count": 21,
     "metadata": {},
     "output_type": "execute_result"
    }
   ],
   "source": [
    "dataset = dataset[dataset['Info'].isin(X_test['Info'].unique())]\n",
    "\n",
    "dataset = dataset.reset_index(drop=True)\n",
    "dataset"
   ]
  },
  {
   "cell_type": "code",
   "execution_count": null,
   "id": "778aaf63",
   "metadata": {
    "scrolled": false
   },
   "outputs": [
    {
     "data": {
      "text/plain": [
       "Protocol    5911\n",
       "Info        5911\n",
       "Length      5911\n",
       "Delta       5911\n",
       "Type        5911\n",
       "dtype: int64"
      ]
     },
     "execution_count": 22,
     "metadata": {},
     "output_type": "execute_result"
    }
   ],
   "source": [
    "dataset.count()"
   ]
  },
  {
   "cell_type": "code",
   "execution_count": null,
   "id": "47737f13",
   "metadata": {},
   "outputs": [
    {
     "data": {
      "text/html": [
       "<div>\n",
       "<style scoped>\n",
       "    .dataframe tbody tr th:only-of-type {\n",
       "        vertical-align: middle;\n",
       "    }\n",
       "\n",
       "    .dataframe tbody tr th {\n",
       "        vertical-align: top;\n",
       "    }\n",
       "\n",
       "    .dataframe thead th {\n",
       "        text-align: right;\n",
       "    }\n",
       "</style>\n",
       "<table border=\"1\" class=\"dataframe\">\n",
       "  <thead>\n",
       "    <tr style=\"text-align: right;\">\n",
       "      <th></th>\n",
       "      <th>Protocol</th>\n",
       "      <th>Info</th>\n",
       "      <th>Length</th>\n",
       "      <th>Delta</th>\n",
       "      <th>Type</th>\n",
       "    </tr>\n",
       "  </thead>\n",
       "  <tbody>\n",
       "    <tr>\n",
       "      <th>0</th>\n",
       "      <td>HCI_EVT</td>\n",
       "      <td>Rcvd Link Key Request</td>\n",
       "      <td>9</td>\n",
       "      <td>0.010473</td>\n",
       "      <td>Attack</td>\n",
       "    </tr>\n",
       "    <tr>\n",
       "      <th>1</th>\n",
       "      <td>HCI_CMD</td>\n",
       "      <td>Sent Link Key Request Negative Reply</td>\n",
       "      <td>10</td>\n",
       "      <td>0.010473</td>\n",
       "      <td>Attack</td>\n",
       "    </tr>\n",
       "    <tr>\n",
       "      <th>2</th>\n",
       "      <td>HCI_EVT</td>\n",
       "      <td>Rcvd Link Key Request</td>\n",
       "      <td>9</td>\n",
       "      <td>0.017913</td>\n",
       "      <td>Attack</td>\n",
       "    </tr>\n",
       "    <tr>\n",
       "      <th>3</th>\n",
       "      <td>HCI_EVT</td>\n",
       "      <td>Rcvd Command Complete (Link Key Request Negati...</td>\n",
       "      <td>13</td>\n",
       "      <td>0.002642</td>\n",
       "      <td>Attack</td>\n",
       "    </tr>\n",
       "    <tr>\n",
       "      <th>4</th>\n",
       "      <td>HCI_CMD</td>\n",
       "      <td>Sent Link Key Request Negative Reply</td>\n",
       "      <td>10</td>\n",
       "      <td>0.002882</td>\n",
       "      <td>Attack</td>\n",
       "    </tr>\n",
       "    <tr>\n",
       "      <th>...</th>\n",
       "      <td>...</td>\n",
       "      <td>...</td>\n",
       "      <td>...</td>\n",
       "      <td>...</td>\n",
       "      <td>...</td>\n",
       "    </tr>\n",
       "    <tr>\n",
       "      <th>5906</th>\n",
       "      <td>RFCOMM</td>\n",
       "      <td>Sent UIH Channel=12 UID</td>\n",
       "      <td>14</td>\n",
       "      <td>0.006531</td>\n",
       "      <td>No Attack</td>\n",
       "    </tr>\n",
       "    <tr>\n",
       "      <th>5907</th>\n",
       "      <td>HCI_EVT</td>\n",
       "      <td>Rcvd Number of Completed Packets</td>\n",
       "      <td>8</td>\n",
       "      <td>0.004969</td>\n",
       "      <td>No Attack</td>\n",
       "    </tr>\n",
       "    <tr>\n",
       "      <th>5908</th>\n",
       "      <td>OBEX</td>\n",
       "      <td>Sent Continue</td>\n",
       "      <td>21</td>\n",
       "      <td>0.014489</td>\n",
       "      <td>No Attack</td>\n",
       "    </tr>\n",
       "    <tr>\n",
       "      <th>5909</th>\n",
       "      <td>LMP</td>\n",
       "      <td>LMP_power_control_req</td>\n",
       "      <td>64</td>\n",
       "      <td>0.003510</td>\n",
       "      <td>No Attack</td>\n",
       "    </tr>\n",
       "    <tr>\n",
       "      <th>5910</th>\n",
       "      <td>LMP</td>\n",
       "      <td>LMP_power_control_res</td>\n",
       "      <td>64</td>\n",
       "      <td>0.001288</td>\n",
       "      <td>No Attack</td>\n",
       "    </tr>\n",
       "  </tbody>\n",
       "</table>\n",
       "<p>5911 rows × 5 columns</p>\n",
       "</div>"
      ],
      "text/plain": [
       "     Protocol                                               Info  Length  \\\n",
       "0     HCI_EVT                              Rcvd Link Key Request       9   \n",
       "1     HCI_CMD               Sent Link Key Request Negative Reply      10   \n",
       "2     HCI_EVT                              Rcvd Link Key Request       9   \n",
       "3     HCI_EVT  Rcvd Command Complete (Link Key Request Negati...      13   \n",
       "4     HCI_CMD               Sent Link Key Request Negative Reply      10   \n",
       "...       ...                                                ...     ...   \n",
       "5906   RFCOMM                           Sent UIH Channel=12 UID       14   \n",
       "5907  HCI_EVT                   Rcvd Number of Completed Packets       8   \n",
       "5908     OBEX                                      Sent Continue      21   \n",
       "5909      LMP                              LMP_power_control_req      64   \n",
       "5910      LMP                              LMP_power_control_res      64   \n",
       "\n",
       "         Delta       Type  \n",
       "0     0.010473     Attack  \n",
       "1     0.010473     Attack  \n",
       "2     0.017913     Attack  \n",
       "3     0.002642     Attack  \n",
       "4     0.002882     Attack  \n",
       "...        ...        ...  \n",
       "5906  0.006531  No Attack  \n",
       "5907  0.004969  No Attack  \n",
       "5908  0.014489  No Attack  \n",
       "5909  0.003510  No Attack  \n",
       "5910  0.001288  No Attack  \n",
       "\n",
       "[5911 rows x 5 columns]"
      ]
     },
     "execution_count": 23,
     "metadata": {},
     "output_type": "execute_result"
    }
   ],
   "source": [
    "dataset"
   ]
  },
  {
   "attachments": {},
   "cell_type": "markdown",
   "id": "da7e25cd",
   "metadata": {},
   "source": [
    "## Explanation of the dataset\n",
    "The dataframe is divided into different columns \n",
    "- Protocol: Used in the Bluetooth Packet\n",
    "- Info: Provides information about each packet and depends on the type of protocol\n",
    "- Length: It's the length of the packet in bytes\n",
    "- Delta:Time difference between current packet and previous packet\n",
    "- Type: It represents normal vs attack conditions, labelled manually. <- dependent variable"
   ]
  },
  {
   "cell_type": "code",
   "execution_count": null,
   "id": "f86057d9",
   "metadata": {
    "scrolled": true
   },
   "outputs": [
    {
     "data": {
      "text/html": [
       "<div>\n",
       "<style scoped>\n",
       "    .dataframe tbody tr th:only-of-type {\n",
       "        vertical-align: middle;\n",
       "    }\n",
       "\n",
       "    .dataframe tbody tr th {\n",
       "        vertical-align: top;\n",
       "    }\n",
       "\n",
       "    .dataframe thead th {\n",
       "        text-align: right;\n",
       "    }\n",
       "</style>\n",
       "<table border=\"1\" class=\"dataframe\">\n",
       "  <thead>\n",
       "    <tr style=\"text-align: right;\">\n",
       "      <th></th>\n",
       "      <th>Protocol</th>\n",
       "      <th>Info</th>\n",
       "      <th>Length</th>\n",
       "      <th>Delta</th>\n",
       "      <th>Type</th>\n",
       "    </tr>\n",
       "  </thead>\n",
       "  <tbody>\n",
       "    <tr>\n",
       "      <th>0</th>\n",
       "      <td>HCI_EVT</td>\n",
       "      <td>Rcvd Link Key Request</td>\n",
       "      <td>9</td>\n",
       "      <td>0.010473</td>\n",
       "      <td>Attack</td>\n",
       "    </tr>\n",
       "    <tr>\n",
       "      <th>1</th>\n",
       "      <td>HCI_CMD</td>\n",
       "      <td>Sent Link Key Request Negative Reply</td>\n",
       "      <td>10</td>\n",
       "      <td>0.010473</td>\n",
       "      <td>Attack</td>\n",
       "    </tr>\n",
       "    <tr>\n",
       "      <th>2</th>\n",
       "      <td>HCI_EVT</td>\n",
       "      <td>Rcvd Link Key Request</td>\n",
       "      <td>9</td>\n",
       "      <td>0.017913</td>\n",
       "      <td>Attack</td>\n",
       "    </tr>\n",
       "    <tr>\n",
       "      <th>3</th>\n",
       "      <td>HCI_EVT</td>\n",
       "      <td>Rcvd Command Complete (Link Key Request Negati...</td>\n",
       "      <td>13</td>\n",
       "      <td>0.002642</td>\n",
       "      <td>Attack</td>\n",
       "    </tr>\n",
       "    <tr>\n",
       "      <th>4</th>\n",
       "      <td>HCI_CMD</td>\n",
       "      <td>Sent Link Key Request Negative Reply</td>\n",
       "      <td>10</td>\n",
       "      <td>0.002882</td>\n",
       "      <td>Attack</td>\n",
       "    </tr>\n",
       "    <tr>\n",
       "      <th>...</th>\n",
       "      <td>...</td>\n",
       "      <td>...</td>\n",
       "      <td>...</td>\n",
       "      <td>...</td>\n",
       "      <td>...</td>\n",
       "    </tr>\n",
       "    <tr>\n",
       "      <th>5906</th>\n",
       "      <td>RFCOMM</td>\n",
       "      <td>Sent UIH Channel=12 UID</td>\n",
       "      <td>14</td>\n",
       "      <td>0.006531</td>\n",
       "      <td>No Attack</td>\n",
       "    </tr>\n",
       "    <tr>\n",
       "      <th>5907</th>\n",
       "      <td>HCI_EVT</td>\n",
       "      <td>Rcvd Number of Completed Packets</td>\n",
       "      <td>8</td>\n",
       "      <td>0.004969</td>\n",
       "      <td>No Attack</td>\n",
       "    </tr>\n",
       "    <tr>\n",
       "      <th>5908</th>\n",
       "      <td>OBEX</td>\n",
       "      <td>Sent Continue</td>\n",
       "      <td>21</td>\n",
       "      <td>0.014489</td>\n",
       "      <td>No Attack</td>\n",
       "    </tr>\n",
       "    <tr>\n",
       "      <th>5909</th>\n",
       "      <td>LMP</td>\n",
       "      <td>LMP_power_control_req</td>\n",
       "      <td>64</td>\n",
       "      <td>0.003510</td>\n",
       "      <td>No Attack</td>\n",
       "    </tr>\n",
       "    <tr>\n",
       "      <th>5910</th>\n",
       "      <td>LMP</td>\n",
       "      <td>LMP_power_control_res</td>\n",
       "      <td>64</td>\n",
       "      <td>0.001288</td>\n",
       "      <td>No Attack</td>\n",
       "    </tr>\n",
       "  </tbody>\n",
       "</table>\n",
       "<p>5911 rows × 5 columns</p>\n",
       "</div>"
      ],
      "text/plain": [
       "     Protocol                                               Info  Length  \\\n",
       "0     HCI_EVT                              Rcvd Link Key Request       9   \n",
       "1     HCI_CMD               Sent Link Key Request Negative Reply      10   \n",
       "2     HCI_EVT                              Rcvd Link Key Request       9   \n",
       "3     HCI_EVT  Rcvd Command Complete (Link Key Request Negati...      13   \n",
       "4     HCI_CMD               Sent Link Key Request Negative Reply      10   \n",
       "...       ...                                                ...     ...   \n",
       "5906   RFCOMM                           Sent UIH Channel=12 UID       14   \n",
       "5907  HCI_EVT                   Rcvd Number of Completed Packets       8   \n",
       "5908     OBEX                                      Sent Continue      21   \n",
       "5909      LMP                              LMP_power_control_req      64   \n",
       "5910      LMP                              LMP_power_control_res      64   \n",
       "\n",
       "         Delta       Type  \n",
       "0     0.010473     Attack  \n",
       "1     0.010473     Attack  \n",
       "2     0.017913     Attack  \n",
       "3     0.002642     Attack  \n",
       "4     0.002882     Attack  \n",
       "...        ...        ...  \n",
       "5906  0.006531  No Attack  \n",
       "5907  0.004969  No Attack  \n",
       "5908  0.014489  No Attack  \n",
       "5909  0.003510  No Attack  \n",
       "5910  0.001288  No Attack  \n",
       "\n",
       "[5911 rows x 5 columns]"
      ]
     },
     "execution_count": 24,
     "metadata": {},
     "output_type": "execute_result"
    }
   ],
   "source": [
    "dataset"
   ]
  },
  {
   "attachments": {},
   "cell_type": "markdown",
   "id": "20787df6",
   "metadata": {},
   "source": [
    "## We will shape our data "
   ]
  },
  {
   "cell_type": "code",
   "execution_count": null,
   "id": "4acbec51",
   "metadata": {
    "scrolled": false
   },
   "outputs": [
    {
     "data": {
      "text/plain": [
       "(5911,)"
      ]
     },
     "execution_count": 26,
     "metadata": {},
     "output_type": "execute_result"
    }
   ],
   "source": [
    "dataset\n",
    "\n",
    "X = dataset['Length'].shape\n",
    "y = dataset['Type'].shape\n",
    "X\n"
   ]
  },
  {
   "attachments": {},
   "cell_type": "markdown",
   "id": "8b5f2c61",
   "metadata": {},
   "source": [
    "## Transform the string values into numerical values so we can work with them in the X dataset.\n",
    "We will be using the library OneHotEncoder and we will add our values we want to transform in an array as strings, denoting the values taken on by categorical (discrete) features. "
   ]
  },
  {
   "cell_type": "code",
   "execution_count": null,
   "id": "fc74a360",
   "metadata": {},
   "outputs": [],
   "source": [
    "from sklearn.preprocessing import OneHotEncoder"
   ]
  },
  {
   "attachments": {},
   "cell_type": "markdown",
   "id": "dc893548",
   "metadata": {},
   "source": [
    "### Transform protocol data \n",
    "We will transform the string into numerical values\n",
    "Once done this we will create a protocol dataframe"
   ]
  },
  {
   "cell_type": "code",
   "execution_count": null,
   "id": "f8febf70",
   "metadata": {},
   "outputs": [],
   "source": [
    "# Codificator Instance\n",
    "onehot_encoder = OneHotEncoder()\n",
    "\n",
    "# Codify the independent variable \n",
    "data_to_encode = dataset[['Protocol']]\n",
    "\n",
    "# Column to numpy array\n",
    "data_array = data_to_encode.values\n",
    "\n",
    "#  reshape a data_array \n",
    "reshaped_data = data_array.reshape(-1, 1)\n",
    "\n",
    "# Initialize decoder one-hot\n",
    "onehot_encoder = OneHotEncoder()\n",
    "\n",
    "# Adjust & transform data codifying 'Type'\n",
    "onehot_encoded_protocol = onehot_encoder.fit_transform(reshaped_data)\n",
    "categories = onehot_encoder.get_feature_names_out(input_features=['Protocol'])\n"
   ]
  },
  {
   "cell_type": "code",
   "execution_count": null,
   "id": "0ebaa121",
   "metadata": {},
   "outputs": [],
   "source": [
    "# We transform the matrix into an array and save it in a dataframe \n",
    "protocoldf = pd.DataFrame(onehot_encoded_protocol.toarray(), columns= categories)\n"
   ]
  },
  {
   "attachments": {},
   "cell_type": "markdown",
   "id": "4f10638e",
   "metadata": {},
   "source": [
    "# Transform Info data \n",
    "We will transform the string into numerical values\n",
    "Once done this we will create a info dataframe"
   ]
  },
  {
   "cell_type": "code",
   "execution_count": null,
   "id": "2ddee289",
   "metadata": {},
   "outputs": [
    {
     "name": "stdout",
     "output_type": "stream",
     "text": [
      "(5911, 59)\n"
     ]
    }
   ],
   "source": [
    "# Codificator Instance\n",
    "onehot_encoder = OneHotEncoder()\n",
    "\n",
    "# Codify the independent variable \n",
    "data_to_encode = dataset[['Info']]\n",
    "\n",
    "# Column to numpy array\n",
    "data_array = data_to_encode.values\n",
    "\n",
    "#  reshape a data_array \n",
    "reshaped_data = data_array.reshape(-1, 1)\n",
    "\n",
    "# Initialize decoder one-hot\n",
    "onehot_encoder = OneHotEncoder()\n",
    "\n",
    "# Adjust & transform data codifying 'Type'\n",
    "onehot_encoded_info = onehot_encoder.fit_transform(reshaped_data)\n",
    "categories = onehot_encoder.get_feature_names_out(input_features=['Info'])\n",
    "print(onehot_encoded_info.toarray().shape)"
   ]
  },
  {
   "cell_type": "code",
   "execution_count": null,
   "id": "9232109e",
   "metadata": {
    "scrolled": false
   },
   "outputs": [],
   "source": [
    "# We transform the matrix into an array and save it in a dataframe \n",
    "infodf = pd.DataFrame(onehot_encoded_info.toarray(), columns= categories)\n"
   ]
  },
  {
   "attachments": {},
   "cell_type": "markdown",
   "id": "48d44b8e",
   "metadata": {},
   "source": [
    "# Assign our dependent variable\n",
    "We will use the column Type from the dataset since is the way we're classifying our data"
   ]
  },
  {
   "cell_type": "code",
   "execution_count": null,
   "id": "a879c285",
   "metadata": {
    "scrolled": true
   },
   "outputs": [],
   "source": [
    "#Assign our variable y \n",
    "y = dataset[\"Type\"]\n"
   ]
  },
  {
   "cell_type": "code",
   "execution_count": null,
   "id": "21068656",
   "metadata": {},
   "outputs": [
    {
     "data": {
      "text/plain": [
       "0                                   Rcvd Link Key Request\n",
       "1                    Sent Link Key Request Negative Reply\n",
       "2                                   Rcvd Link Key Request\n",
       "3       Rcvd Command Complete (Link Key Request Negati...\n",
       "4                    Sent Link Key Request Negative Reply\n",
       "                              ...                        \n",
       "5906                             Sent UIH Channel=12 UID \n",
       "5907                     Rcvd Number of Completed Packets\n",
       "5908                                        Sent Continue\n",
       "5909                                LMP_power_control_req\n",
       "5910                                LMP_power_control_res\n",
       "Name: Info, Length: 5911, dtype: object"
      ]
     },
     "execution_count": 33,
     "metadata": {},
     "output_type": "execute_result"
    }
   ],
   "source": [
    "y.head()\n",
    "dataset[\"Info\"]"
   ]
  },
  {
   "attachments": {},
   "cell_type": "markdown",
   "id": "2fcb9791",
   "metadata": {},
   "source": [
    "# Standardize values\n",
    "Using the librarie Standard Scaler, we standardize our values Length and Delta since are the ones we have numerical since the beginning, we do this since standardization makes it easier to compare data points that have different units being **Length** bytes and **Delta** time units. \n",
    "\n",
    "By scaling the values to have a mean of 0 and a standard deviation of 1, we can compare the relative position of data points within their respective distributions.\n",
    "\n",
    "Standardize features by removing the mean and scaling to unit variance.\n",
    "The standard score of a sample x is calculated as:\n",
    "\n",
    "$$ z = \\frac{(x - u)}{s} $$"
   ]
  },
  {
   "cell_type": "code",
   "execution_count": null,
   "id": "b854cf0a",
   "metadata": {},
   "outputs": [],
   "source": [
    "# We import Standard Scaler\n",
    "from sklearn.preprocessing import StandardScaler"
   ]
  },
  {
   "cell_type": "code",
   "execution_count": null,
   "id": "8de959b0",
   "metadata": {},
   "outputs": [],
   "source": [
    "scaler = StandardScaler()\n",
    "dataset['Length'] = scaler.fit_transform(np.array(dataset['Length']).reshape(-1, 1))\n",
    "dataset['Delta'] = scaler.fit_transform(np.array(dataset['Delta']).reshape(-1, 1))\n",
    "dataset.head(10)\n",
    "dataset"
   ]
  },
  {
   "attachments": {},
   "cell_type": "markdown",
   "id": "ae2646c0",
   "metadata": {},
   "source": [
    "## Append Dataframes\n",
    "\n",
    "Now we're going to create a new dataframe with our new values standardized and transformed into numerical values. \n",
    "\n",
    "We will create two datasets to tests our model and see if there are changes in the number of features used."
   ]
  },
  {
   "attachments": {},
   "cell_type": "markdown",
   "id": "2124a34b",
   "metadata": {},
   "source": [
    "### First dataset with all the features"
   ]
  },
  {
   "cell_type": "code",
   "execution_count": null,
   "id": "8bbc72d6",
   "metadata": {},
   "outputs": [],
   "source": [
    "# in this step we put our independents variables together and the dependent separate\n",
    "\n",
    "# Boolean variable to check if the dataset is created\n",
    "created = False\n",
    "\n",
    "# Go through the function once \n",
    "if not created:\n",
    "    # Create the first dataframe with the values\n",
    "    new_dataset = pd.concat([protocoldf, infodf, dataset[\"Length\"], dataset[\"Delta\"]], axis=1)\n",
    "\n",
    "    # Mark variable as true so it doesn't repeat if it is needed to rerun the whole program.\n",
    "    created = True"
   ]
  },
  {
   "cell_type": "code",
   "execution_count": null,
   "id": "1b671dce",
   "metadata": {},
   "outputs": [],
   "source": [
    "X = new_dataset\n",
    "X"
   ]
  },
  {
   "attachments": {},
   "cell_type": "markdown",
   "id": "e340eb58",
   "metadata": {},
   "source": [
    "### Second dataset with features Delta and Length\n",
    "We choose this values since are the ones numerical since the beginning and we will see if by not using the other features would affect or improve the accuracy of our model."
   ]
  },
  {
   "cell_type": "code",
   "execution_count": null,
   "id": "ee2c3ebf",
   "metadata": {},
   "outputs": [],
   "source": [
    "# in this step we put our independents variables together and the dependent separate\n",
    "\n",
    "# Boolean variable to check if the dataset is created\n",
    "second_created = False\n",
    "\n",
    "# Go through the function once \n",
    "if not second_created:\n",
    "    # Create the first dataframe with the values\n",
    "    TwoX = pd.concat([dataset[\"Length\"], dataset[\"Delta\"]], axis=1)\n",
    "    \n",
    "    # Mark variable as true so it doesn't repeat if it is needed to rerun the whole program.\n",
    "    second_created = True\n",
    "    \n",
    "    \n",
    "TwoX.head()\n",
    "TwoX"
   ]
  },
  {
   "attachments": {},
   "cell_type": "markdown",
   "id": "c1f57dff",
   "metadata": {},
   "source": [
    "# Try the models"
   ]
  },
  {
   "attachments": {},
   "cell_type": "markdown",
   "id": "cc4990f9",
   "metadata": {},
   "source": [
    "# Model assessment: Training set and testing set\n",
    "\n",
    "## Split the data\n",
    "First we split the data into training set and test set. We will train our model using the training set and to test it is the test set. We will implement a \n",
    "\n",
    "The library we're going to use train_test_split split arrays or matrices into random train and test subsets."
   ]
  },
  {
   "cell_type": "code",
   "execution_count": null,
   "id": "cf90a6ec",
   "metadata": {},
   "outputs": [],
   "source": [
    "# Import our library to split our data into two sets\n",
    "from sklearn.model_selection import train_test_split"
   ]
  },
  {
   "cell_type": "code",
   "execution_count": null,
   "id": "40a8fc37",
   "metadata": {},
   "outputs": [],
   "source": [
    "seed = 42\n",
    "# Dataset with all features. We choose test_size = 0.2\n",
    "X_train, X_test, y_train, y_test = train_test_split(X, y, test_size=0.2, random_state=seed)\n",
    "\n",
    "# Dataset with features Delta and Length, we choose this values since they\n",
    "# are numerical without using any encoder\n",
    "X_train2, X_test2, y_train2, y_test2 = train_test_split(TwoX, y, test_size=0.2, random_state=seed)\n"
   ]
  },
  {
   "attachments": {},
   "cell_type": "markdown",
   "id": "cf2ee322",
   "metadata": {},
   "source": [
    "# Model Selection \n",
    "\n",
    "To know which model is more convenient for our problem, we would train some models and compare how well they fit each model, taking into consideration:\n",
    "- Accuracy\n",
    "- Compare the accuracy between test set and train set\n",
    "- Computation times, memory used\n",
    "- Simplest method for a better score \n",
    "\n",
    "Also, knowing that we are facing a classification problem we will try to find the more appropiate models for this, in this case is binary classification since it is divided only in two categories being **No Attack** and **Attack**."
   ]
  },
  {
   "attachments": {},
   "cell_type": "markdown",
   "id": "d7fa7d80",
   "metadata": {},
   "source": [
    "\n",
    "### Confusion Matrix\n",
    "This is a matrix that counts the classification classes. In this case we would count the Attacks and No Attacks **true positive** and also the **falses**.\n",
    "\n",
    "$$\n",
    "\\begin{matrix}\n",
    "        &          & & Predicted &  \\\\\n",
    "        &          &  Negative   &  & Positive \\\\\n",
    "        & Negative &     True Negative TN  &  & False Positive FP\\\\\n",
    "Actual  &          & & & \\\\\n",
    "        &  Positive  &   False Negative FN  & & True Positive TP\n",
    "\\end{matrix} \n",
    "$$\n",
    "\n",
    "### Precision of the classifier\n",
    "This returns the accuracy of the positives prediction made by the classifier.\n",
    "\n",
    "The formula for this method:\n",
    "\n",
    "$$precision = \\frac{ TP  }{ TP + FP }$$\n",
    "\n",
    "- TP true positives being the number of correctly predicted positive instances\n",
    "- FP false positives being the number of negative instances incorrectly classified as positive.\n",
    "\n",
    "### Recall\n",
    "Known as sensitive or true positive rate (TPR), the classifier detects the correct positive instances ratio.\n",
    "\n",
    "The equation for the Recall metric:\n",
    "\n",
    "$$ F1 = \\frac{TP}{TP + FN}$$\n",
    "\n",
    "Tp is the number of True Positives and FN is the numver for False Negatives.\n",
    "\n",
    "### F1 Score\n",
    "This metric is Precision and Recall combined and is helpful in this problem since its useful to compare two classifiers. This metric would be only a high score if **precision** and **recall** are high.\n",
    "\n",
    "Formula for recall:\n",
    "$$ F1 = \\frac{2}{\\frac{1}{precision} + \\frac{1}{recall}} = 2  \\times \\frac{ precision \\times recall}\n",
    "{precision + recall} = \\frac{TP}{{TP} + \\frac{FN+FP}{2}}\n",
    " $$\n"
   ]
  },
  {
   "attachments": {},
   "cell_type": "markdown",
   "id": "cba897c8",
   "metadata": {},
   "source": [
    "## Import Performance Measure metrics"
   ]
  },
  {
   "cell_type": "code",
   "execution_count": null,
   "id": "e8e03c27",
   "metadata": {},
   "outputs": [],
   "source": [
    "from sklearn.metrics import accuracy_score, classification_report, balanced_accuracy_score\n",
    "from sklearn.metrics import confusion_matrix\n",
    "from sklearn.model_selection import cross_val_score\n",
    "\n",
    "# For calculate computation time\n",
    "import time\n",
    "# For calculate memory usage\n",
    "import tracemalloc"
   ]
  },
  {
   "attachments": {},
   "cell_type": "markdown",
   "id": "8629b08e",
   "metadata": {},
   "source": [
    "# Try the models\n",
    "We will create some lists to save the values for this models and at the end we can have a more clear panoram of which model is more suitable for detecting an attack."
   ]
  },
  {
   "cell_type": "code",
   "execution_count": null,
   "id": "98cce2ce",
   "metadata": {},
   "outputs": [],
   "source": [
    "models_name = list(range(1, 6))\n",
    "computation_time = list(range(1, 6))\n",
    "accuracy_model = list(range(1,6))\n",
    "memory_usage = list(range(1,6))"
   ]
  }
 ],
 "metadata": {
  "celltoolbar": "Slideshow",
  "kernelspec": {
   "display_name": "Python 3 (ipykernel)",
   "language": "python",
   "name": "python3"
  },
  "language_info": {
   "codemirror_mode": {
    "name": "ipython",
    "version": 3
   },
   "file_extension": ".py",
   "mimetype": "text/x-python",
   "name": "python",
   "nbconvert_exporter": "python",
   "pygments_lexer": "ipython3",
   "version": "3.11.4"
  }
 },
 "nbformat": 4,
 "nbformat_minor": 5
}
