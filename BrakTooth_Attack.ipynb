{
 "cells": [
  {
   "cell_type": "markdown",
   "id": "09a42dbb",
   "metadata": {},
   "source": [
    "### Students:\n",
    " Nicolas Charpentier\n",
    "\n",
    " Lydia Delgado Uriarte\n"
   ]
  },
  {
   "cell_type": "markdown",
   "id": "9b4bfa74",
   "metadata": {
    "slideshow": {
     "slide_type": "subslide"
    }
   },
   "source": [
    "#         BrakTooth Attack Dataset\n",
    "\n",
    "\n",
    "The ISOT BrakTooth Attack dataset contains Bluetooth classic traffic from both normal Bluetooth communications and BrakTooth-based attacks.\n",
    "In this notebook, we are training our data with different models to detect if there is an attack or not. \n",
    "\n",
    "\n"
   ]
  },
  {
   "cell_type": "markdown",
   "id": "fafe852c",
   "metadata": {},
   "source": [
    "\n",
    "## Import libraries and load data\n",
    "Import **pandas** library to work with datasets, **numpy** library that support matrix operation, **matplotlib** library for plotting data.  "
   ]
  },
  {
   "cell_type": "code",
   "execution_count": 381,
   "id": "32ae115b",
   "metadata": {},
   "outputs": [
    {
     "data": {
      "text/plain": [
       "['Requirement already satisfied: sns in /Users/lydiadelgado/anaconda3/lib/python3.11/site-packages (0.1)']"
      ]
     },
     "execution_count": 381,
     "metadata": {},
     "output_type": "execute_result"
    }
   ],
   "source": [
    "# Some libraries to install\n",
    "!! pip install scikit-learn\n",
    "!! pip install imbalanced-learn\n",
    "!! pip install memory-profiler\n",
    "!! pip install sns"
   ]
  },
  {
   "cell_type": "code",
   "execution_count": 382,
   "id": "98d1c808",
   "metadata": {},
   "outputs": [],
   "source": [
    "import pandas as pd\n",
    "import numpy as np\n",
    "import matplotlib.pyplot as plt"
   ]
  },
  {
   "cell_type": "code",
   "execution_count": 383,
   "id": "f77badb7",
   "metadata": {},
   "outputs": [],
   "source": [
    "#pd.set_option('display.max_rows', None)"
   ]
  },
  {
   "cell_type": "markdown",
   "id": "2dbf6c3e",
   "metadata": {},
   "source": [
    "# Read the csv\n",
    "We will use pandas to read a csv and make the csv a DataFrame."
   ]
  },
  {
   "cell_type": "code",
   "execution_count": 384,
   "id": "43e98b2f",
   "metadata": {},
   "outputs": [],
   "source": [
    "# We read the csv in \n",
    "X_test = pd.read_csv(\"X_test.csv\")\n",
    "dataset = pd.read_csv(\"X_train.csv\")"
   ]
  },
  {
   "cell_type": "code",
   "execution_count": 385,
   "id": "3c901dc8",
   "metadata": {
    "scrolled": true
   },
   "outputs": [
    {
     "data": {
      "text/plain": [
       "Protocol     True\n",
       "Info         True\n",
       "Length       True\n",
       "Delta       False\n",
       "Type         True\n",
       "dtype: bool"
      ]
     },
     "execution_count": 385,
     "metadata": {},
     "output_type": "execute_result"
    }
   ],
   "source": [
    "# \n",
    "dataset.all()"
   ]
  },
  {
   "cell_type": "code",
   "execution_count": 386,
   "id": "0c1c1566",
   "metadata": {},
   "outputs": [
    {
     "name": "stdout",
     "output_type": "stream",
     "text": [
      "False values in column Delta: 4\n"
     ]
    },
    {
     "data": {
      "text/plain": [
       "array(['Rcvd Link Key Request', 'Sent Link Key Request Negative Reply',\n",
       "       'Rcvd Command Complete (Link Key Request Negative Reply)',\n",
       "       'LM Sent', 'LMP_au_rand', 'FHS', 'LMP_not_accepted', 'LM Received',\n",
       "       'Rcvd Connect Request', 'Sent Accept Connection Request',\n",
       "       'Rcvd Command Status (Accept Connection Request)',\n",
       "       'Rcvd Connect Complete', 'Sent Read Clock offset',\n",
       "       'Sent Information Request (Extended Features Mask)',\n",
       "       'Rcvd Max Slots Change',\n",
       "       'Rcvd Connection Request (SDP, SCID: 0x0041)',\n",
       "       'Rcvd Command Status (Read Clock offset)',\n",
       "       'Sent Read Remote Version Information',\n",
       "       'Sent Connection Response - Pending (SCID: 0x0041)',\n",
       "       'Rcvd Read Clock Offset Complete',\n",
       "       'Rcvd Command Status (Read Remote Version Information)',\n",
       "       'Sent Read Remote Supported Features',\n",
       "       'Rcvd Read Remote Version Information Complete',\n",
       "       'Rcvd Command Status (Read Remote Supported Features)',\n",
       "       'Sent Remote Name Request', 'Rcvd Read Remote Supported Features',\n",
       "       'Rcvd Command Status (Remote Name Request)',\n",
       "       'Sent Write Link Policy Settings',\n",
       "       'Rcvd Command Complete (Write Link Policy Settings)',\n",
       "       'Sent Read Remote Extended Features',\n",
       "       'Rcvd Command Status (Read Remote Extended Features)',\n",
       "       'Rcvd Read Remote Extended Features Complete',\n",
       "       'Sent Change Connection Packet Type',\n",
       "       'Rcvd Command Status (Change Connection Packet Type)',\n",
       "       'Rcvd Connection Packet Type Changed',\n",
       "       'Sent Connection Response - Success (SCID: 0x0041, DCID: 0x0044)',\n",
       "       'Sent Configure Request (DCID: 0x0041)',\n",
       "       'Rcvd Remote Name Request Complete',\n",
       "       'Rcvd Number of Completed Packets', 'Rcvd Disconnect Complete',\n",
       "       'LMP_features_req', 'LMP_features_res', 'LMP_features_req_ext',\n",
       "       'LMP_features_res_ext', 'LMP_not_accepted_ext', 'LMP_version_res',\n",
       "       'LMP_setup_complete', 'LMP_max_slot', 'LMP_accepted',\n",
       "       'LMP_timing_accuracy_req', 'LMP_timing_accuracy_res',\n",
       "       'LMP_power_control_req', 'LMP_name_req', 'LMP_name_res',\n",
       "       'LMP_packet_type_table_req',\n",
       "       'Information Request (Extended Features Mask)',\n",
       "       'LMP_host_connection_req',\n",
       "       'Rcvd Information Response (Extended Features Mask, Success)',\n",
       "       'Sent Information Request (Fixed Channels Supported)',\n",
       "       'Rcvd Information Response (Fixed Channels Supported, Success)',\n",
       "       'Sent Connection Response - Success (SCID: 0x0041, DCID: 0x0048)',\n",
       "       'Rcvd Configure Request (DCID: 0x0048)',\n",
       "       'Sent Configure Response - Success (SCID: 0x0041)',\n",
       "       'Rcvd Configure Response - Success (SCID: 0x0048)',\n",
       "       'Rcvd Service Search Attribute Request : Public Browse Group: Attribute Range (0x0001 - 0x0100) ',\n",
       "       'Sent Service Search Attribute Response (fragment)',\n",
       "       'Sent Service Search Attribute Response ',\n",
       "       'Rcvd Disconnection Request (SCID: 0x0041, DCID: 0x0048, PSM: 0x0001, Service: SDP)',\n",
       "       'Sent Disconnection Response (SCID: 0x0041, DCID: 0x0048, PSM: 0x0001, Service: SDP)',\n",
       "       'Rcvd Connection Request (SDP, SCID: 0x0042)',\n",
       "       'Sent Connection Response - Pending (SCID: 0x0042)',\n",
       "       'Sent Connection Response - Success (SCID: 0x0042, DCID: 0x0049)',\n",
       "       'Sent Configure Request (DCID: 0x0042)',\n",
       "       'Rcvd Configure Request (DCID: 0x0049)',\n",
       "       'Sent Configure Response - Success (SCID: 0x0042)',\n",
       "       'Rcvd Configure Response - Success (SCID: 0x0049)',\n",
       "       'Rcvd Disconnection Request (SCID: 0x0042, DCID: 0x0049, PSM: 0x0001, Service: SDP)',\n",
       "       'Sent Disconnection Response (SCID: 0x0042, DCID: 0x0049, PSM: 0x0001, Service: SDP)',\n",
       "       'LMP_version_req', 'LMP_set_AFH', 'LMP_channel_classification_req',\n",
       "       'LMP_auto_rate', 'LMP_max_slot_req', 'LMP_accepted_ext',\n",
       "       'Connection Response - Pending (SCID: 0x0041)',\n",
       "       'Information Response (Extended Features Mask, Success)',\n",
       "       'Information Request (Fixed Channels Supported)',\n",
       "       'Information Response (Fixed Channels Supported, Success)',\n",
       "       'Connection Response - Success (SCID: 0x0041, DCID: 0x0048)',\n",
       "       'Configure Request (DCID: 0x0041)',\n",
       "       'Configure Request (DCID: 0x0048)',\n",
       "       'Configure Response - Success (SCID: 0x0048)',\n",
       "       'Configure Response - Success (SCID: 0x0041)',\n",
       "       'Connection oriented channel',\n",
       "       'Disconnection Request (SCID: 0x0041, DCID: 0x0048, PSM: Unknown, Service: Unknown)',\n",
       "       'Disconnection Response (SCID: 0x0041, DCID: 0x0048, PSM: Unknown, Service: Unknown)',\n",
       "       'LMP_detach', 'Connection Request (SDP, SCID: 0x0042)',\n",
       "       'Connection Response - Pending (SCID: 0x0042)',\n",
       "       'Connection Response - Success (SCID: 0x0042, DCID: 0x0049)',\n",
       "       'Configure Request (DCID: 0x0042)',\n",
       "       'Configure Request (DCID: 0x0049)',\n",
       "       'Configure Response - Success (SCID: 0x0049)',\n",
       "       'Configure Response - Success (SCID: 0x0042)',\n",
       "       'Service Search Attribute Request : Public Browse Group: Attribute Range (0x0001 - 0x0100) ',\n",
       "       'Service Search Attribute Response (fragment)',\n",
       "       'Service Search Attribute Response ',\n",
       "       'Disconnection Request (SCID: 0x0042, DCID: 0x0049, PSM: 0x0001, Service: SDP)',\n",
       "       'Disconnection Response (SCID: 0x0042, DCID: 0x0049, PSM: 0x0001, Service: SDP)',\n",
       "       'LMP_channel_classification',\n",
       "       'Sent Connection Response - Success (SCID: 0x0041, DCID: 0x0046)',\n",
       "       'Rcvd Configure Request (DCID: 0x0046)',\n",
       "       'Rcvd Configure Response - Success (SCID: 0x0046)',\n",
       "       'Rcvd Disconnection Request (SCID: 0x0041, DCID: 0x0046, PSM: 0x0001, Service: SDP)',\n",
       "       'Sent Disconnection Response (SCID: 0x0041, DCID: 0x0046, PSM: 0x0001, Service: SDP)',\n",
       "       'Connection Request (SDP, SCID: 0x0041)',\n",
       "       'Connection Response - Success (SCID: 0x0041, DCID: 0x0046)',\n",
       "       'Configure Request (DCID: 0x0046)',\n",
       "       'Configure Response - Success (SCID: 0x0046)',\n",
       "       'Disconnection Request (SCID: 0x0041, DCID: 0x0046, PSM: 0x0001, Service: SDP)',\n",
       "       'Disconnection Response (SCID: 0x0041, DCID: 0x0046, PSM: 0x0001, Service: SDP)',\n",
       "       'Sent Connection Response - Success (SCID: 0x0041, DCID: 0x0045)',\n",
       "       'Rcvd Configure Request (DCID: 0x0045)',\n",
       "       'Rcvd Configure Response - Success (SCID: 0x0045)',\n",
       "       'Rcvd Disconnection Request (SCID: 0x0041, DCID: 0x0045, PSM: 0x0001, Service: SDP)',\n",
       "       'Sent Disconnection Response (SCID: 0x0041, DCID: 0x0045, PSM: 0x0001, Service: SDP)',\n",
       "       'Connection Response - Success (SCID: 0x0041, DCID: 0x0045)',\n",
       "       'Configure Request (DCID: 0x0045)',\n",
       "       'Configure Response - Success (SCID: 0x0045)',\n",
       "       'Disconnection Request (SCID: 0x0041, DCID: 0x0045, PSM: Unknown, Service: Unknown)',\n",
       "       'Disconnection Response (SCID: 0x0041, DCID: 0x0045, PSM: Unknown, Service: Unknown)',\n",
       "       'LMP_slot_offset', 'LMP_switch_req', 'Rcvd Role Change',\n",
       "       'LMP_auto_rate[Dissector bug, protocol esp32_btlmp: ../libs/wireshark/plugins/epan/h4bcm/packet-btbrlmp.c:3130: failed assertion \"len == 1\"]',\n",
       "       'LMP_accepted[Dissector bug, protocol esp32_btlmp: ../libs/wireshark/plugins/epan/h4bcm/packet-btbrlmp.c:2691: failed assertion \"len == 2\"]',\n",
       "       'Unknown Opcode (84)',\n",
       "       'Sent Connection Response - Success (SCID: 0x0041, DCID: 0x0047)',\n",
       "       'Unknown Opcode (91)', 'Sent LE Set Scan Parameters',\n",
       "       'Rcvd Command Complete (LE Set Scan Parameters)',\n",
       "       'Sent LE Set Scan Enable',\n",
       "       'Rcvd Command Complete (LE Set Scan Enable)',\n",
       "       'Sent Set Event Filter',\n",
       "       'Rcvd Command Complete (Set Event Filter)',\n",
       "       'Sent Write Current IAC LAP',\n",
       "       'Rcvd LE Meta (LE Advertising Report)',\n",
       "       'Rcvd Command Complete (Write Current IAC LAP)',\n",
       "       'Sent Write Scan Enable',\n",
       "       'Rcvd Command Complete (Write Scan Enable)', 'Sent Inquiry',\n",
       "       'Rcvd Command Status (Inquiry)', 'Rcvd Inquiry Complete',\n",
       "       'LMP_clkoffset_req', 'LMP_preferred_rate', 'LMP_clkoffset_res',\n",
       "       'Rcvd Link Supervision Timeout Changed', 'LMP_supervision_timeout',\n",
       "       'Rcvd Information Request (Extended Features Mask)',\n",
       "       'Sent Information Response (Extended Features Mask, Success)',\n",
       "       'Rcvd Information Request (Fixed Channels Supported)',\n",
       "       'Sent Information Response (Fixed Channels Supported, Success)',\n",
       "       'Rcvd IO Capability Response', 'Rcvd IO Capability Request',\n",
       "       'LMP_IO_Capability_req', 'Sent IO Capability Request Reply',\n",
       "       'Rcvd Command Complete (IO Capability Request Reply)',\n",
       "       'LMP_IO_Capability_res', 'LMP_encapsulated_header',\n",
       "       'LMP_encapsulated_payload', 'LMP_Simple_Pairing_Confirm',\n",
       "       'LMP_Simple_Pairing_Number', 'Rcvd User Confirmation Request',\n",
       "       'LMP_power_control_res', 'Sent User Confirmation Request Reply',\n",
       "       'Rcvd Command Complete (User Confirmation Request Reply)',\n",
       "       'LMP_DHkey_Check', 'Rcvd Simple Pairing Complete', 'LMP_sres',\n",
       "       'Rcvd Link Key Notification', 'LMP_encryption_key_size_mask_req',\n",
       "       'LMP_encryption_key_size_mask_res', 'LMP_encryption_mode_req',\n",
       "       'LMP_encryption_key_size_req', 'Rcvd Encryption Change',\n",
       "       'LMP_start_encryption_req',\n",
       "       'Rcvd Connection Request (BNEP, SCID: 0x0040)',\n",
       "       'Sent Connection Response - Success (SCID: 0x0040, DCID: 0x0045)',\n",
       "       'Sent Configure Request (DCID: 0x0040)',\n",
       "       'Sent Connection Request (SDP, SCID: 0x0046)',\n",
       "       'Sent Configure Response - Success (SCID: 0x0040)',\n",
       "       'Rcvd Connection Response - Success (SCID: 0x0046, DCID: 0x0041)',\n",
       "       'Rcvd Control - Setup Connection Request - dst: <PAN NAP>, src: <PAN PANU>',\n",
       "       'Sent Control - Setup Connection Response - Operation Successful',\n",
       "       'Sent Sniff Subrating',\n",
       "       'Sent Disconnection Request (SCID: 0x0045, DCID: 0x0040, PSM: 0x000f, Service: BNEP)',\n",
       "       'Rcvd Command Complete (Sniff Subrating)',\n",
       "       'Sent Service Search Attribute Request : PnP Information: Attribute Range (0x0000 - 0xffff) ',\n",
       "       'Rcvd Disconnection Response (SCID: 0x0045, DCID: 0x0040, PSM: 0x000f, Service: BNEP)',\n",
       "       'Rcvd Service Search Attribute Response ',\n",
       "       'Sent Disconnection Request (SCID: 0x0046, DCID: 0x0041, PSM: 0x0001, Service: SDP)',\n",
       "       'Sent Connection Response - Success (SCID: 0x0042, DCID: 0x0047)',\n",
       "       'Rcvd Disconnection Response (SCID: 0x0046, DCID: 0x0041, PSM: 0x0001, Service: SDP)',\n",
       "       'Sent Connection Request (SDP, SCID: 0x0048)',\n",
       "       'Rcvd Configure Request (DCID: 0x0047)',\n",
       "       'Rcvd Configure Response - Success (SCID: 0x0047)',\n",
       "       'Rcvd Connection Response - Success (SCID: 0x0048, DCID: 0x0043)',\n",
       "       'Sent Configure Request (DCID: 0x0043)',\n",
       "       'Sent Configure Response - Success (SCID: 0x0043)',\n",
       "       'Rcvd Service Search Attribute Request : PnP Information: Attribute Range (0x0000 - 0xffff) ',\n",
       "       'Sent Service Search Attribute Request : L2CAP: Attribute Range (0x0000 - 0xffff) ',\n",
       "       'Rcvd Disconnection Request (SCID: 0x0042, DCID: 0x0047, PSM: 0x0001, Service: SDP)',\n",
       "       'Sent Disconnection Response (SCID: 0x0042, DCID: 0x0047, PSM: 0x0001, Service: SDP)',\n",
       "       'Rcvd Service Search Attribute Response (fragment)',\n",
       "       'Rcvd Connection Request (SDP, SCID: 0x0044)',\n",
       "       'Sent Connection Response - Success (SCID: 0x0044, DCID: 0x0049)',\n",
       "       'Sent Configure Request (DCID: 0x0044)',\n",
       "       'Sent Disconnection Request (SCID: 0x0048, DCID: 0x0043, PSM: 0x0001, Service: SDP)',\n",
       "       'Sent Configure Response - Success (SCID: 0x0044)',\n",
       "       'Rcvd Disconnection Response (SCID: 0x0048, DCID: 0x0043, PSM: 0x0001, Service: SDP)',\n",
       "       'Rcvd Service Search Attribute Request : L2CAP: Attribute Range (0x0000 - 0xffff) ',\n",
       "       'Rcvd Disconnection Request (SCID: 0x0044, DCID: 0x0049, PSM: 0x0001, Service: SDP)',\n",
       "       'Sent Disconnection Response (SCID: 0x0044, DCID: 0x0049, PSM: 0x0001, Service: SDP)',\n",
       "       'Sent Disconnect', 'Rcvd Command Status (Disconnect)',\n",
       "       'Rcvd Connection Request (SDP, SCID: 0x0046)',\n",
       "       'Sent Connection Response - Success (SCID: 0x0046, DCID: 0x004a)',\n",
       "       'Sent Configure Request (DCID: 0x0046)',\n",
       "       'Rcvd Configure Request (DCID: 0x004a)',\n",
       "       'Sent Configure Response - Success (SCID: 0x0046)',\n",
       "       'Rcvd Configure Response - Success (SCID: 0x004a)',\n",
       "       'Rcvd Service Search Attribute Request : OBEX Object Push: Attribute Range (0x0000 - 0xffff) ',\n",
       "       'Rcvd Disconnection Request (SCID: 0x0046, DCID: 0x004a, PSM: 0x0001, Service: SDP)',\n",
       "       'Sent Disconnection Response (SCID: 0x0046, DCID: 0x004a, PSM: 0x0001, Service: SDP)',\n",
       "       'Rcvd Connection Request (SDP, SCID: 0x0047)',\n",
       "       'Sent Connection Response - Success (SCID: 0x0047, DCID: 0x004b)',\n",
       "       'Sent Configure Request (DCID: 0x0047)',\n",
       "       'Rcvd Configure Request (DCID: 0x004b)',\n",
       "       'Sent Configure Response - Success (SCID: 0x0047)',\n",
       "       'Rcvd Configure Response - Success (SCID: 0x004b)',\n",
       "       'Rcvd Disconnection Request (SCID: 0x0047, DCID: 0x004b, PSM: 0x0001, Service: SDP)',\n",
       "       'Sent Disconnection Response (SCID: 0x0047, DCID: 0x004b, PSM: 0x0001, Service: SDP)',\n",
       "       'Sent Link Key Request Reply',\n",
       "       'Rcvd Command Complete (Link Key Request Reply)',\n",
       "       'Rcvd Connection Request (RFCOMM, SCID: 0x0048)',\n",
       "       'Sent Connection Response - Success (SCID: 0x0048, DCID: 0x004c)',\n",
       "       'Sent Configure Request (DCID: 0x0048)',\n",
       "       'Rcvd Configure Request (DCID: 0x004c)',\n",
       "       'Sent Configure Response - Success (SCID: 0x0048)',\n",
       "       'Rcvd Configure Response - Success (SCID: 0x004c)',\n",
       "       'Rcvd SABM Channel=0 ', 'Sent UA Channel=0 ',\n",
       "       'Rcvd UIH Channel=0 -> 12 MPX_CTRL DLC Parameter Negotiation (PN) ',\n",
       "       'Sent UIH Channel=0 -> 12 MPX_CTRL DLC Parameter Negotiation (PN) ',\n",
       "       'Rcvd SABM Channel=12 (OBEX Object Push) ', 'Sent UA Channel=12 ',\n",
       "       'Rcvd UIH Channel=0 -> 12 MPX_CTRL Modem Status Command (MSC) ',\n",
       "       'Sent UIH Channel=0 -> 12 MPX_CTRL Modem Status Command (MSC) ',\n",
       "       'Rcvd Connect', 'Sent Success', 'Rcvd OBEX fragment',\n",
       "       'Sent UIH Channel=12 UID ',\n",
       "       'Rcvd Put continue \"IMG-20221213-WA0013.jpeg\" (JPEG JFIF image)',\n",
       "       'Rcvd Mode Change', 'LMP_sniff_subrating_req',\n",
       "       'Rcvd Sniff Subrating', 'LMP_sniff_subrating_res',\n",
       "       'Sent Exit Sniff Mode', 'Sent Continue',\n",
       "       'Rcvd Command Status (Exit Sniff Mode)', 'LMP_unsniff_req',\n",
       "       'Rcvd Put continue', 'Rcvd Put final', 'Rcvd Disconnect',\n",
       "       'Sent DISC Channel=12 ', 'Rcvd DISC Channel=12 ',\n",
       "       'Rcvd DM Channel=12 ', 'Sent DM Channel=12 ',\n",
       "       'Sent DISC Channel=0 ', 'Rcvd DISC Channel=0 ',\n",
       "       'Rcvd UA Channel=0 ',\n",
       "       'Sent Disconnection Request (SCID: 0x004c, DCID: 0x0048, PSM: 0x0003, Service: RFCOMM)',\n",
       "       'Rcvd Disconnection Request (SCID: 0x0048, DCID: 0x004c, PSM: 0x0003, Service: RFCOMM)',\n",
       "       'Sent Disconnection Response (SCID: 0x0048, DCID: 0x004c, PSM: 0x0003, Service: RFCOMM)',\n",
       "       'Rcvd Disconnection Response (SCID: 0x004c, DCID: 0x0048, PSM: 0x0003, Service: RFCOMM)',\n",
       "       'Rcvd Connection Request (SDP, SCID: 0x0049)',\n",
       "       'Sent Connection Response - Success (SCID: 0x0049, DCID: 0x004d)',\n",
       "       'Sent Configure Request (DCID: 0x0049)',\n",
       "       'Rcvd Configure Request (DCID: 0x004d)',\n",
       "       'Sent Configure Response - Success (SCID: 0x0049)',\n",
       "       'Rcvd Configure Response - Success (SCID: 0x004d)',\n",
       "       'Rcvd Disconnection Request (SCID: 0x0049, DCID: 0x004d, PSM: 0x0001, Service: SDP)',\n",
       "       'Sent Disconnection Response (SCID: 0x0049, DCID: 0x004d, PSM: 0x0001, Service: SDP)',\n",
       "       'Rcvd Connection Request (SDP, SCID: 0x004a)',\n",
       "       'Sent Connection Response - Success (SCID: 0x004a, DCID: 0x004e)',\n",
       "       'Sent Configure Request (DCID: 0x004a)',\n",
       "       'Rcvd Configure Request (DCID: 0x004e)',\n",
       "       'Sent Configure Response - Success (SCID: 0x004a)',\n",
       "       'Rcvd Configure Response - Success (SCID: 0x004e)',\n",
       "       'Rcvd Disconnection Request (SCID: 0x004a, DCID: 0x004e, PSM: 0x0001, Service: SDP)',\n",
       "       'Sent Disconnection Response (SCID: 0x004a, DCID: 0x004e, PSM: 0x0001, Service: SDP)',\n",
       "       'Rcvd Connection Request (RFCOMM, SCID: 0x004b)',\n",
       "       'Sent Connection Response - Success (SCID: 0x004b, DCID: 0x004f)',\n",
       "       'Sent Configure Request (DCID: 0x004b)',\n",
       "       'Rcvd Configure Request (DCID: 0x004f)',\n",
       "       'Sent Configure Response - Success (SCID: 0x004b)',\n",
       "       'Rcvd Configure Response - Success (SCID: 0x004f)',\n",
       "       'Rcvd Put continue \"IMG_20221213_163415.jpg\" (JPEG JFIF image)'],\n",
       "      dtype=object)"
      ]
     },
     "execution_count": 386,
     "metadata": {},
     "output_type": "execute_result"
    }
   ],
   "source": [
    "count_false = (dataset['Delta'] == False).sum()\n",
    "print(f'False values in column Delta: {count_false}')\n",
    "dataset[\"Info\"].unique()"
   ]
  },
  {
   "cell_type": "code",
   "execution_count": 387,
   "id": "db304143",
   "metadata": {},
   "outputs": [
    {
     "name": "stdout",
     "output_type": "stream",
     "text": [
      "1661    0.0\n",
      "1896    0.0\n",
      "2116    0.0\n",
      "2249    0.0\n",
      "Name: Delta, dtype: float64\n"
     ]
    }
   ],
   "source": [
    "mask = (dataset['Delta'] == False)\n",
    "\n",
    "# Imprime los valores False\n",
    "print(dataset.loc[mask, 'Delta'])"
   ]
  },
  {
   "cell_type": "code",
   "execution_count": 388,
   "id": "afbbf669",
   "metadata": {},
   "outputs": [
    {
     "name": "stdout",
     "output_type": "stream",
     "text": [
      "Null values:\n",
      "Protocol    0\n",
      "Info        0\n",
      "Length      0\n",
      "Delta       0\n",
      "Type        0\n",
      "dtype: int64\n",
      "\n",
      "Duplicated values: 0\n"
     ]
    }
   ],
   "source": [
    "# Check if we have duplicated values or null values\n",
    "print(f\"Null values:\\n{dataset.isna().sum()}\\n\")\n",
    "print(f\"Duplicated values: {dataset.duplicated().sum()}\")"
   ]
  },
  {
   "cell_type": "code",
   "execution_count": 389,
   "id": "77b339c0",
   "metadata": {
    "scrolled": true
   },
   "outputs": [
    {
     "name": "stdout",
     "output_type": "stream",
     "text": [
      "['au_rand_flooding' 'duplicated_encapsulated_payload' 'duplicated_iocap'\n",
      " 'truncated_sco_link_request' 'feature_response_flooding'\n",
      " 'invalid_feature_page_execution' 'lmp_auto_rate_overflow'\n",
      " 'lmp_overflow_dm1' 'truncated_lmp_accepted' 'invalid_setup_complete'\n",
      " 'invalid_timing_accuracy' 'normal']\n",
      "['HCI_EVT' 'HCI_CMD' 'HCI H4 Broadcom' 'LMP' 'Baseband' 'L2CAP' 'SDP'\n",
      " 'BNEP' 'RFCOMM' 'OBEX']\n"
     ]
    }
   ],
   "source": [
    "# Check the types we have for the protocols\n",
    "print(dataset[\"Type\"].unique())\n",
    "print(dataset[\"Protocol\"].unique())"
   ]
  },
  {
   "cell_type": "code",
   "execution_count": 390,
   "id": "1ec75e24",
   "metadata": {},
   "outputs": [
    {
     "data": {
      "text/plain": [
       "count     6402\n",
       "unique      10\n",
       "top       OBEX\n",
       "freq      2575\n",
       "Name: Protocol, dtype: object"
      ]
     },
     "execution_count": 390,
     "metadata": {},
     "output_type": "execute_result"
    }
   ],
   "source": [
    "dataset[\"Protocol\"].describe()"
   ]
  },
  {
   "cell_type": "markdown",
   "id": "acba3b19",
   "metadata": {},
   "source": [
    "# Check the count of the Protocols\n",
    "To see how the number of total protocols are distributed, we incorporate a bar graph and as well a table from ascendent to descendent in order to visualize which protocol attack .\n"
   ]
  },
  {
   "cell_type": "code",
   "execution_count": 391,
   "id": "75e647cf",
   "metadata": {},
   "outputs": [
    {
     "data": {
      "text/plain": [
       "OBEX               2575\n",
       "LMP                1546\n",
       "HCI_EVT             964\n",
       "RFCOMM              638\n",
       "HCI_CMD             287\n",
       "L2CAP               231\n",
       "Baseband             78\n",
       "SDP                  44\n",
       "HCI H4 Broadcom      37\n",
       "BNEP                  2\n",
       "Name: Protocol, dtype: int64"
      ]
     },
     "execution_count": 391,
     "metadata": {},
     "output_type": "execute_result"
    }
   ],
   "source": [
    "# Count the occurrences of each protocol\n",
    "#dataset = dataset.shape()\n",
    "protocol_counts = dataset['Protocol'].value_counts()\n",
    "protocol_counts"
   ]
  },
  {
   "cell_type": "code",
   "execution_count": 392,
   "id": "c8598d16",
   "metadata": {
    "scrolled": true
   },
   "outputs": [
    {
     "data": {
      "image/png": "[encoded data removed]",
      "text/plain": [
       "<Figure size 1400x400 with 1 Axes>"
      ]
     },
     "metadata": {},
     "output_type": "display_data"
    }
   ],
   "source": [
    "# Create a bar plot using Matplotlib\n",
    "plt.figure(figsize=(14, 4))\n",
    "plt.bar(protocol_counts.index, protocol_counts.values, color='c')\n",
    "plt.title('Distribution of Protocols')\n",
    "plt.grid(False)\n",
    "plt.xlabel('Protocol')\n",
    "plt.ylabel('Count')\n",
    "plt.show()"
   ]
  },
  {
   "cell_type": "code",
   "execution_count": 393,
   "id": "0abf031c",
   "metadata": {},
   "outputs": [
    {
     "data": {
      "text/plain": [
       "normal                             4055\n",
       "au_rand_flooding                    526\n",
       "truncated_sco_link_request          304\n",
       "duplicated_iocap                    277\n",
       "invalid_feature_page_execution      239\n",
       "truncated_lmp_accepted              236\n",
       "invalid_timing_accuracy             188\n",
       "feature_response_flooding           161\n",
       "lmp_overflow_dm1                    142\n",
       "lmp_auto_rate_overflow              124\n",
       "duplicated_encapsulated_payload      94\n",
       "invalid_setup_complete               56\n",
       "Name: Type, dtype: int64"
      ]
     },
     "execution_count": 393,
     "metadata": {},
     "output_type": "execute_result"
    }
   ],
   "source": [
    "type_counts = dataset['Type'].value_counts()\n",
    "type_counts"
   ]
  },
  {
   "cell_type": "code",
   "execution_count": 394,
   "id": "b4b3e526",
   "metadata": {
    "scrolled": false
   },
   "outputs": [
    {
     "data": {
      "image/png": "[encoded data removed]",
      "text/plain": [
       "<Figure size 1200x400 with 1 Axes>"
      ]
     },
     "metadata": {},
     "output_type": "display_data"
    }
   ],
   "source": [
    "# Create a bar plot using Matplotlib\n",
    "plt.figure(figsize=(12, 4))\n",
    "plt.barh(type_counts.index, type_counts.values, color='c')\n",
    "plt.title('Distribution of Types')\n",
    "plt.gca().invert_yaxis()\n",
    "plt.xlabel('Count')\n",
    "plt.ylabel('Type')\n",
    "plt.show()"
   ]
  },
  {
   "cell_type": "code",
   "execution_count": 395,
   "id": "4ba31aa1",
   "metadata": {},
   "outputs": [],
   "source": [
    "# Rename the columns if its not normal, then it will be attack\n",
    "dataset[\"Type\"] = dataset[\"Type\"].str.replace(\"normal\", \"No Attack\")\n",
    "# Numpy where to check where values are different from no attack\n",
    "dataset[\"Type\"] = np.where(dataset[\"Type\"]!= \"No Attack\", \"Attack\", dataset[\"Type\"])\n"
   ]
  },
  {
   "cell_type": "code",
   "execution_count": 396,
   "id": "2175e29a",
   "metadata": {
    "scrolled": true
   },
   "outputs": [
    {
     "data": {
      "text/plain": [
       "No Attack    4055\n",
       "Attack       2347\n",
       "Name: Type, dtype: int64"
      ]
     },
     "execution_count": 396,
     "metadata": {},
     "output_type": "execute_result"
    }
   ],
   "source": [
    "type_counts = dataset['Type'].value_counts()\n",
    "type_counts"
   ]
  },
  {
   "cell_type": "code",
   "execution_count": 397,
   "id": "ad8dce34",
   "metadata": {
    "scrolled": true
   },
   "outputs": [
    {
     "data": {
      "image/png": "[encoded data removed]",
      "text/plain": [
       "<Figure size 600x300 with 1 Axes>"
      ]
     },
     "metadata": {},
     "output_type": "display_data"
    }
   ],
   "source": [
    "# Create a bar plot using Matplotlib\n",
    "plt.figure(figsize=(6, 3))\n",
    "plt.bar(type_counts.index, type_counts.values, color='c')\n",
    "plt.title('Distribution of Types')\n",
    "plt.xlabel('Type')\n",
    "plt.ylabel('Count')\n",
    "plt.show()"
   ]
  },
  {
   "cell_type": "markdown",
   "id": "80640900",
   "metadata": {},
   "source": [
    "## Clean our information\n",
    "Seeing the info column, we can see that the dataset have repeated values as well after the \"()\" characters or \"-\" character. In this case, we would implement a method to delete the rest of the string if it detects one of this special characters."
   ]
  },
  {
   "cell_type": "code",
   "execution_count": 398,
   "id": "93650990",
   "metadata": {},
   "outputs": [
    {
     "data": {
      "text/plain": [
       "array(['Rcvd Link Key Request', 'Sent Link Key Request Negative Reply',\n",
       "       'Rcvd Command Complete (Link Key Request Negative Reply)',\n",
       "       'LM Sent', 'LMP_au_rand', 'FHS', 'LMP_not_accepted', 'LM Received',\n",
       "       'Rcvd Connect Request', 'Sent Accept Connection Request',\n",
       "       'Rcvd Command Status (Accept Connection Request)',\n",
       "       'Rcvd Connect Complete', 'Sent Read Clock offset',\n",
       "       'Sent Information Request (Extended Features Mask)',\n",
       "       'Rcvd Max Slots Change',\n",
       "       'Rcvd Connection Request (SDP, SCID: 0x0041)',\n",
       "       'Rcvd Command Status (Read Clock offset)',\n",
       "       'Sent Read Remote Version Information',\n",
       "       'Sent Connection Response - Pending (SCID: 0x0041)',\n",
       "       'Rcvd Read Clock Offset Complete',\n",
       "       'Rcvd Command Status (Read Remote Version Information)',\n",
       "       'Sent Read Remote Supported Features',\n",
       "       'Rcvd Read Remote Version Information Complete',\n",
       "       'Rcvd Command Status (Read Remote Supported Features)',\n",
       "       'Sent Remote Name Request', 'Rcvd Read Remote Supported Features',\n",
       "       'Rcvd Command Status (Remote Name Request)',\n",
       "       'Sent Write Link Policy Settings',\n",
       "       'Rcvd Command Complete (Write Link Policy Settings)',\n",
       "       'Sent Read Remote Extended Features',\n",
       "       'Rcvd Command Status (Read Remote Extended Features)',\n",
       "       'Rcvd Read Remote Extended Features Complete',\n",
       "       'Sent Change Connection Packet Type',\n",
       "       'Rcvd Command Status (Change Connection Packet Type)',\n",
       "       'Rcvd Connection Packet Type Changed',\n",
       "       'Sent Connection Response - Success (SCID: 0x0041, DCID: 0x0044)',\n",
       "       'Sent Configure Request (DCID: 0x0041)',\n",
       "       'Rcvd Remote Name Request Complete',\n",
       "       'Rcvd Number of Completed Packets', 'Rcvd Disconnect Complete',\n",
       "       'LMP_features_req', 'LMP_features_res', 'LMP_features_req_ext',\n",
       "       'LMP_features_res_ext', 'LMP_not_accepted_ext', 'LMP_version_res',\n",
       "       'LMP_setup_complete', 'LMP_max_slot', 'LMP_accepted',\n",
       "       'LMP_timing_accuracy_req', 'LMP_timing_accuracy_res',\n",
       "       'LMP_power_control_req', 'LMP_name_req', 'LMP_name_res',\n",
       "       'LMP_packet_type_table_req',\n",
       "       'Information Request (Extended Features Mask)',\n",
       "       'LMP_host_connection_req',\n",
       "       'Rcvd Information Response (Extended Features Mask, Success)',\n",
       "       'Sent Information Request (Fixed Channels Supported)',\n",
       "       'Rcvd Information Response (Fixed Channels Supported, Success)',\n",
       "       'Sent Connection Response - Success (SCID: 0x0041, DCID: 0x0048)',\n",
       "       'Rcvd Configure Request (DCID: 0x0048)',\n",
       "       'Sent Configure Response - Success (SCID: 0x0041)',\n",
       "       'Rcvd Configure Response - Success (SCID: 0x0048)',\n",
       "       'Rcvd Service Search Attribute Request : Public Browse Group: Attribute Range (0x0001 - 0x0100) ',\n",
       "       'Sent Service Search Attribute Response (fragment)',\n",
       "       'Sent Service Search Attribute Response ',\n",
       "       'Rcvd Disconnection Request (SCID: 0x0041, DCID: 0x0048, PSM: 0x0001, Service: SDP)',\n",
       "       'Sent Disconnection Response (SCID: 0x0041, DCID: 0x0048, PSM: 0x0001, Service: SDP)',\n",
       "       'Rcvd Connection Request (SDP, SCID: 0x0042)',\n",
       "       'Sent Connection Response - Pending (SCID: 0x0042)',\n",
       "       'Sent Connection Response - Success (SCID: 0x0042, DCID: 0x0049)',\n",
       "       'Sent Configure Request (DCID: 0x0042)',\n",
       "       'Rcvd Configure Request (DCID: 0x0049)',\n",
       "       'Sent Configure Response - Success (SCID: 0x0042)',\n",
       "       'Rcvd Configure Response - Success (SCID: 0x0049)',\n",
       "       'Rcvd Disconnection Request (SCID: 0x0042, DCID: 0x0049, PSM: 0x0001, Service: SDP)',\n",
       "       'Sent Disconnection Response (SCID: 0x0042, DCID: 0x0049, PSM: 0x0001, Service: SDP)',\n",
       "       'LMP_version_req', 'LMP_set_AFH', 'LMP_channel_classification_req',\n",
       "       'LMP_auto_rate', 'LMP_max_slot_req', 'LMP_accepted_ext',\n",
       "       'Connection Response - Pending (SCID: 0x0041)',\n",
       "       'Information Response (Extended Features Mask, Success)',\n",
       "       'Information Request (Fixed Channels Supported)',\n",
       "       'Information Response (Fixed Channels Supported, Success)',\n",
       "       'Connection Response - Success (SCID: 0x0041, DCID: 0x0048)',\n",
       "       'Configure Request (DCID: 0x0041)',\n",
       "       'Configure Request (DCID: 0x0048)',\n",
       "       'Configure Response - Success (SCID: 0x0048)',\n",
       "       'Configure Response - Success (SCID: 0x0041)',\n",
       "       'Connection oriented channel',\n",
       "       'Disconnection Request (SCID: 0x0041, DCID: 0x0048, PSM: Unknown, Service: Unknown)',\n",
       "       'Disconnection Response (SCID: 0x0041, DCID: 0x0048, PSM: Unknown, Service: Unknown)',\n",
       "       'LMP_detach', 'Connection Request (SDP, SCID: 0x0042)',\n",
       "       'Connection Response - Pending (SCID: 0x0042)',\n",
       "       'Connection Response - Success (SCID: 0x0042, DCID: 0x0049)',\n",
       "       'Configure Request (DCID: 0x0042)',\n",
       "       'Configure Request (DCID: 0x0049)',\n",
       "       'Configure Response - Success (SCID: 0x0049)',\n",
       "       'Configure Response - Success (SCID: 0x0042)',\n",
       "       'Service Search Attribute Request : Public Browse Group: Attribute Range (0x0001 - 0x0100) ',\n",
       "       'Service Search Attribute Response (fragment)',\n",
       "       'Service Search Attribute Response ',\n",
       "       'Disconnection Request (SCID: 0x0042, DCID: 0x0049, PSM: 0x0001, Service: SDP)',\n",
       "       'Disconnection Response (SCID: 0x0042, DCID: 0x0049, PSM: 0x0001, Service: SDP)',\n",
       "       'LMP_channel_classification',\n",
       "       'Sent Connection Response - Success (SCID: 0x0041, DCID: 0x0046)',\n",
       "       'Rcvd Configure Request (DCID: 0x0046)',\n",
       "       'Rcvd Configure Response - Success (SCID: 0x0046)',\n",
       "       'Rcvd Disconnection Request (SCID: 0x0041, DCID: 0x0046, PSM: 0x0001, Service: SDP)',\n",
       "       'Sent Disconnection Response (SCID: 0x0041, DCID: 0x0046, PSM: 0x0001, Service: SDP)',\n",
       "       'Connection Request (SDP, SCID: 0x0041)',\n",
       "       'Connection Response - Success (SCID: 0x0041, DCID: 0x0046)',\n",
       "       'Configure Request (DCID: 0x0046)',\n",
       "       'Configure Response - Success (SCID: 0x0046)',\n",
       "       'Disconnection Request (SCID: 0x0041, DCID: 0x0046, PSM: 0x0001, Service: SDP)',\n",
       "       'Disconnection Response (SCID: 0x0041, DCID: 0x0046, PSM: 0x0001, Service: SDP)',\n",
       "       'Sent Connection Response - Success (SCID: 0x0041, DCID: 0x0045)',\n",
       "       'Rcvd Configure Request (DCID: 0x0045)',\n",
       "       'Rcvd Configure Response - Success (SCID: 0x0045)',\n",
       "       'Rcvd Disconnection Request (SCID: 0x0041, DCID: 0x0045, PSM: 0x0001, Service: SDP)',\n",
       "       'Sent Disconnection Response (SCID: 0x0041, DCID: 0x0045, PSM: 0x0001, Service: SDP)',\n",
       "       'Connection Response - Success (SCID: 0x0041, DCID: 0x0045)',\n",
       "       'Configure Request (DCID: 0x0045)',\n",
       "       'Configure Response - Success (SCID: 0x0045)',\n",
       "       'Disconnection Request (SCID: 0x0041, DCID: 0x0045, PSM: Unknown, Service: Unknown)',\n",
       "       'Disconnection Response (SCID: 0x0041, DCID: 0x0045, PSM: Unknown, Service: Unknown)',\n",
       "       'LMP_slot_offset', 'LMP_switch_req', 'Rcvd Role Change',\n",
       "       'LMP_auto_rate[Dissector bug, protocol esp32_btlmp: ../libs/wireshark/plugins/epan/h4bcm/packet-btbrlmp.c:3130: failed assertion \"len == 1\"]',\n",
       "       'LMP_accepted[Dissector bug, protocol esp32_btlmp: ../libs/wireshark/plugins/epan/h4bcm/packet-btbrlmp.c:2691: failed assertion \"len == 2\"]',\n",
       "       'Unknown Opcode (84)',\n",
       "       'Sent Connection Response - Success (SCID: 0x0041, DCID: 0x0047)',\n",
       "       'Unknown Opcode (91)', 'Sent LE Set Scan Parameters',\n",
       "       'Rcvd Command Complete (LE Set Scan Parameters)',\n",
       "       'Sent LE Set Scan Enable',\n",
       "       'Rcvd Command Complete (LE Set Scan Enable)',\n",
       "       'Sent Set Event Filter',\n",
       "       'Rcvd Command Complete (Set Event Filter)',\n",
       "       'Sent Write Current IAC LAP',\n",
       "       'Rcvd LE Meta (LE Advertising Report)',\n",
       "       'Rcvd Command Complete (Write Current IAC LAP)',\n",
       "       'Sent Write Scan Enable',\n",
       "       'Rcvd Command Complete (Write Scan Enable)', 'Sent Inquiry',\n",
       "       'Rcvd Command Status (Inquiry)', 'Rcvd Inquiry Complete',\n",
       "       'LMP_clkoffset_req', 'LMP_preferred_rate', 'LMP_clkoffset_res',\n",
       "       'Rcvd Link Supervision Timeout Changed', 'LMP_supervision_timeout',\n",
       "       'Rcvd Information Request (Extended Features Mask)',\n",
       "       'Sent Information Response (Extended Features Mask, Success)',\n",
       "       'Rcvd Information Request (Fixed Channels Supported)',\n",
       "       'Sent Information Response (Fixed Channels Supported, Success)',\n",
       "       'Rcvd IO Capability Response', 'Rcvd IO Capability Request',\n",
       "       'LMP_IO_Capability_req', 'Sent IO Capability Request Reply',\n",
       "       'Rcvd Command Complete (IO Capability Request Reply)',\n",
       "       'LMP_IO_Capability_res', 'LMP_encapsulated_header',\n",
       "       'LMP_encapsulated_payload', 'LMP_Simple_Pairing_Confirm',\n",
       "       'LMP_Simple_Pairing_Number', 'Rcvd User Confirmation Request',\n",
       "       'LMP_power_control_res', 'Sent User Confirmation Request Reply',\n",
       "       'Rcvd Command Complete (User Confirmation Request Reply)',\n",
       "       'LMP_DHkey_Check', 'Rcvd Simple Pairing Complete', 'LMP_sres',\n",
       "       'Rcvd Link Key Notification', 'LMP_encryption_key_size_mask_req',\n",
       "       'LMP_encryption_key_size_mask_res', 'LMP_encryption_mode_req',\n",
       "       'LMP_encryption_key_size_req', 'Rcvd Encryption Change',\n",
       "       'LMP_start_encryption_req',\n",
       "       'Rcvd Connection Request (BNEP, SCID: 0x0040)',\n",
       "       'Sent Connection Response - Success (SCID: 0x0040, DCID: 0x0045)',\n",
       "       'Sent Configure Request (DCID: 0x0040)',\n",
       "       'Sent Connection Request (SDP, SCID: 0x0046)',\n",
       "       'Sent Configure Response - Success (SCID: 0x0040)',\n",
       "       'Rcvd Connection Response - Success (SCID: 0x0046, DCID: 0x0041)',\n",
       "       'Rcvd Control - Setup Connection Request - dst: <PAN NAP>, src: <PAN PANU>',\n",
       "       'Sent Control - Setup Connection Response - Operation Successful',\n",
       "       'Sent Sniff Subrating',\n",
       "       'Sent Disconnection Request (SCID: 0x0045, DCID: 0x0040, PSM: 0x000f, Service: BNEP)',\n",
       "       'Rcvd Command Complete (Sniff Subrating)',\n",
       "       'Sent Service Search Attribute Request : PnP Information: Attribute Range (0x0000 - 0xffff) ',\n",
       "       'Rcvd Disconnection Response (SCID: 0x0045, DCID: 0x0040, PSM: 0x000f, Service: BNEP)',\n",
       "       'Rcvd Service Search Attribute Response ',\n",
       "       'Sent Disconnection Request (SCID: 0x0046, DCID: 0x0041, PSM: 0x0001, Service: SDP)',\n",
       "       'Sent Connection Response - Success (SCID: 0x0042, DCID: 0x0047)',\n",
       "       'Rcvd Disconnection Response (SCID: 0x0046, DCID: 0x0041, PSM: 0x0001, Service: SDP)',\n",
       "       'Sent Connection Request (SDP, SCID: 0x0048)',\n",
       "       'Rcvd Configure Request (DCID: 0x0047)',\n",
       "       'Rcvd Configure Response - Success (SCID: 0x0047)',\n",
       "       'Rcvd Connection Response - Success (SCID: 0x0048, DCID: 0x0043)',\n",
       "       'Sent Configure Request (DCID: 0x0043)',\n",
       "       'Sent Configure Response - Success (SCID: 0x0043)',\n",
       "       'Rcvd Service Search Attribute Request : PnP Information: Attribute Range (0x0000 - 0xffff) ',\n",
       "       'Sent Service Search Attribute Request : L2CAP: Attribute Range (0x0000 - 0xffff) ',\n",
       "       'Rcvd Disconnection Request (SCID: 0x0042, DCID: 0x0047, PSM: 0x0001, Service: SDP)',\n",
       "       'Sent Disconnection Response (SCID: 0x0042, DCID: 0x0047, PSM: 0x0001, Service: SDP)',\n",
       "       'Rcvd Service Search Attribute Response (fragment)',\n",
       "       'Rcvd Connection Request (SDP, SCID: 0x0044)',\n",
       "       'Sent Connection Response - Success (SCID: 0x0044, DCID: 0x0049)',\n",
       "       'Sent Configure Request (DCID: 0x0044)',\n",
       "       'Sent Disconnection Request (SCID: 0x0048, DCID: 0x0043, PSM: 0x0001, Service: SDP)',\n",
       "       'Sent Configure Response - Success (SCID: 0x0044)',\n",
       "       'Rcvd Disconnection Response (SCID: 0x0048, DCID: 0x0043, PSM: 0x0001, Service: SDP)',\n",
       "       'Rcvd Service Search Attribute Request : L2CAP: Attribute Range (0x0000 - 0xffff) ',\n",
       "       'Rcvd Disconnection Request (SCID: 0x0044, DCID: 0x0049, PSM: 0x0001, Service: SDP)',\n",
       "       'Sent Disconnection Response (SCID: 0x0044, DCID: 0x0049, PSM: 0x0001, Service: SDP)',\n",
       "       'Sent Disconnect', 'Rcvd Command Status (Disconnect)',\n",
       "       'Rcvd Connection Request (SDP, SCID: 0x0046)',\n",
       "       'Sent Connection Response - Success (SCID: 0x0046, DCID: 0x004a)',\n",
       "       'Sent Configure Request (DCID: 0x0046)',\n",
       "       'Rcvd Configure Request (DCID: 0x004a)',\n",
       "       'Sent Configure Response - Success (SCID: 0x0046)',\n",
       "       'Rcvd Configure Response - Success (SCID: 0x004a)',\n",
       "       'Rcvd Service Search Attribute Request : OBEX Object Push: Attribute Range (0x0000 - 0xffff) ',\n",
       "       'Rcvd Disconnection Request (SCID: 0x0046, DCID: 0x004a, PSM: 0x0001, Service: SDP)',\n",
       "       'Sent Disconnection Response (SCID: 0x0046, DCID: 0x004a, PSM: 0x0001, Service: SDP)',\n",
       "       'Rcvd Connection Request (SDP, SCID: 0x0047)',\n",
       "       'Sent Connection Response - Success (SCID: 0x0047, DCID: 0x004b)',\n",
       "       'Sent Configure Request (DCID: 0x0047)',\n",
       "       'Rcvd Configure Request (DCID: 0x004b)',\n",
       "       'Sent Configure Response - Success (SCID: 0x0047)',\n",
       "       'Rcvd Configure Response - Success (SCID: 0x004b)',\n",
       "       'Rcvd Disconnection Request (SCID: 0x0047, DCID: 0x004b, PSM: 0x0001, Service: SDP)',\n",
       "       'Sent Disconnection Response (SCID: 0x0047, DCID: 0x004b, PSM: 0x0001, Service: SDP)',\n",
       "       'Sent Link Key Request Reply',\n",
       "       'Rcvd Command Complete (Link Key Request Reply)',\n",
       "       'Rcvd Connection Request (RFCOMM, SCID: 0x0048)',\n",
       "       'Sent Connection Response - Success (SCID: 0x0048, DCID: 0x004c)',\n",
       "       'Sent Configure Request (DCID: 0x0048)',\n",
       "       'Rcvd Configure Request (DCID: 0x004c)',\n",
       "       'Sent Configure Response - Success (SCID: 0x0048)',\n",
       "       'Rcvd Configure Response - Success (SCID: 0x004c)',\n",
       "       'Rcvd SABM Channel=0 ', 'Sent UA Channel=0 ',\n",
       "       'Rcvd UIH Channel=0 -> 12 MPX_CTRL DLC Parameter Negotiation (PN) ',\n",
       "       'Sent UIH Channel=0 -> 12 MPX_CTRL DLC Parameter Negotiation (PN) ',\n",
       "       'Rcvd SABM Channel=12 (OBEX Object Push) ', 'Sent UA Channel=12 ',\n",
       "       'Rcvd UIH Channel=0 -> 12 MPX_CTRL Modem Status Command (MSC) ',\n",
       "       'Sent UIH Channel=0 -> 12 MPX_CTRL Modem Status Command (MSC) ',\n",
       "       'Rcvd Connect', 'Sent Success', 'Rcvd OBEX fragment',\n",
       "       'Sent UIH Channel=12 UID ',\n",
       "       'Rcvd Put continue \"IMG-20221213-WA0013.jpeg\" (JPEG JFIF image)',\n",
       "       'Rcvd Mode Change', 'LMP_sniff_subrating_req',\n",
       "       'Rcvd Sniff Subrating', 'LMP_sniff_subrating_res',\n",
       "       'Sent Exit Sniff Mode', 'Sent Continue',\n",
       "       'Rcvd Command Status (Exit Sniff Mode)', 'LMP_unsniff_req',\n",
       "       'Rcvd Put continue', 'Rcvd Put final', 'Rcvd Disconnect',\n",
       "       'Sent DISC Channel=12 ', 'Rcvd DISC Channel=12 ',\n",
       "       'Rcvd DM Channel=12 ', 'Sent DM Channel=12 ',\n",
       "       'Sent DISC Channel=0 ', 'Rcvd DISC Channel=0 ',\n",
       "       'Rcvd UA Channel=0 ',\n",
       "       'Sent Disconnection Request (SCID: 0x004c, DCID: 0x0048, PSM: 0x0003, Service: RFCOMM)',\n",
       "       'Rcvd Disconnection Request (SCID: 0x0048, DCID: 0x004c, PSM: 0x0003, Service: RFCOMM)',\n",
       "       'Sent Disconnection Response (SCID: 0x0048, DCID: 0x004c, PSM: 0x0003, Service: RFCOMM)',\n",
       "       'Rcvd Disconnection Response (SCID: 0x004c, DCID: 0x0048, PSM: 0x0003, Service: RFCOMM)',\n",
       "       'Rcvd Connection Request (SDP, SCID: 0x0049)',\n",
       "       'Sent Connection Response - Success (SCID: 0x0049, DCID: 0x004d)',\n",
       "       'Sent Configure Request (DCID: 0x0049)',\n",
       "       'Rcvd Configure Request (DCID: 0x004d)',\n",
       "       'Sent Configure Response - Success (SCID: 0x0049)',\n",
       "       'Rcvd Configure Response - Success (SCID: 0x004d)',\n",
       "       'Rcvd Disconnection Request (SCID: 0x0049, DCID: 0x004d, PSM: 0x0001, Service: SDP)',\n",
       "       'Sent Disconnection Response (SCID: 0x0049, DCID: 0x004d, PSM: 0x0001, Service: SDP)',\n",
       "       'Rcvd Connection Request (SDP, SCID: 0x004a)',\n",
       "       'Sent Connection Response - Success (SCID: 0x004a, DCID: 0x004e)',\n",
       "       'Sent Configure Request (DCID: 0x004a)',\n",
       "       'Rcvd Configure Request (DCID: 0x004e)',\n",
       "       'Sent Configure Response - Success (SCID: 0x004a)',\n",
       "       'Rcvd Configure Response - Success (SCID: 0x004e)',\n",
       "       'Rcvd Disconnection Request (SCID: 0x004a, DCID: 0x004e, PSM: 0x0001, Service: SDP)',\n",
       "       'Sent Disconnection Response (SCID: 0x004a, DCID: 0x004e, PSM: 0x0001, Service: SDP)',\n",
       "       'Rcvd Connection Request (RFCOMM, SCID: 0x004b)',\n",
       "       'Sent Connection Response - Success (SCID: 0x004b, DCID: 0x004f)',\n",
       "       'Sent Configure Request (DCID: 0x004b)',\n",
       "       'Rcvd Configure Request (DCID: 0x004f)',\n",
       "       'Sent Configure Response - Success (SCID: 0x004b)',\n",
       "       'Rcvd Configure Response - Success (SCID: 0x004f)',\n",
       "       'Rcvd Put continue \"IMG_20221213_163415.jpg\" (JPEG JFIF image)'],\n",
       "      dtype=object)"
      ]
     },
     "execution_count": 398,
     "metadata": {},
     "output_type": "execute_result"
    }
   ],
   "source": [
    "dataset[\"Info\"].unique()"
   ]
  },
  {
   "cell_type": "code",
   "execution_count": 399,
   "id": "dda2c5f3",
   "metadata": {
    "scrolled": true
   },
   "outputs": [
    {
     "data": {
      "text/html": [
       "<div>\n",
       "<style scoped>\n",
       "    .dataframe tbody tr th:only-of-type {\n",
       "        vertical-align: middle;\n",
       "    }\n",
       "\n",
       "    .dataframe tbody tr th {\n",
       "        vertical-align: top;\n",
       "    }\n",
       "\n",
       "    .dataframe thead th {\n",
       "        text-align: right;\n",
       "    }\n",
       "</style>\n",
       "<table border=\"1\" class=\"dataframe\">\n",
       "  <thead>\n",
       "    <tr style=\"text-align: right;\">\n",
       "      <th></th>\n",
       "      <th>Protocol</th>\n",
       "      <th>Info</th>\n",
       "      <th>Length</th>\n",
       "      <th>Delta</th>\n",
       "      <th>Type</th>\n",
       "    </tr>\n",
       "  </thead>\n",
       "  <tbody>\n",
       "    <tr>\n",
       "      <th>0</th>\n",
       "      <td>HCI_EVT</td>\n",
       "      <td>Rcvd Link Key Request</td>\n",
       "      <td>9</td>\n",
       "      <td>0.010473</td>\n",
       "      <td>Attack</td>\n",
       "    </tr>\n",
       "    <tr>\n",
       "      <th>1</th>\n",
       "      <td>HCI_CMD</td>\n",
       "      <td>Sent Link Key Request Negative Reply</td>\n",
       "      <td>10</td>\n",
       "      <td>0.010473</td>\n",
       "      <td>Attack</td>\n",
       "    </tr>\n",
       "    <tr>\n",
       "      <th>2</th>\n",
       "      <td>HCI_EVT</td>\n",
       "      <td>Rcvd Link Key Request</td>\n",
       "      <td>9</td>\n",
       "      <td>0.017913</td>\n",
       "      <td>Attack</td>\n",
       "    </tr>\n",
       "    <tr>\n",
       "      <th>3</th>\n",
       "      <td>HCI_EVT</td>\n",
       "      <td>Rcvd Command Complete (Link Key Request Negati...</td>\n",
       "      <td>13</td>\n",
       "      <td>0.002642</td>\n",
       "      <td>Attack</td>\n",
       "    </tr>\n",
       "    <tr>\n",
       "      <th>4</th>\n",
       "      <td>HCI_CMD</td>\n",
       "      <td>Sent Link Key Request Negative Reply</td>\n",
       "      <td>10</td>\n",
       "      <td>0.002882</td>\n",
       "      <td>Attack</td>\n",
       "    </tr>\n",
       "    <tr>\n",
       "      <th>...</th>\n",
       "      <td>...</td>\n",
       "      <td>...</td>\n",
       "      <td>...</td>\n",
       "      <td>...</td>\n",
       "      <td>...</td>\n",
       "    </tr>\n",
       "    <tr>\n",
       "      <th>6397</th>\n",
       "      <td>RFCOMM</td>\n",
       "      <td>Sent UIH Channel=12 UID</td>\n",
       "      <td>14</td>\n",
       "      <td>0.006531</td>\n",
       "      <td>No Attack</td>\n",
       "    </tr>\n",
       "    <tr>\n",
       "      <th>6398</th>\n",
       "      <td>HCI_EVT</td>\n",
       "      <td>Rcvd Number of Completed Packets</td>\n",
       "      <td>8</td>\n",
       "      <td>0.004969</td>\n",
       "      <td>No Attack</td>\n",
       "    </tr>\n",
       "    <tr>\n",
       "      <th>6399</th>\n",
       "      <td>OBEX</td>\n",
       "      <td>Sent Continue</td>\n",
       "      <td>21</td>\n",
       "      <td>0.014489</td>\n",
       "      <td>No Attack</td>\n",
       "    </tr>\n",
       "    <tr>\n",
       "      <th>6400</th>\n",
       "      <td>LMP</td>\n",
       "      <td>LMP_power_control_req</td>\n",
       "      <td>64</td>\n",
       "      <td>0.003510</td>\n",
       "      <td>No Attack</td>\n",
       "    </tr>\n",
       "    <tr>\n",
       "      <th>6401</th>\n",
       "      <td>LMP</td>\n",
       "      <td>LMP_power_control_res</td>\n",
       "      <td>64</td>\n",
       "      <td>0.001288</td>\n",
       "      <td>No Attack</td>\n",
       "    </tr>\n",
       "  </tbody>\n",
       "</table>\n",
       "<p>6402 rows × 5 columns</p>\n",
       "</div>"
      ],
      "text/plain": [
       "     Protocol                                               Info  Length  \\\n",
       "0     HCI_EVT                              Rcvd Link Key Request       9   \n",
       "1     HCI_CMD               Sent Link Key Request Negative Reply      10   \n",
       "2     HCI_EVT                              Rcvd Link Key Request       9   \n",
       "3     HCI_EVT  Rcvd Command Complete (Link Key Request Negati...      13   \n",
       "4     HCI_CMD               Sent Link Key Request Negative Reply      10   \n",
       "...       ...                                                ...     ...   \n",
       "6397   RFCOMM                           Sent UIH Channel=12 UID       14   \n",
       "6398  HCI_EVT                   Rcvd Number of Completed Packets       8   \n",
       "6399     OBEX                                      Sent Continue      21   \n",
       "6400      LMP                              LMP_power_control_req      64   \n",
       "6401      LMP                              LMP_power_control_res      64   \n",
       "\n",
       "         Delta       Type  \n",
       "0     0.010473     Attack  \n",
       "1     0.010473     Attack  \n",
       "2     0.017913     Attack  \n",
       "3     0.002642     Attack  \n",
       "4     0.002882     Attack  \n",
       "...        ...        ...  \n",
       "6397  0.006531  No Attack  \n",
       "6398  0.004969  No Attack  \n",
       "6399  0.014489  No Attack  \n",
       "6400  0.003510  No Attack  \n",
       "6401  0.001288  No Attack  \n",
       "\n",
       "[6402 rows x 5 columns]"
      ]
     },
     "execution_count": 399,
     "metadata": {},
     "output_type": "execute_result"
    }
   ],
   "source": [
    "dataset"
   ]
  },
  {
   "cell_type": "code",
   "execution_count": 400,
   "id": "a3e04a07",
   "metadata": {},
   "outputs": [
    {
     "data": {
      "text/plain": [
       "array(['FHS', 'LM Received', 'LM Sent', 'LMP_accepted',\n",
       "       'LMP_accepted_ext', 'LMP_au_rand', 'LMP_auto_rate',\n",
       "       'LMP_channel_classification', 'LMP_channel_classification_req',\n",
       "       'LMP_detach', 'LMP_features_req', 'LMP_features_req_ext',\n",
       "       'LMP_features_res', 'LMP_features_res_ext',\n",
       "       'LMP_host_connection_req', 'LMP_max_slot', 'LMP_max_slot_req',\n",
       "       'LMP_not_accepted', 'LMP_not_accepted_ext',\n",
       "       'LMP_packet_type_table_req', 'LMP_power_control_req',\n",
       "       'LMP_power_control_res', 'LMP_set_AFH', 'LMP_setup_complete',\n",
       "       'LMP_timing_accuracy_req', 'LMP_timing_accuracy_res',\n",
       "       'LMP_version_req', 'LMP_version_res',\n",
       "       'Rcvd Command Complete (Link Key Request Negative Reply)',\n",
       "       'Rcvd Command Complete (Write Link Policy Settings)',\n",
       "       'Rcvd Command Complete (Write Scan Enable)',\n",
       "       'Rcvd Command Status (Accept Connection Request)',\n",
       "       'Rcvd Command Status (Change Connection Packet Type)',\n",
       "       'Rcvd Command Status (Read Clock offset)',\n",
       "       'Rcvd Command Status (Read Remote Extended Features)',\n",
       "       'Rcvd Command Status (Read Remote Version Information)',\n",
       "       'Rcvd Connect Complete', 'Rcvd Connect Request',\n",
       "       'Rcvd Disconnect Complete', 'Rcvd LE Meta (LE Advertising Report)',\n",
       "       'Rcvd Link Key Request', 'Rcvd Max Slots Change',\n",
       "       'Rcvd Number of Completed Packets', 'Rcvd OBEX fragment',\n",
       "       'Rcvd Put continue', 'Rcvd Read Clock Offset Complete',\n",
       "       'Rcvd Read Remote Extended Features Complete',\n",
       "       'Rcvd Read Remote Version Information Complete',\n",
       "       'Sent Accept Connection Request',\n",
       "       'Sent Change Connection Packet Type', 'Sent Continue',\n",
       "       'Sent Information Request (Extended Features Mask)',\n",
       "       'Sent Link Key Request Negative Reply', 'Sent Read Clock offset',\n",
       "       'Sent Read Remote Extended Features',\n",
       "       'Sent Read Remote Version Information', 'Sent UIH Channel=12 UID ',\n",
       "       'Sent Write Link Policy Settings', 'Sent Write Scan Enable'],\n",
       "      dtype=object)"
      ]
     },
     "execution_count": 400,
     "metadata": {},
     "output_type": "execute_result"
    }
   ],
   "source": [
    "X_test = pd.read_csv(\"X_test.csv\")\n",
    "X_test['Info'].unique()"
   ]
  },
  {
   "cell_type": "code",
   "execution_count": 401,
   "id": "4be26194",
   "metadata": {},
   "outputs": [
    {
     "data": {
      "text/html": [
       "<div>\n",
       "<style scoped>\n",
       "    .dataframe tbody tr th:only-of-type {\n",
       "        vertical-align: middle;\n",
       "    }\n",
       "\n",
       "    .dataframe tbody tr th {\n",
       "        vertical-align: top;\n",
       "    }\n",
       "\n",
       "    .dataframe thead th {\n",
       "        text-align: right;\n",
       "    }\n",
       "</style>\n",
       "<table border=\"1\" class=\"dataframe\">\n",
       "  <thead>\n",
       "    <tr style=\"text-align: right;\">\n",
       "      <th></th>\n",
       "      <th>Protocol</th>\n",
       "      <th>Info</th>\n",
       "      <th>Length</th>\n",
       "      <th>Delta</th>\n",
       "      <th>Type</th>\n",
       "    </tr>\n",
       "  </thead>\n",
       "  <tbody>\n",
       "    <tr>\n",
       "      <th>0</th>\n",
       "      <td>HCI_EVT</td>\n",
       "      <td>Rcvd Link Key Request</td>\n",
       "      <td>9</td>\n",
       "      <td>0.010473</td>\n",
       "      <td>Attack</td>\n",
       "    </tr>\n",
       "    <tr>\n",
       "      <th>1</th>\n",
       "      <td>HCI_CMD</td>\n",
       "      <td>Sent Link Key Request Negative Reply</td>\n",
       "      <td>10</td>\n",
       "      <td>0.010473</td>\n",
       "      <td>Attack</td>\n",
       "    </tr>\n",
       "    <tr>\n",
       "      <th>2</th>\n",
       "      <td>HCI_EVT</td>\n",
       "      <td>Rcvd Link Key Request</td>\n",
       "      <td>9</td>\n",
       "      <td>0.017913</td>\n",
       "      <td>Attack</td>\n",
       "    </tr>\n",
       "    <tr>\n",
       "      <th>3</th>\n",
       "      <td>HCI_EVT</td>\n",
       "      <td>Rcvd Command Complete (Link Key Request Negati...</td>\n",
       "      <td>13</td>\n",
       "      <td>0.002642</td>\n",
       "      <td>Attack</td>\n",
       "    </tr>\n",
       "    <tr>\n",
       "      <th>4</th>\n",
       "      <td>HCI_CMD</td>\n",
       "      <td>Sent Link Key Request Negative Reply</td>\n",
       "      <td>10</td>\n",
       "      <td>0.002882</td>\n",
       "      <td>Attack</td>\n",
       "    </tr>\n",
       "    <tr>\n",
       "      <th>...</th>\n",
       "      <td>...</td>\n",
       "      <td>...</td>\n",
       "      <td>...</td>\n",
       "      <td>...</td>\n",
       "      <td>...</td>\n",
       "    </tr>\n",
       "    <tr>\n",
       "      <th>5906</th>\n",
       "      <td>RFCOMM</td>\n",
       "      <td>Sent UIH Channel=12 UID</td>\n",
       "      <td>14</td>\n",
       "      <td>0.006531</td>\n",
       "      <td>No Attack</td>\n",
       "    </tr>\n",
       "    <tr>\n",
       "      <th>5907</th>\n",
       "      <td>HCI_EVT</td>\n",
       "      <td>Rcvd Number of Completed Packets</td>\n",
       "      <td>8</td>\n",
       "      <td>0.004969</td>\n",
       "      <td>No Attack</td>\n",
       "    </tr>\n",
       "    <tr>\n",
       "      <th>5908</th>\n",
       "      <td>OBEX</td>\n",
       "      <td>Sent Continue</td>\n",
       "      <td>21</td>\n",
       "      <td>0.014489</td>\n",
       "      <td>No Attack</td>\n",
       "    </tr>\n",
       "    <tr>\n",
       "      <th>5909</th>\n",
       "      <td>LMP</td>\n",
       "      <td>LMP_power_control_req</td>\n",
       "      <td>64</td>\n",
       "      <td>0.003510</td>\n",
       "      <td>No Attack</td>\n",
       "    </tr>\n",
       "    <tr>\n",
       "      <th>5910</th>\n",
       "      <td>LMP</td>\n",
       "      <td>LMP_power_control_res</td>\n",
       "      <td>64</td>\n",
       "      <td>0.001288</td>\n",
       "      <td>No Attack</td>\n",
       "    </tr>\n",
       "  </tbody>\n",
       "</table>\n",
       "<p>5911 rows × 5 columns</p>\n",
       "</div>"
      ],
      "text/plain": [
       "     Protocol                                               Info  Length  \\\n",
       "0     HCI_EVT                              Rcvd Link Key Request       9   \n",
       "1     HCI_CMD               Sent Link Key Request Negative Reply      10   \n",
       "2     HCI_EVT                              Rcvd Link Key Request       9   \n",
       "3     HCI_EVT  Rcvd Command Complete (Link Key Request Negati...      13   \n",
       "4     HCI_CMD               Sent Link Key Request Negative Reply      10   \n",
       "...       ...                                                ...     ...   \n",
       "5906   RFCOMM                           Sent UIH Channel=12 UID       14   \n",
       "5907  HCI_EVT                   Rcvd Number of Completed Packets       8   \n",
       "5908     OBEX                                      Sent Continue      21   \n",
       "5909      LMP                              LMP_power_control_req      64   \n",
       "5910      LMP                              LMP_power_control_res      64   \n",
       "\n",
       "         Delta       Type  \n",
       "0     0.010473     Attack  \n",
       "1     0.010473     Attack  \n",
       "2     0.017913     Attack  \n",
       "3     0.002642     Attack  \n",
       "4     0.002882     Attack  \n",
       "...        ...        ...  \n",
       "5906  0.006531  No Attack  \n",
       "5907  0.004969  No Attack  \n",
       "5908  0.014489  No Attack  \n",
       "5909  0.003510  No Attack  \n",
       "5910  0.001288  No Attack  \n",
       "\n",
       "[5911 rows x 5 columns]"
      ]
     },
     "execution_count": 401,
     "metadata": {},
     "output_type": "execute_result"
    }
   ],
   "source": [
    "dataset = dataset[dataset['Info'].isin(X_test['Info'].unique())]\n",
    "\n",
    "dataset = dataset.reset_index(drop=True)\n",
    "dataset"
   ]
  },
  {
   "cell_type": "code",
   "execution_count": 402,
   "id": "778aaf63",
   "metadata": {
    "scrolled": false
   },
   "outputs": [
    {
     "data": {
      "text/plain": [
       "Protocol    5911\n",
       "Info        5911\n",
       "Length      5911\n",
       "Delta       5911\n",
       "Type        5911\n",
       "dtype: int64"
      ]
     },
     "execution_count": 402,
     "metadata": {},
     "output_type": "execute_result"
    }
   ],
   "source": [
    "dataset.count()"
   ]
  },
  {
   "cell_type": "code",
   "execution_count": 403,
   "id": "47737f13",
   "metadata": {},
   "outputs": [
    {
     "data": {
      "text/html": [
       "<div>\n",
       "<style scoped>\n",
       "    .dataframe tbody tr th:only-of-type {\n",
       "        vertical-align: middle;\n",
       "    }\n",
       "\n",
       "    .dataframe tbody tr th {\n",
       "        vertical-align: top;\n",
       "    }\n",
       "\n",
       "    .dataframe thead th {\n",
       "        text-align: right;\n",
       "    }\n",
       "</style>\n",
       "<table border=\"1\" class=\"dataframe\">\n",
       "  <thead>\n",
       "    <tr style=\"text-align: right;\">\n",
       "      <th></th>\n",
       "      <th>Protocol</th>\n",
       "      <th>Info</th>\n",
       "      <th>Length</th>\n",
       "      <th>Delta</th>\n",
       "      <th>Type</th>\n",
       "    </tr>\n",
       "  </thead>\n",
       "  <tbody>\n",
       "    <tr>\n",
       "      <th>0</th>\n",
       "      <td>HCI_EVT</td>\n",
       "      <td>Rcvd Link Key Request</td>\n",
       "      <td>9</td>\n",
       "      <td>0.010473</td>\n",
       "      <td>Attack</td>\n",
       "    </tr>\n",
       "    <tr>\n",
       "      <th>1</th>\n",
       "      <td>HCI_CMD</td>\n",
       "      <td>Sent Link Key Request Negative Reply</td>\n",
       "      <td>10</td>\n",
       "      <td>0.010473</td>\n",
       "      <td>Attack</td>\n",
       "    </tr>\n",
       "    <tr>\n",
       "      <th>2</th>\n",
       "      <td>HCI_EVT</td>\n",
       "      <td>Rcvd Link Key Request</td>\n",
       "      <td>9</td>\n",
       "      <td>0.017913</td>\n",
       "      <td>Attack</td>\n",
       "    </tr>\n",
       "    <tr>\n",
       "      <th>3</th>\n",
       "      <td>HCI_EVT</td>\n",
       "      <td>Rcvd Command Complete (Link Key Request Negati...</td>\n",
       "      <td>13</td>\n",
       "      <td>0.002642</td>\n",
       "      <td>Attack</td>\n",
       "    </tr>\n",
       "    <tr>\n",
       "      <th>4</th>\n",
       "      <td>HCI_CMD</td>\n",
       "      <td>Sent Link Key Request Negative Reply</td>\n",
       "      <td>10</td>\n",
       "      <td>0.002882</td>\n",
       "      <td>Attack</td>\n",
       "    </tr>\n",
       "    <tr>\n",
       "      <th>...</th>\n",
       "      <td>...</td>\n",
       "      <td>...</td>\n",
       "      <td>...</td>\n",
       "      <td>...</td>\n",
       "      <td>...</td>\n",
       "    </tr>\n",
       "    <tr>\n",
       "      <th>5906</th>\n",
       "      <td>RFCOMM</td>\n",
       "      <td>Sent UIH Channel=12 UID</td>\n",
       "      <td>14</td>\n",
       "      <td>0.006531</td>\n",
       "      <td>No Attack</td>\n",
       "    </tr>\n",
       "    <tr>\n",
       "      <th>5907</th>\n",
       "      <td>HCI_EVT</td>\n",
       "      <td>Rcvd Number of Completed Packets</td>\n",
       "      <td>8</td>\n",
       "      <td>0.004969</td>\n",
       "      <td>No Attack</td>\n",
       "    </tr>\n",
       "    <tr>\n",
       "      <th>5908</th>\n",
       "      <td>OBEX</td>\n",
       "      <td>Sent Continue</td>\n",
       "      <td>21</td>\n",
       "      <td>0.014489</td>\n",
       "      <td>No Attack</td>\n",
       "    </tr>\n",
       "    <tr>\n",
       "      <th>5909</th>\n",
       "      <td>LMP</td>\n",
       "      <td>LMP_power_control_req</td>\n",
       "      <td>64</td>\n",
       "      <td>0.003510</td>\n",
       "      <td>No Attack</td>\n",
       "    </tr>\n",
       "    <tr>\n",
       "      <th>5910</th>\n",
       "      <td>LMP</td>\n",
       "      <td>LMP_power_control_res</td>\n",
       "      <td>64</td>\n",
       "      <td>0.001288</td>\n",
       "      <td>No Attack</td>\n",
       "    </tr>\n",
       "  </tbody>\n",
       "</table>\n",
       "<p>5911 rows × 5 columns</p>\n",
       "</div>"
      ],
      "text/plain": [
       "     Protocol                                               Info  Length  \\\n",
       "0     HCI_EVT                              Rcvd Link Key Request       9   \n",
       "1     HCI_CMD               Sent Link Key Request Negative Reply      10   \n",
       "2     HCI_EVT                              Rcvd Link Key Request       9   \n",
       "3     HCI_EVT  Rcvd Command Complete (Link Key Request Negati...      13   \n",
       "4     HCI_CMD               Sent Link Key Request Negative Reply      10   \n",
       "...       ...                                                ...     ...   \n",
       "5906   RFCOMM                           Sent UIH Channel=12 UID       14   \n",
       "5907  HCI_EVT                   Rcvd Number of Completed Packets       8   \n",
       "5908     OBEX                                      Sent Continue      21   \n",
       "5909      LMP                              LMP_power_control_req      64   \n",
       "5910      LMP                              LMP_power_control_res      64   \n",
       "\n",
       "         Delta       Type  \n",
       "0     0.010473     Attack  \n",
       "1     0.010473     Attack  \n",
       "2     0.017913     Attack  \n",
       "3     0.002642     Attack  \n",
       "4     0.002882     Attack  \n",
       "...        ...        ...  \n",
       "5906  0.006531  No Attack  \n",
       "5907  0.004969  No Attack  \n",
       "5908  0.014489  No Attack  \n",
       "5909  0.003510  No Attack  \n",
       "5910  0.001288  No Attack  \n",
       "\n",
       "[5911 rows x 5 columns]"
      ]
     },
     "execution_count": 403,
     "metadata": {},
     "output_type": "execute_result"
    }
   ],
   "source": [
    "dataset"
   ]
  },
  {
   "cell_type": "markdown",
   "id": "da7e25cd",
   "metadata": {},
   "source": [
    "## Explanation of the dataset\n",
    "The dataframe is divided into different columns \n",
    "- Protocol: Used in the Bluetooth Packet\n",
    "- Info: Provides information about each packet and depends on the type of protocol\n",
    "- Length: It's the length of the packet in bytes\n",
    "- Delta:Time difference between current packet and previous packet\n",
    "- Type: It represents normal vs attack conditions, labelled manually. <- dependent variable"
   ]
  },
  {
   "cell_type": "code",
   "execution_count": 404,
   "id": "f86057d9",
   "metadata": {
    "scrolled": true
   },
   "outputs": [
    {
     "data": {
      "text/html": [
       "<div>\n",
       "<style scoped>\n",
       "    .dataframe tbody tr th:only-of-type {\n",
       "        vertical-align: middle;\n",
       "    }\n",
       "\n",
       "    .dataframe tbody tr th {\n",
       "        vertical-align: top;\n",
       "    }\n",
       "\n",
       "    .dataframe thead th {\n",
       "        text-align: right;\n",
       "    }\n",
       "</style>\n",
       "<table border=\"1\" class=\"dataframe\">\n",
       "  <thead>\n",
       "    <tr style=\"text-align: right;\">\n",
       "      <th></th>\n",
       "      <th>Protocol</th>\n",
       "      <th>Info</th>\n",
       "      <th>Length</th>\n",
       "      <th>Delta</th>\n",
       "      <th>Type</th>\n",
       "    </tr>\n",
       "  </thead>\n",
       "  <tbody>\n",
       "    <tr>\n",
       "      <th>0</th>\n",
       "      <td>HCI_EVT</td>\n",
       "      <td>Rcvd Link Key Request</td>\n",
       "      <td>9</td>\n",
       "      <td>0.010473</td>\n",
       "      <td>Attack</td>\n",
       "    </tr>\n",
       "    <tr>\n",
       "      <th>1</th>\n",
       "      <td>HCI_CMD</td>\n",
       "      <td>Sent Link Key Request Negative Reply</td>\n",
       "      <td>10</td>\n",
       "      <td>0.010473</td>\n",
       "      <td>Attack</td>\n",
       "    </tr>\n",
       "    <tr>\n",
       "      <th>2</th>\n",
       "      <td>HCI_EVT</td>\n",
       "      <td>Rcvd Link Key Request</td>\n",
       "      <td>9</td>\n",
       "      <td>0.017913</td>\n",
       "      <td>Attack</td>\n",
       "    </tr>\n",
       "    <tr>\n",
       "      <th>3</th>\n",
       "      <td>HCI_EVT</td>\n",
       "      <td>Rcvd Command Complete (Link Key Request Negati...</td>\n",
       "      <td>13</td>\n",
       "      <td>0.002642</td>\n",
       "      <td>Attack</td>\n",
       "    </tr>\n",
       "    <tr>\n",
       "      <th>4</th>\n",
       "      <td>HCI_CMD</td>\n",
       "      <td>Sent Link Key Request Negative Reply</td>\n",
       "      <td>10</td>\n",
       "      <td>0.002882</td>\n",
       "      <td>Attack</td>\n",
       "    </tr>\n",
       "    <tr>\n",
       "      <th>...</th>\n",
       "      <td>...</td>\n",
       "      <td>...</td>\n",
       "      <td>...</td>\n",
       "      <td>...</td>\n",
       "      <td>...</td>\n",
       "    </tr>\n",
       "    <tr>\n",
       "      <th>5906</th>\n",
       "      <td>RFCOMM</td>\n",
       "      <td>Sent UIH Channel=12 UID</td>\n",
       "      <td>14</td>\n",
       "      <td>0.006531</td>\n",
       "      <td>No Attack</td>\n",
       "    </tr>\n",
       "    <tr>\n",
       "      <th>5907</th>\n",
       "      <td>HCI_EVT</td>\n",
       "      <td>Rcvd Number of Completed Packets</td>\n",
       "      <td>8</td>\n",
       "      <td>0.004969</td>\n",
       "      <td>No Attack</td>\n",
       "    </tr>\n",
       "    <tr>\n",
       "      <th>5908</th>\n",
       "      <td>OBEX</td>\n",
       "      <td>Sent Continue</td>\n",
       "      <td>21</td>\n",
       "      <td>0.014489</td>\n",
       "      <td>No Attack</td>\n",
       "    </tr>\n",
       "    <tr>\n",
       "      <th>5909</th>\n",
       "      <td>LMP</td>\n",
       "      <td>LMP_power_control_req</td>\n",
       "      <td>64</td>\n",
       "      <td>0.003510</td>\n",
       "      <td>No Attack</td>\n",
       "    </tr>\n",
       "    <tr>\n",
       "      <th>5910</th>\n",
       "      <td>LMP</td>\n",
       "      <td>LMP_power_control_res</td>\n",
       "      <td>64</td>\n",
       "      <td>0.001288</td>\n",
       "      <td>No Attack</td>\n",
       "    </tr>\n",
       "  </tbody>\n",
       "</table>\n",
       "<p>5911 rows × 5 columns</p>\n",
       "</div>"
      ],
      "text/plain": [
       "     Protocol                                               Info  Length  \\\n",
       "0     HCI_EVT                              Rcvd Link Key Request       9   \n",
       "1     HCI_CMD               Sent Link Key Request Negative Reply      10   \n",
       "2     HCI_EVT                              Rcvd Link Key Request       9   \n",
       "3     HCI_EVT  Rcvd Command Complete (Link Key Request Negati...      13   \n",
       "4     HCI_CMD               Sent Link Key Request Negative Reply      10   \n",
       "...       ...                                                ...     ...   \n",
       "5906   RFCOMM                           Sent UIH Channel=12 UID       14   \n",
       "5907  HCI_EVT                   Rcvd Number of Completed Packets       8   \n",
       "5908     OBEX                                      Sent Continue      21   \n",
       "5909      LMP                              LMP_power_control_req      64   \n",
       "5910      LMP                              LMP_power_control_res      64   \n",
       "\n",
       "         Delta       Type  \n",
       "0     0.010473     Attack  \n",
       "1     0.010473     Attack  \n",
       "2     0.017913     Attack  \n",
       "3     0.002642     Attack  \n",
       "4     0.002882     Attack  \n",
       "...        ...        ...  \n",
       "5906  0.006531  No Attack  \n",
       "5907  0.004969  No Attack  \n",
       "5908  0.014489  No Attack  \n",
       "5909  0.003510  No Attack  \n",
       "5910  0.001288  No Attack  \n",
       "\n",
       "[5911 rows x 5 columns]"
      ]
     },
     "execution_count": 404,
     "metadata": {},
     "output_type": "execute_result"
    }
   ],
   "source": [
    "dataset"
   ]
  },
  {
   "cell_type": "markdown",
   "id": "20787df6",
   "metadata": {},
   "source": [
    "## We will shape our data "
   ]
  },
  {
   "cell_type": "code",
   "execution_count": 405,
   "id": "4acbec51",
   "metadata": {
    "scrolled": false
   },
   "outputs": [
    {
     "data": {
      "text/plain": [
       "(5911,)"
      ]
     },
     "execution_count": 405,
     "metadata": {},
     "output_type": "execute_result"
    }
   ],
   "source": [
    "dataset\n",
    "\n",
    "X = dataset['Length'].shape\n",
    "y = dataset['Type'].shape\n",
    "X\n"
   ]
  },
  {
   "cell_type": "markdown",
   "id": "8b5f2c61",
   "metadata": {},
   "source": [
    "## Transform the string values into numerical values so we can work with them in the X dataset.\n",
    "We will be using the library OneHotEncoder and we will add our values we want to transform in an array as strings, denoting the values taken on by categorical (discrete) features. "
   ]
  },
  {
   "cell_type": "code",
   "execution_count": 406,
   "id": "fc74a360",
   "metadata": {},
   "outputs": [],
   "source": [
    "from sklearn.preprocessing import OneHotEncoder"
   ]
  },
  {
   "cell_type": "markdown",
   "id": "dc893548",
   "metadata": {},
   "source": [
    "### Transform protocol data \n",
    "We will transform the string into numerical values\n",
    "Once done this we will create a protocol dataframe"
   ]
  },
  {
   "cell_type": "code",
   "execution_count": 407,
   "id": "f8febf70",
   "metadata": {},
   "outputs": [],
   "source": [
    "# Codificator Instance\n",
    "onehot_encoder = OneHotEncoder()\n",
    "\n",
    "# Codify the independent variable \n",
    "data_to_encode = dataset[['Protocol']]\n",
    "\n",
    "# Column to numpy array\n",
    "data_array = data_to_encode.values\n",
    "\n",
    "#  reshape a data_array \n",
    "reshaped_data = data_array.reshape(-1, 1)\n",
    "\n",
    "# Initialize decoder one-hot\n",
    "onehot_encoder = OneHotEncoder()\n",
    "\n",
    "# Adjust & transform data codifying 'Type'\n",
    "onehot_encoded_protocol = onehot_encoder.fit_transform(reshaped_data)\n",
    "categories = onehot_encoder.get_feature_names_out(input_features=['Protocol'])\n"
   ]
  },
  {
   "cell_type": "code",
   "execution_count": 408,
   "id": "0ebaa121",
   "metadata": {},
   "outputs": [],
   "source": [
    "# We transform the matrix into an array and save it in a dataframe \n",
    "protocoldf = pd.DataFrame(onehot_encoded_protocol.toarray(), columns= categories)\n"
   ]
  },
  {
   "cell_type": "markdown",
   "id": "4f10638e",
   "metadata": {},
   "source": [
    "# Transform Info data \n",
    "We will transform the string into numerical values\n",
    "Once done this we will create a info dataframe"
   ]
  },
  {
   "cell_type": "code",
   "execution_count": 409,
   "id": "2ddee289",
   "metadata": {},
   "outputs": [
    {
     "name": "stdout",
     "output_type": "stream",
     "text": [
      "(5911, 59)\n"
     ]
    }
   ],
   "source": [
    "# Codificator Instance\n",
    "onehot_encoder = OneHotEncoder()\n",
    "\n",
    "# Codify the independent variable \n",
    "data_to_encode = dataset[['Info']]\n",
    "\n",
    "# Column to numpy array\n",
    "data_array = data_to_encode.values\n",
    "\n",
    "#  reshape a data_array \n",
    "reshaped_data = data_array.reshape(-1, 1)\n",
    "\n",
    "# Initialize decoder one-hot\n",
    "onehot_encoder = OneHotEncoder()\n",
    "\n",
    "# Adjust & transform data codifying 'Type'\n",
    "onehot_encoded_info = onehot_encoder.fit_transform(reshaped_data)\n",
    "categories = onehot_encoder.get_feature_names_out(input_features=['Info'])\n",
    "print(onehot_encoded_info.toarray().shape)"
   ]
  },
  {
   "cell_type": "code",
   "execution_count": 410,
   "id": "9232109e",
   "metadata": {
    "scrolled": false
   },
   "outputs": [],
   "source": [
    "# We transform the matrix into an array and save it in a dataframe \n",
    "infodf = pd.DataFrame(onehot_encoded_info.toarray(), columns= categories)\n"
   ]
  },
  {
   "cell_type": "markdown",
   "id": "48d44b8e",
   "metadata": {},
   "source": [
    "# Assign our dependent variable\n",
    "We will use the column Type from the dataset since is the way we're classifying our data"
   ]
  },
  {
   "cell_type": "code",
   "execution_count": 411,
   "id": "a879c285",
   "metadata": {
    "scrolled": true
   },
   "outputs": [],
   "source": [
    "#Assign our variable y \n",
    "y = dataset[\"Type\"]\n"
   ]
  },
  {
   "cell_type": "code",
   "execution_count": 412,
   "id": "21068656",
   "metadata": {},
   "outputs": [
    {
     "data": {
      "text/plain": [
       "0                                   Rcvd Link Key Request\n",
       "1                    Sent Link Key Request Negative Reply\n",
       "2                                   Rcvd Link Key Request\n",
       "3       Rcvd Command Complete (Link Key Request Negati...\n",
       "4                    Sent Link Key Request Negative Reply\n",
       "                              ...                        \n",
       "5906                             Sent UIH Channel=12 UID \n",
       "5907                     Rcvd Number of Completed Packets\n",
       "5908                                        Sent Continue\n",
       "5909                                LMP_power_control_req\n",
       "5910                                LMP_power_control_res\n",
       "Name: Info, Length: 5911, dtype: object"
      ]
     },
     "execution_count": 412,
     "metadata": {},
     "output_type": "execute_result"
    }
   ],
   "source": [
    "y.head()\n",
    "dataset[\"Info\"]"
   ]
  },
  {
   "cell_type": "markdown",
   "id": "2fcb9791",
   "metadata": {},
   "source": [
    "# Standardize values\n",
    "Using the librarie Standard Scaler, we standardize our values Length and Delta since are the ones we have numerical since the beginning, we do this since standardization makes it easier to compare data points that have different units being **Length** bytes and **Delta** time units. \n",
    "\n",
    "By scaling the values to have a mean of 0 and a standard deviation of 1, we can compare the relative position of data points within their respective distributions.\n",
    "\n",
    "Standardize features by removing the mean and scaling to unit variance.\n",
    "The standard score of a sample x is calculated as:\n",
    "\n",
    "$$ z = \\frac{(x - u)}{s} $$"
   ]
  },
  {
   "cell_type": "code",
   "execution_count": 413,
   "id": "b854cf0a",
   "metadata": {},
   "outputs": [],
   "source": [
    "# We import Standard Scaler\n",
    "from sklearn.preprocessing import StandardScaler"
   ]
  },
  {
   "cell_type": "code",
   "execution_count": 414,
   "id": "8de959b0",
   "metadata": {},
   "outputs": [
    {
     "data": {
      "text/html": [
       "<div>\n",
       "<style scoped>\n",
       "    .dataframe tbody tr th:only-of-type {\n",
       "        vertical-align: middle;\n",
       "    }\n",
       "\n",
       "    .dataframe tbody tr th {\n",
       "        vertical-align: top;\n",
       "    }\n",
       "\n",
       "    .dataframe thead th {\n",
       "        text-align: right;\n",
       "    }\n",
       "</style>\n",
       "<table border=\"1\" class=\"dataframe\">\n",
       "  <thead>\n",
       "    <tr style=\"text-align: right;\">\n",
       "      <th></th>\n",
       "      <th>Protocol</th>\n",
       "      <th>Info</th>\n",
       "      <th>Length</th>\n",
       "      <th>Delta</th>\n",
       "      <th>Type</th>\n",
       "    </tr>\n",
       "  </thead>\n",
       "  <tbody>\n",
       "    <tr>\n",
       "      <th>0</th>\n",
       "      <td>HCI_EVT</td>\n",
       "      <td>Rcvd Link Key Request</td>\n",
       "      <td>-0.861247</td>\n",
       "      <td>-0.008874</td>\n",
       "      <td>Attack</td>\n",
       "    </tr>\n",
       "    <tr>\n",
       "      <th>1</th>\n",
       "      <td>HCI_CMD</td>\n",
       "      <td>Sent Link Key Request Negative Reply</td>\n",
       "      <td>-0.859186</td>\n",
       "      <td>-0.008874</td>\n",
       "      <td>Attack</td>\n",
       "    </tr>\n",
       "    <tr>\n",
       "      <th>2</th>\n",
       "      <td>HCI_EVT</td>\n",
       "      <td>Rcvd Link Key Request</td>\n",
       "      <td>-0.861247</td>\n",
       "      <td>-0.004334</td>\n",
       "      <td>Attack</td>\n",
       "    </tr>\n",
       "    <tr>\n",
       "      <th>3</th>\n",
       "      <td>HCI_EVT</td>\n",
       "      <td>Rcvd Command Complete (Link Key Request Negati...</td>\n",
       "      <td>-0.853000</td>\n",
       "      <td>-0.013653</td>\n",
       "      <td>Attack</td>\n",
       "    </tr>\n",
       "    <tr>\n",
       "      <th>4</th>\n",
       "      <td>HCI_CMD</td>\n",
       "      <td>Sent Link Key Request Negative Reply</td>\n",
       "      <td>-0.859186</td>\n",
       "      <td>-0.013507</td>\n",
       "      <td>Attack</td>\n",
       "    </tr>\n",
       "    <tr>\n",
       "      <th>...</th>\n",
       "      <td>...</td>\n",
       "      <td>...</td>\n",
       "      <td>...</td>\n",
       "      <td>...</td>\n",
       "      <td>...</td>\n",
       "    </tr>\n",
       "    <tr>\n",
       "      <th>5906</th>\n",
       "      <td>RFCOMM</td>\n",
       "      <td>Sent UIH Channel=12 UID</td>\n",
       "      <td>-0.850939</td>\n",
       "      <td>-0.011280</td>\n",
       "      <td>No Attack</td>\n",
       "    </tr>\n",
       "    <tr>\n",
       "      <th>5907</th>\n",
       "      <td>HCI_EVT</td>\n",
       "      <td>Rcvd Number of Completed Packets</td>\n",
       "      <td>-0.863309</td>\n",
       "      <td>-0.012233</td>\n",
       "      <td>No Attack</td>\n",
       "    </tr>\n",
       "    <tr>\n",
       "      <th>5908</th>\n",
       "      <td>OBEX</td>\n",
       "      <td>Sent Continue</td>\n",
       "      <td>-0.836506</td>\n",
       "      <td>-0.006423</td>\n",
       "      <td>No Attack</td>\n",
       "    </tr>\n",
       "    <tr>\n",
       "      <th>5909</th>\n",
       "      <td>LMP</td>\n",
       "      <td>LMP_power_control_req</td>\n",
       "      <td>-0.747851</td>\n",
       "      <td>-0.013124</td>\n",
       "      <td>No Attack</td>\n",
       "    </tr>\n",
       "    <tr>\n",
       "      <th>5910</th>\n",
       "      <td>LMP</td>\n",
       "      <td>LMP_power_control_res</td>\n",
       "      <td>-0.747851</td>\n",
       "      <td>-0.014480</td>\n",
       "      <td>No Attack</td>\n",
       "    </tr>\n",
       "  </tbody>\n",
       "</table>\n",
       "<p>5911 rows × 5 columns</p>\n",
       "</div>"
      ],
      "text/plain": [
       "     Protocol                                               Info    Length  \\\n",
       "0     HCI_EVT                              Rcvd Link Key Request -0.861247   \n",
       "1     HCI_CMD               Sent Link Key Request Negative Reply -0.859186   \n",
       "2     HCI_EVT                              Rcvd Link Key Request -0.861247   \n",
       "3     HCI_EVT  Rcvd Command Complete (Link Key Request Negati... -0.853000   \n",
       "4     HCI_CMD               Sent Link Key Request Negative Reply -0.859186   \n",
       "...       ...                                                ...       ...   \n",
       "5906   RFCOMM                           Sent UIH Channel=12 UID  -0.850939   \n",
       "5907  HCI_EVT                   Rcvd Number of Completed Packets -0.863309   \n",
       "5908     OBEX                                      Sent Continue -0.836506   \n",
       "5909      LMP                              LMP_power_control_req -0.747851   \n",
       "5910      LMP                              LMP_power_control_res -0.747851   \n",
       "\n",
       "         Delta       Type  \n",
       "0    -0.008874     Attack  \n",
       "1    -0.008874     Attack  \n",
       "2    -0.004334     Attack  \n",
       "3    -0.013653     Attack  \n",
       "4    -0.013507     Attack  \n",
       "...        ...        ...  \n",
       "5906 -0.011280  No Attack  \n",
       "5907 -0.012233  No Attack  \n",
       "5908 -0.006423  No Attack  \n",
       "5909 -0.013124  No Attack  \n",
       "5910 -0.014480  No Attack  \n",
       "\n",
       "[5911 rows x 5 columns]"
      ]
     },
     "execution_count": 414,
     "metadata": {},
     "output_type": "execute_result"
    }
   ],
   "source": [
    "scaler = StandardScaler()\n",
    "dataset['Length'] = scaler.fit_transform(np.array(dataset['Length']).reshape(-1, 1))\n",
    "dataset['Delta'] = scaler.fit_transform(np.array(dataset['Delta']).reshape(-1, 1))\n",
    "dataset.head(10)\n",
    "dataset"
   ]
  },
  {
   "cell_type": "markdown",
   "id": "ae2646c0",
   "metadata": {},
   "source": [
    "## Append Dataframes\n",
    "\n",
    "Now we're going to create a new dataframe with our new values standardized and transformed into numerical values. \n",
    "\n",
    "We will create two datasets to tests our model and see if there are changes in the number of features used."
   ]
  },
  {
   "cell_type": "markdown",
   "id": "2124a34b",
   "metadata": {},
   "source": [
    "### First dataset with all the features"
   ]
  },
  {
   "cell_type": "code",
   "execution_count": 415,
   "id": "8bbc72d6",
   "metadata": {},
   "outputs": [],
   "source": [
    "# in this step we put our independents variables together and the dependent separate\n",
    "\n",
    "# Boolean variable to check if the dataset is created\n",
    "created = False\n",
    "\n",
    "# Go through the function once \n",
    "if not created:\n",
    "    # Create the first dataframe with the values\n",
    "    new_dataset = pd.concat([protocoldf, infodf, dataset[\"Length\"], dataset[\"Delta\"]], axis=1)\n",
    "\n",
    "    # Mark variable as true so it doesn't repeat if it is needed to rerun the whole program.\n",
    "    created = True"
   ]
  },
  {
   "cell_type": "code",
   "execution_count": 416,
   "id": "1b671dce",
   "metadata": {},
   "outputs": [
    {
     "data": {
      "text/html": [
       "<div>\n",
       "<style scoped>\n",
       "    .dataframe tbody tr th:only-of-type {\n",
       "        vertical-align: middle;\n",
       "    }\n",
       "\n",
       "    .dataframe tbody tr th {\n",
       "        vertical-align: top;\n",
       "    }\n",
       "\n",
       "    .dataframe thead th {\n",
       "        text-align: right;\n",
       "    }\n",
       "</style>\n",
       "<table border=\"1\" class=\"dataframe\">\n",
       "  <thead>\n",
       "    <tr style=\"text-align: right;\">\n",
       "      <th></th>\n",
       "      <th>Protocol_Baseband</th>\n",
       "      <th>Protocol_HCI H4 Broadcom</th>\n",
       "      <th>Protocol_HCI_CMD</th>\n",
       "      <th>Protocol_HCI_EVT</th>\n",
       "      <th>Protocol_L2CAP</th>\n",
       "      <th>Protocol_LMP</th>\n",
       "      <th>Protocol_OBEX</th>\n",
       "      <th>Protocol_RFCOMM</th>\n",
       "      <th>Info_FHS</th>\n",
       "      <th>Info_LM Received</th>\n",
       "      <th>...</th>\n",
       "      <th>Info_Sent Information Request (Extended Features Mask)</th>\n",
       "      <th>Info_Sent Link Key Request Negative Reply</th>\n",
       "      <th>Info_Sent Read Clock offset</th>\n",
       "      <th>Info_Sent Read Remote Extended Features</th>\n",
       "      <th>Info_Sent Read Remote Version Information</th>\n",
       "      <th>Info_Sent UIH Channel=12 UID</th>\n",
       "      <th>Info_Sent Write Link Policy Settings</th>\n",
       "      <th>Info_Sent Write Scan Enable</th>\n",
       "      <th>Length</th>\n",
       "      <th>Delta</th>\n",
       "    </tr>\n",
       "  </thead>\n",
       "  <tbody>\n",
       "    <tr>\n",
       "      <th>0</th>\n",
       "      <td>0.0</td>\n",
       "      <td>0.0</td>\n",
       "      <td>0.0</td>\n",
       "      <td>1.0</td>\n",
       "      <td>0.0</td>\n",
       "      <td>0.0</td>\n",
       "      <td>0.0</td>\n",
       "      <td>0.0</td>\n",
       "      <td>0.0</td>\n",
       "      <td>0.0</td>\n",
       "      <td>...</td>\n",
       "      <td>0.0</td>\n",
       "      <td>0.0</td>\n",
       "      <td>0.0</td>\n",
       "      <td>0.0</td>\n",
       "      <td>0.0</td>\n",
       "      <td>0.0</td>\n",
       "      <td>0.0</td>\n",
       "      <td>0.0</td>\n",
       "      <td>-0.861247</td>\n",
       "      <td>-0.008874</td>\n",
       "    </tr>\n",
       "    <tr>\n",
       "      <th>1</th>\n",
       "      <td>0.0</td>\n",
       "      <td>0.0</td>\n",
       "      <td>1.0</td>\n",
       "      <td>0.0</td>\n",
       "      <td>0.0</td>\n",
       "      <td>0.0</td>\n",
       "      <td>0.0</td>\n",
       "      <td>0.0</td>\n",
       "      <td>0.0</td>\n",
       "      <td>0.0</td>\n",
       "      <td>...</td>\n",
       "      <td>0.0</td>\n",
       "      <td>1.0</td>\n",
       "      <td>0.0</td>\n",
       "      <td>0.0</td>\n",
       "      <td>0.0</td>\n",
       "      <td>0.0</td>\n",
       "      <td>0.0</td>\n",
       "      <td>0.0</td>\n",
       "      <td>-0.859186</td>\n",
       "      <td>-0.008874</td>\n",
       "    </tr>\n",
       "    <tr>\n",
       "      <th>2</th>\n",
       "      <td>0.0</td>\n",
       "      <td>0.0</td>\n",
       "      <td>0.0</td>\n",
       "      <td>1.0</td>\n",
       "      <td>0.0</td>\n",
       "      <td>0.0</td>\n",
       "      <td>0.0</td>\n",
       "      <td>0.0</td>\n",
       "      <td>0.0</td>\n",
       "      <td>0.0</td>\n",
       "      <td>...</td>\n",
       "      <td>0.0</td>\n",
       "      <td>0.0</td>\n",
       "      <td>0.0</td>\n",
       "      <td>0.0</td>\n",
       "      <td>0.0</td>\n",
       "      <td>0.0</td>\n",
       "      <td>0.0</td>\n",
       "      <td>0.0</td>\n",
       "      <td>-0.861247</td>\n",
       "      <td>-0.004334</td>\n",
       "    </tr>\n",
       "    <tr>\n",
       "      <th>3</th>\n",
       "      <td>0.0</td>\n",
       "      <td>0.0</td>\n",
       "      <td>0.0</td>\n",
       "      <td>1.0</td>\n",
       "      <td>0.0</td>\n",
       "      <td>0.0</td>\n",
       "      <td>0.0</td>\n",
       "      <td>0.0</td>\n",
       "      <td>0.0</td>\n",
       "      <td>0.0</td>\n",
       "      <td>...</td>\n",
       "      <td>0.0</td>\n",
       "      <td>0.0</td>\n",
       "      <td>0.0</td>\n",
       "      <td>0.0</td>\n",
       "      <td>0.0</td>\n",
       "      <td>0.0</td>\n",
       "      <td>0.0</td>\n",
       "      <td>0.0</td>\n",
       "      <td>-0.853000</td>\n",
       "      <td>-0.013653</td>\n",
       "    </tr>\n",
       "    <tr>\n",
       "      <th>4</th>\n",
       "      <td>0.0</td>\n",
       "      <td>0.0</td>\n",
       "      <td>1.0</td>\n",
       "      <td>0.0</td>\n",
       "      <td>0.0</td>\n",
       "      <td>0.0</td>\n",
       "      <td>0.0</td>\n",
       "      <td>0.0</td>\n",
       "      <td>0.0</td>\n",
       "      <td>0.0</td>\n",
       "      <td>...</td>\n",
       "      <td>0.0</td>\n",
       "      <td>1.0</td>\n",
       "      <td>0.0</td>\n",
       "      <td>0.0</td>\n",
       "      <td>0.0</td>\n",
       "      <td>0.0</td>\n",
       "      <td>0.0</td>\n",
       "      <td>0.0</td>\n",
       "      <td>-0.859186</td>\n",
       "      <td>-0.013507</td>\n",
       "    </tr>\n",
       "    <tr>\n",
       "      <th>...</th>\n",
       "      <td>...</td>\n",
       "      <td>...</td>\n",
       "      <td>...</td>\n",
       "      <td>...</td>\n",
       "      <td>...</td>\n",
       "      <td>...</td>\n",
       "      <td>...</td>\n",
       "      <td>...</td>\n",
       "      <td>...</td>\n",
       "      <td>...</td>\n",
       "      <td>...</td>\n",
       "      <td>...</td>\n",
       "      <td>...</td>\n",
       "      <td>...</td>\n",
       "      <td>...</td>\n",
       "      <td>...</td>\n",
       "      <td>...</td>\n",
       "      <td>...</td>\n",
       "      <td>...</td>\n",
       "      <td>...</td>\n",
       "      <td>...</td>\n",
       "    </tr>\n",
       "    <tr>\n",
       "      <th>5906</th>\n",
       "      <td>0.0</td>\n",
       "      <td>0.0</td>\n",
       "      <td>0.0</td>\n",
       "      <td>0.0</td>\n",
       "      <td>0.0</td>\n",
       "      <td>0.0</td>\n",
       "      <td>0.0</td>\n",
       "      <td>1.0</td>\n",
       "      <td>0.0</td>\n",
       "      <td>0.0</td>\n",
       "      <td>...</td>\n",
       "      <td>0.0</td>\n",
       "      <td>0.0</td>\n",
       "      <td>0.0</td>\n",
       "      <td>0.0</td>\n",
       "      <td>0.0</td>\n",
       "      <td>1.0</td>\n",
       "      <td>0.0</td>\n",
       "      <td>0.0</td>\n",
       "      <td>-0.850939</td>\n",
       "      <td>-0.011280</td>\n",
       "    </tr>\n",
       "    <tr>\n",
       "      <th>5907</th>\n",
       "      <td>0.0</td>\n",
       "      <td>0.0</td>\n",
       "      <td>0.0</td>\n",
       "      <td>1.0</td>\n",
       "      <td>0.0</td>\n",
       "      <td>0.0</td>\n",
       "      <td>0.0</td>\n",
       "      <td>0.0</td>\n",
       "      <td>0.0</td>\n",
       "      <td>0.0</td>\n",
       "      <td>...</td>\n",
       "      <td>0.0</td>\n",
       "      <td>0.0</td>\n",
       "      <td>0.0</td>\n",
       "      <td>0.0</td>\n",
       "      <td>0.0</td>\n",
       "      <td>0.0</td>\n",
       "      <td>0.0</td>\n",
       "      <td>0.0</td>\n",
       "      <td>-0.863309</td>\n",
       "      <td>-0.012233</td>\n",
       "    </tr>\n",
       "    <tr>\n",
       "      <th>5908</th>\n",
       "      <td>0.0</td>\n",
       "      <td>0.0</td>\n",
       "      <td>0.0</td>\n",
       "      <td>0.0</td>\n",
       "      <td>0.0</td>\n",
       "      <td>0.0</td>\n",
       "      <td>1.0</td>\n",
       "      <td>0.0</td>\n",
       "      <td>0.0</td>\n",
       "      <td>0.0</td>\n",
       "      <td>...</td>\n",
       "      <td>0.0</td>\n",
       "      <td>0.0</td>\n",
       "      <td>0.0</td>\n",
       "      <td>0.0</td>\n",
       "      <td>0.0</td>\n",
       "      <td>0.0</td>\n",
       "      <td>0.0</td>\n",
       "      <td>0.0</td>\n",
       "      <td>-0.836506</td>\n",
       "      <td>-0.006423</td>\n",
       "    </tr>\n",
       "    <tr>\n",
       "      <th>5909</th>\n",
       "      <td>0.0</td>\n",
       "      <td>0.0</td>\n",
       "      <td>0.0</td>\n",
       "      <td>0.0</td>\n",
       "      <td>0.0</td>\n",
       "      <td>1.0</td>\n",
       "      <td>0.0</td>\n",
       "      <td>0.0</td>\n",
       "      <td>0.0</td>\n",
       "      <td>0.0</td>\n",
       "      <td>...</td>\n",
       "      <td>0.0</td>\n",
       "      <td>0.0</td>\n",
       "      <td>0.0</td>\n",
       "      <td>0.0</td>\n",
       "      <td>0.0</td>\n",
       "      <td>0.0</td>\n",
       "      <td>0.0</td>\n",
       "      <td>0.0</td>\n",
       "      <td>-0.747851</td>\n",
       "      <td>-0.013124</td>\n",
       "    </tr>\n",
       "    <tr>\n",
       "      <th>5910</th>\n",
       "      <td>0.0</td>\n",
       "      <td>0.0</td>\n",
       "      <td>0.0</td>\n",
       "      <td>0.0</td>\n",
       "      <td>0.0</td>\n",
       "      <td>1.0</td>\n",
       "      <td>0.0</td>\n",
       "      <td>0.0</td>\n",
       "      <td>0.0</td>\n",
       "      <td>0.0</td>\n",
       "      <td>...</td>\n",
       "      <td>0.0</td>\n",
       "      <td>0.0</td>\n",
       "      <td>0.0</td>\n",
       "      <td>0.0</td>\n",
       "      <td>0.0</td>\n",
       "      <td>0.0</td>\n",
       "      <td>0.0</td>\n",
       "      <td>0.0</td>\n",
       "      <td>-0.747851</td>\n",
       "      <td>-0.014480</td>\n",
       "    </tr>\n",
       "  </tbody>\n",
       "</table>\n",
       "<p>5911 rows × 69 columns</p>\n",
       "</div>"
      ],
      "text/plain": [
       "      Protocol_Baseband  Protocol_HCI H4 Broadcom  Protocol_HCI_CMD  \\\n",
       "0                   0.0                       0.0               0.0   \n",
       "1                   0.0                       0.0               1.0   \n",
       "2                   0.0                       0.0               0.0   \n",
       "3                   0.0                       0.0               0.0   \n",
       "4                   0.0                       0.0               1.0   \n",
       "...                 ...                       ...               ...   \n",
       "5906                0.0                       0.0               0.0   \n",
       "5907                0.0                       0.0               0.0   \n",
       "5908                0.0                       0.0               0.0   \n",
       "5909                0.0                       0.0               0.0   \n",
       "5910                0.0                       0.0               0.0   \n",
       "\n",
       "      Protocol_HCI_EVT  Protocol_L2CAP  Protocol_LMP  Protocol_OBEX  \\\n",
       "0                  1.0             0.0           0.0            0.0   \n",
       "1                  0.0             0.0           0.0            0.0   \n",
       "2                  1.0             0.0           0.0            0.0   \n",
       "3                  1.0             0.0           0.0            0.0   \n",
       "4                  0.0             0.0           0.0            0.0   \n",
       "...                ...             ...           ...            ...   \n",
       "5906               0.0             0.0           0.0            0.0   \n",
       "5907               1.0             0.0           0.0            0.0   \n",
       "5908               0.0             0.0           0.0            1.0   \n",
       "5909               0.0             0.0           1.0            0.0   \n",
       "5910               0.0             0.0           1.0            0.0   \n",
       "\n",
       "      Protocol_RFCOMM  Info_FHS  Info_LM Received  ...  \\\n",
       "0                 0.0       0.0               0.0  ...   \n",
       "1                 0.0       0.0               0.0  ...   \n",
       "2                 0.0       0.0               0.0  ...   \n",
       "3                 0.0       0.0               0.0  ...   \n",
       "4                 0.0       0.0               0.0  ...   \n",
       "...               ...       ...               ...  ...   \n",
       "5906              1.0       0.0               0.0  ...   \n",
       "5907              0.0       0.0               0.0  ...   \n",
       "5908              0.0       0.0               0.0  ...   \n",
       "5909              0.0       0.0               0.0  ...   \n",
       "5910              0.0       0.0               0.0  ...   \n",
       "\n",
       "      Info_Sent Information Request (Extended Features Mask)  \\\n",
       "0                                                   0.0        \n",
       "1                                                   0.0        \n",
       "2                                                   0.0        \n",
       "3                                                   0.0        \n",
       "4                                                   0.0        \n",
       "...                                                 ...        \n",
       "5906                                                0.0        \n",
       "5907                                                0.0        \n",
       "5908                                                0.0        \n",
       "5909                                                0.0        \n",
       "5910                                                0.0        \n",
       "\n",
       "      Info_Sent Link Key Request Negative Reply  Info_Sent Read Clock offset  \\\n",
       "0                                           0.0                          0.0   \n",
       "1                                           1.0                          0.0   \n",
       "2                                           0.0                          0.0   \n",
       "3                                           0.0                          0.0   \n",
       "4                                           1.0                          0.0   \n",
       "...                                         ...                          ...   \n",
       "5906                                        0.0                          0.0   \n",
       "5907                                        0.0                          0.0   \n",
       "5908                                        0.0                          0.0   \n",
       "5909                                        0.0                          0.0   \n",
       "5910                                        0.0                          0.0   \n",
       "\n",
       "      Info_Sent Read Remote Extended Features  \\\n",
       "0                                         0.0   \n",
       "1                                         0.0   \n",
       "2                                         0.0   \n",
       "3                                         0.0   \n",
       "4                                         0.0   \n",
       "...                                       ...   \n",
       "5906                                      0.0   \n",
       "5907                                      0.0   \n",
       "5908                                      0.0   \n",
       "5909                                      0.0   \n",
       "5910                                      0.0   \n",
       "\n",
       "      Info_Sent Read Remote Version Information  \\\n",
       "0                                           0.0   \n",
       "1                                           0.0   \n",
       "2                                           0.0   \n",
       "3                                           0.0   \n",
       "4                                           0.0   \n",
       "...                                         ...   \n",
       "5906                                        0.0   \n",
       "5907                                        0.0   \n",
       "5908                                        0.0   \n",
       "5909                                        0.0   \n",
       "5910                                        0.0   \n",
       "\n",
       "      Info_Sent UIH Channel=12 UID   Info_Sent Write Link Policy Settings  \\\n",
       "0                               0.0                                   0.0   \n",
       "1                               0.0                                   0.0   \n",
       "2                               0.0                                   0.0   \n",
       "3                               0.0                                   0.0   \n",
       "4                               0.0                                   0.0   \n",
       "...                             ...                                   ...   \n",
       "5906                            1.0                                   0.0   \n",
       "5907                            0.0                                   0.0   \n",
       "5908                            0.0                                   0.0   \n",
       "5909                            0.0                                   0.0   \n",
       "5910                            0.0                                   0.0   \n",
       "\n",
       "      Info_Sent Write Scan Enable    Length     Delta  \n",
       "0                             0.0 -0.861247 -0.008874  \n",
       "1                             0.0 -0.859186 -0.008874  \n",
       "2                             0.0 -0.861247 -0.004334  \n",
       "3                             0.0 -0.853000 -0.013653  \n",
       "4                             0.0 -0.859186 -0.013507  \n",
       "...                           ...       ...       ...  \n",
       "5906                          0.0 -0.850939 -0.011280  \n",
       "5907                          0.0 -0.863309 -0.012233  \n",
       "5908                          0.0 -0.836506 -0.006423  \n",
       "5909                          0.0 -0.747851 -0.013124  \n",
       "5910                          0.0 -0.747851 -0.014480  \n",
       "\n",
       "[5911 rows x 69 columns]"
      ]
     },
     "execution_count": 416,
     "metadata": {},
     "output_type": "execute_result"
    }
   ],
   "source": [
    "X = new_dataset\n",
    "X"
   ]
  },
  {
   "cell_type": "markdown",
   "id": "e340eb58",
   "metadata": {},
   "source": [
    "### Second dataset with features Delta and Length\n",
    "We choose this values since are the ones numerical since the beginning and we will see if by not using the other features would affect or improve the accuracy of our model."
   ]
  },
  {
   "cell_type": "code",
   "execution_count": 417,
   "id": "ee2c3ebf",
   "metadata": {},
   "outputs": [
    {
     "data": {
      "text/html": [
       "<div>\n",
       "<style scoped>\n",
       "    .dataframe tbody tr th:only-of-type {\n",
       "        vertical-align: middle;\n",
       "    }\n",
       "\n",
       "    .dataframe tbody tr th {\n",
       "        vertical-align: top;\n",
       "    }\n",
       "\n",
       "    .dataframe thead th {\n",
       "        text-align: right;\n",
       "    }\n",
       "</style>\n",
       "<table border=\"1\" class=\"dataframe\">\n",
       "  <thead>\n",
       "    <tr style=\"text-align: right;\">\n",
       "      <th></th>\n",
       "      <th>Length</th>\n",
       "      <th>Delta</th>\n",
       "    </tr>\n",
       "  </thead>\n",
       "  <tbody>\n",
       "    <tr>\n",
       "      <th>0</th>\n",
       "      <td>-0.861247</td>\n",
       "      <td>-0.008874</td>\n",
       "    </tr>\n",
       "    <tr>\n",
       "      <th>1</th>\n",
       "      <td>-0.859186</td>\n",
       "      <td>-0.008874</td>\n",
       "    </tr>\n",
       "    <tr>\n",
       "      <th>2</th>\n",
       "      <td>-0.861247</td>\n",
       "      <td>-0.004334</td>\n",
       "    </tr>\n",
       "    <tr>\n",
       "      <th>3</th>\n",
       "      <td>-0.853000</td>\n",
       "      <td>-0.013653</td>\n",
       "    </tr>\n",
       "    <tr>\n",
       "      <th>4</th>\n",
       "      <td>-0.859186</td>\n",
       "      <td>-0.013507</td>\n",
       "    </tr>\n",
       "    <tr>\n",
       "      <th>...</th>\n",
       "      <td>...</td>\n",
       "      <td>...</td>\n",
       "    </tr>\n",
       "    <tr>\n",
       "      <th>5906</th>\n",
       "      <td>-0.850939</td>\n",
       "      <td>-0.011280</td>\n",
       "    </tr>\n",
       "    <tr>\n",
       "      <th>5907</th>\n",
       "      <td>-0.863309</td>\n",
       "      <td>-0.012233</td>\n",
       "    </tr>\n",
       "    <tr>\n",
       "      <th>5908</th>\n",
       "      <td>-0.836506</td>\n",
       "      <td>-0.006423</td>\n",
       "    </tr>\n",
       "    <tr>\n",
       "      <th>5909</th>\n",
       "      <td>-0.747851</td>\n",
       "      <td>-0.013124</td>\n",
       "    </tr>\n",
       "    <tr>\n",
       "      <th>5910</th>\n",
       "      <td>-0.747851</td>\n",
       "      <td>-0.014480</td>\n",
       "    </tr>\n",
       "  </tbody>\n",
       "</table>\n",
       "<p>5911 rows × 2 columns</p>\n",
       "</div>"
      ],
      "text/plain": [
       "        Length     Delta\n",
       "0    -0.861247 -0.008874\n",
       "1    -0.859186 -0.008874\n",
       "2    -0.861247 -0.004334\n",
       "3    -0.853000 -0.013653\n",
       "4    -0.859186 -0.013507\n",
       "...        ...       ...\n",
       "5906 -0.850939 -0.011280\n",
       "5907 -0.863309 -0.012233\n",
       "5908 -0.836506 -0.006423\n",
       "5909 -0.747851 -0.013124\n",
       "5910 -0.747851 -0.014480\n",
       "\n",
       "[5911 rows x 2 columns]"
      ]
     },
     "execution_count": 417,
     "metadata": {},
     "output_type": "execute_result"
    }
   ],
   "source": [
    "# in this step we put our independents variables together and the dependent separate\n",
    "\n",
    "# Boolean variable to check if the dataset is created\n",
    "second_created = False\n",
    "\n",
    "# Go through the function once \n",
    "if not second_created:\n",
    "    # Create the first dataframe with the values\n",
    "    TwoX = pd.concat([dataset[\"Length\"], dataset[\"Delta\"]], axis=1)\n",
    "    \n",
    "    # Mark variable as true so it doesn't repeat if it is needed to rerun the whole program.\n",
    "    second_created = True\n",
    "    \n",
    "    \n",
    "TwoX.head()\n",
    "TwoX"
   ]
  },
  {
   "cell_type": "markdown",
   "id": "c1f57dff",
   "metadata": {},
   "source": [
    "# Try the models"
   ]
  },
  {
   "cell_type": "markdown",
   "id": "cc4990f9",
   "metadata": {},
   "source": [
    "# Model assessment: Training set and testing set\n",
    "\n",
    "## Split the data\n",
    "First we split the data into training set and test set. We will train our model using the training set and to test it is the test set. We will implement a \n",
    "\n",
    "The library we're going to use train_test_split split arrays or matrices into random train and test subsets."
   ]
  },
  {
   "cell_type": "code",
   "execution_count": 418,
   "id": "cf90a6ec",
   "metadata": {},
   "outputs": [],
   "source": [
    "# Import our library to split our data into two sets\n",
    "from sklearn.model_selection import train_test_split"
   ]
  },
  {
   "cell_type": "code",
   "execution_count": 419,
   "id": "40a8fc37",
   "metadata": {},
   "outputs": [],
   "source": [
    "seed = 42\n",
    "# Dataset with all features. We choose test_size = 0.2\n",
    "X_train, X_test, y_train, y_test = train_test_split(X, y, test_size=0.2, random_state=seed)\n",
    "\n",
    "# Dataset with features Delta and Length, we choose this values since they\n",
    "# are numerical without using any encoder\n",
    "X_train2, X_test2, y_train2, y_test2 = train_test_split(TwoX, y, test_size=0.2, random_state=seed)\n"
   ]
  },
  {
   "cell_type": "markdown",
   "id": "cf2ee322",
   "metadata": {},
   "source": [
    "# Model Selection \n",
    "\n",
    "To know which model is more convenient for our problem, we would train some models and compare how well they fit each model, taking into consideration:\n",
    "- Accuracy\n",
    "- Compare the accuracy between test set and train set\n",
    "- Computation times, memory used\n",
    "- Simplest method for a better score \n",
    "\n",
    "Also, knowing that we are facing a classification problem we will try to find the more appropiate models for this, in this case is binary classification since it is divided only in two categories being **No Attack** and **Attack**."
   ]
  },
  {
   "cell_type": "markdown",
   "id": "d7fa7d80",
   "metadata": {},
   "source": [
    "\n",
    "### Confusion Matrix\n",
    "This is a matrix that counts the classification classes. In this case we would count the Attacks and No Attacks **true positive** and also the **falses**.\n",
    "\n",
    "$$\n",
    "\\begin{matrix}\n",
    "        &          & & Predicted &  \\\\\n",
    "        &          &  Negative   &  & Positive \\\\\n",
    "        & Negative &     True Negative TN  &  & False Positive FP\\\\\n",
    "Actual  &          & & & \\\\\n",
    "        &  Positive  &   False Negative FN  & & True Positive TP\n",
    "\\end{matrix} \n",
    "$$\n",
    "\n",
    "### Precision of the classifier\n",
    "This returns the accuracy of the positives prediction made by the classifier.\n",
    "\n",
    "The formula for this method:\n",
    "\n",
    "$$precision = \\frac{ TP  }{ TP + FP }$$\n",
    "\n",
    "- TP true positives being the number of correctly predicted positive instances\n",
    "- FP false positives being the number of negative instances incorrectly classified as positive.\n",
    "\n",
    "### Recall\n",
    "Known as sensitive or true positive rate (TPR), the classifier detects the correct positive instances ratio.\n",
    "\n",
    "The equation for the Recall metric:\n",
    "\n",
    "$$ F1 = \\frac{TP}{TP + FN}$$\n",
    "\n",
    "Tp is the number of True Positives and FN is the numver for False Negatives.\n",
    "\n",
    "### F1 Score\n",
    "This metric is Precision and Recall combined and is helpful in this problem since its useful to compare two classifiers. This metric would be only a high score if **precision** and **recall** are high.\n",
    "\n",
    "Formula for recall:\n",
    "$$ F1 = \\frac{2}{\\frac{1}{precision} + \\frac{1}{recall}} = 2  \\times \\frac{ precision \\times recall}\n",
    "{precision + recall} = \\frac{TP}{{TP} + \\frac{FN+FP}{2}}\n",
    " $$\n"
   ]
  },
  {
   "cell_type": "markdown",
   "id": "cba897c8",
   "metadata": {},
   "source": [
    "## Import Performance Measure metrics"
   ]
  },
  {
   "cell_type": "code",
   "execution_count": 420,
   "id": "e8e03c27",
   "metadata": {},
   "outputs": [],
   "source": [
    "from sklearn.metrics import accuracy_score, classification_report, balanced_accuracy_score\n",
    "from sklearn.metrics import confusion_matrix\n",
    "from sklearn.model_selection import cross_val_score\n",
    "\n",
    "# For calculate computation time\n",
    "import time\n",
    "# For calculate memory usage\n",
    "import tracemalloc"
   ]
  },
  {
   "cell_type": "markdown",
   "id": "8629b08e",
   "metadata": {},
   "source": [
    "# Try the models\n",
    "We will create some lists to save the values for this models and at the end we can have a more clear panoram of which model is more suitable for detecting an attack."
   ]
  },
  {
   "cell_type": "code",
   "execution_count": 421,
   "id": "98cce2ce",
   "metadata": {},
   "outputs": [],
   "source": [
    "models_name = list(range(1, 6))\n",
    "computation_time = list(range(1, 6))\n",
    "accuracy_model = list(range(1,6))\n",
    "memory_usage = list(range(1,6))"
   ]
  },
  {
   "cell_type": "markdown",
   "id": "f3c14b86",
   "metadata": {},
   "source": [
    "# Decision Tree Classifier\n",
    "This is a supervised learning algorithm meaning it learns how to map from input features to output labels, so that the algorithm can make accurate predictions for new, unseen data. \n",
    "\n",
    "This trees uses a top-down, greedy approach. In each split it maximize information gain or minimize impurity at the current node.\n",
    "\n",
    "Decision trees uses \n",
    "- **Entropy**: Uncertainty in our dataset or measure of disorder. \n",
    "\n",
    "The formula for Entropy [3].\n",
    "\n",
    "$  E(S) = - p_{(+)}logp_{(+)}-p_{(-)}logp_{(-)} $\n",
    "- $ p_{+}$ is the probability of positive class\n",
    "- $ p_{-}$ is the probability of negative class\n",
    "\n",
    "The decision tree output is mostly yes or not. The higher the Entropy, the lower will be the purity and the higher will be the impurity. The objective of this model is to decrease the uncertainty or impurity in the dataset."
   ]
  },
  {
   "cell_type": "code",
   "execution_count": 422,
   "id": "1bda0385",
   "metadata": {},
   "outputs": [],
   "source": [
    "# Import library Decision Tree Classifier\n",
    "from sklearn.tree import DecisionTreeClassifier"
   ]
  },
  {
   "cell_type": "code",
   "execution_count": 423,
   "id": "28ee9601",
   "metadata": {},
   "outputs": [
    {
     "data": {
      "text/html": [
       "<style>#sk-container-id-33 {color: black;}#sk-container-id-33 pre{padding: 0;}#sk-container-id-33 div.sk-toggleable {background-color: white;}#sk-container-id-33 label.sk-toggleable__label {cursor: pointer;display: block;width: 100%;margin-bottom: 0;padding: 0.3em;box-sizing: border-box;text-align: center;}#sk-container-id-33 label.sk-toggleable__label-arrow:before {content: \"▸\";float: left;margin-right: 0.25em;color: #696969;}#sk-container-id-33 label.sk-toggleable__label-arrow:hover:before {color: black;}#sk-container-id-33 div.sk-estimator:hover label.sk-toggleable__label-arrow:before {color: black;}#sk-container-id-33 div.sk-toggleable__content {max-height: 0;max-width: 0;overflow: hidden;text-align: left;background-color: #f0f8ff;}#sk-container-id-33 div.sk-toggleable__content pre {margin: 0.2em;color: black;border-radius: 0.25em;background-color: #f0f8ff;}#sk-container-id-33 input.sk-toggleable__control:checked~div.sk-toggleable__content {max-height: 200px;max-width: 100%;overflow: auto;}#sk-container-id-33 input.sk-toggleable__control:checked~label.sk-toggleable__label-arrow:before {content: \"▾\";}#sk-container-id-33 div.sk-estimator input.sk-toggleable__control:checked~label.sk-toggleable__label {background-color: #d4ebff;}#sk-container-id-33 div.sk-label input.sk-toggleable__control:checked~label.sk-toggleable__label {background-color: #d4ebff;}#sk-container-id-33 input.sk-hidden--visually {border: 0;clip: rect(1px 1px 1px 1px);clip: rect(1px, 1px, 1px, 1px);height: 1px;margin: -1px;overflow: hidden;padding: 0;position: absolute;width: 1px;}#sk-container-id-33 div.sk-estimator {font-family: monospace;background-color: #f0f8ff;border: 1px dotted black;border-radius: 0.25em;box-sizing: border-box;margin-bottom: 0.5em;}#sk-container-id-33 div.sk-estimator:hover {background-color: #d4ebff;}#sk-container-id-33 div.sk-parallel-item::after {content: \"\";width: 100%;border-bottom: 1px solid gray;flex-grow: 1;}#sk-container-id-33 div.sk-label:hover label.sk-toggleable__label {background-color: #d4ebff;}#sk-container-id-33 div.sk-serial::before {content: \"\";position: absolute;border-left: 1px solid gray;box-sizing: border-box;top: 0;bottom: 0;left: 50%;z-index: 0;}#sk-container-id-33 div.sk-serial {display: flex;flex-direction: column;align-items: center;background-color: white;padding-right: 0.2em;padding-left: 0.2em;position: relative;}#sk-container-id-33 div.sk-item {position: relative;z-index: 1;}#sk-container-id-33 div.sk-parallel {display: flex;align-items: stretch;justify-content: center;background-color: white;position: relative;}#sk-container-id-33 div.sk-item::before, #sk-container-id-33 div.sk-parallel-item::before {content: \"\";position: absolute;border-left: 1px solid gray;box-sizing: border-box;top: 0;bottom: 0;left: 50%;z-index: -1;}#sk-container-id-33 div.sk-parallel-item {display: flex;flex-direction: column;z-index: 1;position: relative;background-color: white;}#sk-container-id-33 div.sk-parallel-item:first-child::after {align-self: flex-end;width: 50%;}#sk-container-id-33 div.sk-parallel-item:last-child::after {align-self: flex-start;width: 50%;}#sk-container-id-33 div.sk-parallel-item:only-child::after {width: 0;}#sk-container-id-33 div.sk-dashed-wrapped {border: 1px dashed gray;margin: 0 0.4em 0.5em 0.4em;box-sizing: border-box;padding-bottom: 0.4em;background-color: white;}#sk-container-id-33 div.sk-label label {font-family: monospace;font-weight: bold;display: inline-block;line-height: 1.2em;}#sk-container-id-33 div.sk-label-container {text-align: center;}#sk-container-id-33 div.sk-container {/* jupyter's `normalize.less` sets `[hidden] { display: none; }` but bootstrap.min.css set `[hidden] { display: none !important; }` so we also need the `!important` here to be able to override the default hidden behavior on the sphinx rendered scikit-learn.org. See: https://github.com/scikit-learn/scikit-learn/issues/21755 */display: inline-block !important;position: relative;}#sk-container-id-33 div.sk-text-repr-fallback {display: none;}</style><div id=\"sk-container-id-33\" class=\"sk-top-container\"><div class=\"sk-text-repr-fallback\"><pre>DecisionTreeClassifier(criterion=&#x27;entropy&#x27;)</pre><b>In a Jupyter environment, please rerun this cell to show the HTML representation or trust the notebook. <br />On GitHub, the HTML representation is unable to render, please try loading this page with nbviewer.org.</b></div><div class=\"sk-container\" hidden><div class=\"sk-item\"><div class=\"sk-estimator sk-toggleable\"><input class=\"sk-toggleable__control sk-hidden--visually\" id=\"sk-estimator-id-33\" type=\"checkbox\" checked><label for=\"sk-estimator-id-33\" class=\"sk-toggleable__label sk-toggleable__label-arrow\">DecisionTreeClassifier</label><div class=\"sk-toggleable__content\"><pre>DecisionTreeClassifier(criterion=&#x27;entropy&#x27;)</pre></div></div></div></div></div>"
      ],
      "text/plain": [
       "DecisionTreeClassifier(criterion='entropy')"
      ]
     },
     "execution_count": 423,
     "metadata": {},
     "output_type": "execute_result"
    }
   ],
   "source": [
    "# We create a function to create our model Decision Tree Classifier and we \n",
    "#fit our datasets X_train and y_train into the model.\n",
    "\n",
    "clf = DecisionTreeClassifier(criterion=\"entropy\")\n",
    "clf.fit(X_train, y_train)"
   ]
  },
  {
   "cell_type": "code",
   "execution_count": 424,
   "id": "98990e1a",
   "metadata": {},
   "outputs": [],
   "source": [
    "# We use the model method to predict the class labels for the provided data.\n",
    "y_pred_train = clf.predict(X_train)\n",
    "y_pred_test = clf.predict(X_test)"
   ]
  },
  {
   "cell_type": "code",
   "execution_count": 425,
   "id": "ef05470b",
   "metadata": {},
   "outputs": [
    {
     "name": "stdout",
     "output_type": "stream",
     "text": [
      "Predictions are 100.0% accurate on the training set.\n",
      "Predictions are 97.5% accurate on the test set.\n",
      "\n",
      "Confusion Matrix\n"
     ]
    },
    {
     "data": {
      "text/html": [
       "<div>\n",
       "<style scoped>\n",
       "    .dataframe tbody tr th:only-of-type {\n",
       "        vertical-align: middle;\n",
       "    }\n",
       "\n",
       "    .dataframe tbody tr th {\n",
       "        vertical-align: top;\n",
       "    }\n",
       "\n",
       "    .dataframe thead th {\n",
       "        text-align: right;\n",
       "    }\n",
       "</style>\n",
       "<table border=\"1\" class=\"dataframe\">\n",
       "  <thead>\n",
       "    <tr style=\"text-align: right;\">\n",
       "      <th></th>\n",
       "      <th>Predicted No Attack</th>\n",
       "      <th>Predicted Attack</th>\n",
       "    </tr>\n",
       "  </thead>\n",
       "  <tbody>\n",
       "    <tr>\n",
       "      <th>Actual No Attack</th>\n",
       "      <td>440</td>\n",
       "      <td>12</td>\n",
       "    </tr>\n",
       "    <tr>\n",
       "      <th>Actual Attack</th>\n",
       "      <td>17</td>\n",
       "      <td>714</td>\n",
       "    </tr>\n",
       "  </tbody>\n",
       "</table>\n",
       "</div>"
      ],
      "text/plain": [
       "                  Predicted No Attack  Predicted Attack\n",
       "Actual No Attack                  440                12\n",
       "Actual Attack                      17               714"
      ]
     },
     "metadata": {},
     "output_type": "display_data"
    },
    {
     "name": "stdout",
     "output_type": "stream",
     "text": [
      "\n",
      "\n",
      "Classification Inform:\n",
      "              precision    recall  f1-score   support\n",
      "\n",
      "      Attack       0.96      0.97      0.97       452\n",
      "   No Attack       0.98      0.98      0.98       731\n",
      "\n",
      "    accuracy                           0.98      1183\n",
      "   macro avg       0.97      0.98      0.97      1183\n",
      "weighted avg       0.98      0.98      0.98      1183\n",
      "\n"
     ]
    }
   ],
   "source": [
    "accuracy_train = accuracy_score(y_train, y_pred_train)\n",
    "print('Predictions are {:3.1f}% accurate on the training set.'.format(100*accuracy_train))\n",
    "accuracy_test = accuracy_score(y_test, y_pred_test)\n",
    "print('Predictions are {:3.1f}% accurate on the test set.'.format(100*accuracy_test))\n",
    "# Create a matrix confusion based on our y_test and y_pred_test\n",
    "cm = confusion_matrix(y_test, y_pred_test)\n",
    "\n",
    "# Create a dataframe from the confusion matrix\n",
    "cm_df = pd.DataFrame(cm, \n",
    "        index = [\"Actual No Attack\", \"Actual Attack\"], \n",
    "        columns= [\"Predicted No Attack\", \"Predicted Attack\"])\n",
    "\n",
    "print(\"\\nConfusion Matrix\")\n",
    "display(cm_df)\n",
    "\n",
    "report = classification_report(y_test, y_pred_test)\n",
    "print(\"\\n\\nClassification Inform:\")\n",
    "print(classification_report(y_test, y_pred_test))"
   ]
  },
  {
   "cell_type": "markdown",
   "id": "0b42784e",
   "metadata": {},
   "source": [
    "### Overfitting issue !!\n",
    "We can see that we have overfitting due the accuracy on the training set and test set, is visualized that the predictions are **100.0%** accurate on the training set, this happens when the model is too complex to the amount of data values.\n",
    "\n",
    "Decision trees can suffer from overfitting when they incorporate noise from the data. \n",
    "\n",
    "To solve this we will constraint the model and change a parameter being the max_leaf_nodes of the decision tree classifier meaning we will try to change the model to modify this parameter. \n",
    "The higher value of maximum depth causes overfitting, and a lower value causes **underfitting** which is the opposite of **overfitting**, the model is too simple to know how to learn the way the data is presented.\n",
    "\n",
    "Also it is possible to use the second dataset that we have called like **X_train2, y_train2** where we have a limited number of features only being **2, Delta** and **Length** instead of 320 features. \n"
   ]
  },
  {
   "cell_type": "markdown",
   "id": "13a26060",
   "metadata": {},
   "source": [
    "## Training the model using the second dataset with two features"
   ]
  },
  {
   "cell_type": "code",
   "execution_count": 426,
   "id": "b86121eb",
   "metadata": {},
   "outputs": [
    {
     "data": {
      "text/html": [
       "<style>#sk-container-id-34 {color: black;}#sk-container-id-34 pre{padding: 0;}#sk-container-id-34 div.sk-toggleable {background-color: white;}#sk-container-id-34 label.sk-toggleable__label {cursor: pointer;display: block;width: 100%;margin-bottom: 0;padding: 0.3em;box-sizing: border-box;text-align: center;}#sk-container-id-34 label.sk-toggleable__label-arrow:before {content: \"▸\";float: left;margin-right: 0.25em;color: #696969;}#sk-container-id-34 label.sk-toggleable__label-arrow:hover:before {color: black;}#sk-container-id-34 div.sk-estimator:hover label.sk-toggleable__label-arrow:before {color: black;}#sk-container-id-34 div.sk-toggleable__content {max-height: 0;max-width: 0;overflow: hidden;text-align: left;background-color: #f0f8ff;}#sk-container-id-34 div.sk-toggleable__content pre {margin: 0.2em;color: black;border-radius: 0.25em;background-color: #f0f8ff;}#sk-container-id-34 input.sk-toggleable__control:checked~div.sk-toggleable__content {max-height: 200px;max-width: 100%;overflow: auto;}#sk-container-id-34 input.sk-toggleable__control:checked~label.sk-toggleable__label-arrow:before {content: \"▾\";}#sk-container-id-34 div.sk-estimator input.sk-toggleable__control:checked~label.sk-toggleable__label {background-color: #d4ebff;}#sk-container-id-34 div.sk-label input.sk-toggleable__control:checked~label.sk-toggleable__label {background-color: #d4ebff;}#sk-container-id-34 input.sk-hidden--visually {border: 0;clip: rect(1px 1px 1px 1px);clip: rect(1px, 1px, 1px, 1px);height: 1px;margin: -1px;overflow: hidden;padding: 0;position: absolute;width: 1px;}#sk-container-id-34 div.sk-estimator {font-family: monospace;background-color: #f0f8ff;border: 1px dotted black;border-radius: 0.25em;box-sizing: border-box;margin-bottom: 0.5em;}#sk-container-id-34 div.sk-estimator:hover {background-color: #d4ebff;}#sk-container-id-34 div.sk-parallel-item::after {content: \"\";width: 100%;border-bottom: 1px solid gray;flex-grow: 1;}#sk-container-id-34 div.sk-label:hover label.sk-toggleable__label {background-color: #d4ebff;}#sk-container-id-34 div.sk-serial::before {content: \"\";position: absolute;border-left: 1px solid gray;box-sizing: border-box;top: 0;bottom: 0;left: 50%;z-index: 0;}#sk-container-id-34 div.sk-serial {display: flex;flex-direction: column;align-items: center;background-color: white;padding-right: 0.2em;padding-left: 0.2em;position: relative;}#sk-container-id-34 div.sk-item {position: relative;z-index: 1;}#sk-container-id-34 div.sk-parallel {display: flex;align-items: stretch;justify-content: center;background-color: white;position: relative;}#sk-container-id-34 div.sk-item::before, #sk-container-id-34 div.sk-parallel-item::before {content: \"\";position: absolute;border-left: 1px solid gray;box-sizing: border-box;top: 0;bottom: 0;left: 50%;z-index: -1;}#sk-container-id-34 div.sk-parallel-item {display: flex;flex-direction: column;z-index: 1;position: relative;background-color: white;}#sk-container-id-34 div.sk-parallel-item:first-child::after {align-self: flex-end;width: 50%;}#sk-container-id-34 div.sk-parallel-item:last-child::after {align-self: flex-start;width: 50%;}#sk-container-id-34 div.sk-parallel-item:only-child::after {width: 0;}#sk-container-id-34 div.sk-dashed-wrapped {border: 1px dashed gray;margin: 0 0.4em 0.5em 0.4em;box-sizing: border-box;padding-bottom: 0.4em;background-color: white;}#sk-container-id-34 div.sk-label label {font-family: monospace;font-weight: bold;display: inline-block;line-height: 1.2em;}#sk-container-id-34 div.sk-label-container {text-align: center;}#sk-container-id-34 div.sk-container {/* jupyter's `normalize.less` sets `[hidden] { display: none; }` but bootstrap.min.css set `[hidden] { display: none !important; }` so we also need the `!important` here to be able to override the default hidden behavior on the sphinx rendered scikit-learn.org. See: https://github.com/scikit-learn/scikit-learn/issues/21755 */display: inline-block !important;position: relative;}#sk-container-id-34 div.sk-text-repr-fallback {display: none;}</style><div id=\"sk-container-id-34\" class=\"sk-top-container\"><div class=\"sk-text-repr-fallback\"><pre>DecisionTreeClassifier(criterion=&#x27;entropy&#x27;)</pre><b>In a Jupyter environment, please rerun this cell to show the HTML representation or trust the notebook. <br />On GitHub, the HTML representation is unable to render, please try loading this page with nbviewer.org.</b></div><div class=\"sk-container\" hidden><div class=\"sk-item\"><div class=\"sk-estimator sk-toggleable\"><input class=\"sk-toggleable__control sk-hidden--visually\" id=\"sk-estimator-id-34\" type=\"checkbox\" checked><label for=\"sk-estimator-id-34\" class=\"sk-toggleable__label sk-toggleable__label-arrow\">DecisionTreeClassifier</label><div class=\"sk-toggleable__content\"><pre>DecisionTreeClassifier(criterion=&#x27;entropy&#x27;)</pre></div></div></div></div></div>"
      ],
      "text/plain": [
       "DecisionTreeClassifier(criterion='entropy')"
      ]
     },
     "execution_count": 426,
     "metadata": {},
     "output_type": "execute_result"
    }
   ],
   "source": [
    "dtc = DecisionTreeClassifier(criterion=\"entropy\")\n",
    "dtc.fit(X_train2, y_train2)"
   ]
  },
  {
   "cell_type": "code",
   "execution_count": 427,
   "id": "c3590b17",
   "metadata": {},
   "outputs": [],
   "source": [
    "# We use the model method to predict the class labels for the provided data. \n",
    "y_pred_train = dtc.predict(X_train2)\n",
    "y_pred_test = dtc.predict(X_test2)"
   ]
  },
  {
   "cell_type": "markdown",
   "id": "458d4daf",
   "metadata": {},
   "source": [
    "### Accuracy of the model"
   ]
  },
  {
   "cell_type": "code",
   "execution_count": 428,
   "id": "7c8dc737",
   "metadata": {},
   "outputs": [
    {
     "name": "stdout",
     "output_type": "stream",
     "text": [
      "Predictions are 99.9% accurate on the training set.\n",
      "Predictions are 95.4% accurate on the test set.\n"
     ]
    }
   ],
   "source": [
    "accuracy_train = accuracy_score(y_train, y_pred_train)\n",
    "print('Predictions are {:3.1f}% accurate on the training set.'.format(100*accuracy_train))\n",
    "accuracy_test = accuracy_score(y_test, y_pred_test)\n",
    "print('Predictions are {:3.1f}% accurate on the test set.'.format(100*accuracy_test))"
   ]
  },
  {
   "cell_type": "code",
   "execution_count": 429,
   "id": "b431e747",
   "metadata": {},
   "outputs": [
    {
     "name": "stdout",
     "output_type": "stream",
     "text": [
      "\n",
      "Confusion Matrix\n"
     ]
    },
    {
     "data": {
      "text/html": [
       "<div>\n",
       "<style scoped>\n",
       "    .dataframe tbody tr th:only-of-type {\n",
       "        vertical-align: middle;\n",
       "    }\n",
       "\n",
       "    .dataframe tbody tr th {\n",
       "        vertical-align: top;\n",
       "    }\n",
       "\n",
       "    .dataframe thead th {\n",
       "        text-align: right;\n",
       "    }\n",
       "</style>\n",
       "<table border=\"1\" class=\"dataframe\">\n",
       "  <thead>\n",
       "    <tr style=\"text-align: right;\">\n",
       "      <th></th>\n",
       "      <th>Predicted No Attack</th>\n",
       "      <th>Predicted Attack</th>\n",
       "    </tr>\n",
       "  </thead>\n",
       "  <tbody>\n",
       "    <tr>\n",
       "      <th>Actual No Attack</th>\n",
       "      <td>430</td>\n",
       "      <td>22</td>\n",
       "    </tr>\n",
       "    <tr>\n",
       "      <th>Actual Attack</th>\n",
       "      <td>33</td>\n",
       "      <td>698</td>\n",
       "    </tr>\n",
       "  </tbody>\n",
       "</table>\n",
       "</div>"
      ],
      "text/plain": [
       "                  Predicted No Attack  Predicted Attack\n",
       "Actual No Attack                  430                22\n",
       "Actual Attack                      33               698"
      ]
     },
     "metadata": {},
     "output_type": "display_data"
    },
    {
     "name": "stdout",
     "output_type": "stream",
     "text": [
      "\n",
      "\n",
      "Classification Inform:\n",
      "              precision    recall  f1-score   support\n",
      "\n",
      "      Attack       0.93      0.95      0.94       452\n",
      "   No Attack       0.97      0.95      0.96       731\n",
      "\n",
      "    accuracy                           0.95      1183\n",
      "   macro avg       0.95      0.95      0.95      1183\n",
      "weighted avg       0.95      0.95      0.95      1183\n",
      "\n"
     ]
    }
   ],
   "source": [
    "# Create a matrix confusion based on our y_test and y_pred_test\n",
    "cm = confusion_matrix(y_test, y_pred_test)\n",
    "\n",
    "# Create a dataframe from the confusion matrix\n",
    "cm_df = pd.DataFrame(cm, \n",
    "        index = [\"Actual No Attack\", \"Actual Attack\"], \n",
    "        columns= [\"Predicted No Attack\", \"Predicted Attack\"])\n",
    "\n",
    "print(\"\\nConfusion Matrix\")\n",
    "display(cm_df)\n",
    "\n",
    "report = classification_report(y_test, y_pred_test)\n",
    "print(\"\\n\\nClassification Inform:\")\n",
    "print(classification_report(y_test, y_pred_test))"
   ]
  },
  {
   "cell_type": "markdown",
   "id": "c09d5eb8",
   "metadata": {},
   "source": [
    "In this case we see that even if we choose to work with our second training set the model is still overfitting and we get in return a numerous number of no attack being actual attacks. We can see that the f-score is sensitive but still our data doesn't have the predictions well measure for all the metrics."
   ]
  },
  {
   "cell_type": "markdown",
   "id": "2300ba95",
   "metadata": {},
   "source": [
    "## Constraining and training the model\n",
    "We will regularize our hyperparameters to solve this "
   ]
  },
  {
   "cell_type": "code",
   "execution_count": 430,
   "id": "403c8f72",
   "metadata": {},
   "outputs": [],
   "source": [
    "# Measure memory usage\n",
    "tracemalloc.start()\n",
    "\n",
    "# Record the start time\n",
    "start_time = time.time()\n",
    "\n",
    "\n",
    "# Train or model with our first dataset\n",
    "clf = DecisionTreeClassifier(criterion=\"entropy\", max_leaf_nodes=6)\n",
    "clf.fit(X_train, y_train)\n",
    "\n",
    "# Calculate the execution time\n",
    "end_time = time.time()\n",
    "\n",
    "execution_time = end_time - start_time\n",
    "\n",
    "current, peak = tracemalloc.get_traced_memory()\n",
    "memory_usage[1] = current/ 10**3\n",
    "tracemalloc.stop()\n",
    "\n",
    "# Print or use the execution time as needed\n",
    "computation_time[1] = execution_time"
   ]
  },
  {
   "cell_type": "code",
   "execution_count": 431,
   "id": "f67910c2",
   "metadata": {},
   "outputs": [],
   "source": [
    "# We use the model method to predict the class labels for the provided data. \n",
    "y_pred_train = clf.predict(X_train)\n",
    "y_pred_test = clf.predict(X_test)"
   ]
  },
  {
   "cell_type": "markdown",
   "id": "719fe391",
   "metadata": {},
   "source": [
    "### Accuracy of the model"
   ]
  },
  {
   "cell_type": "code",
   "execution_count": 432,
   "id": "b11a98ca",
   "metadata": {},
   "outputs": [
    {
     "name": "stdout",
     "output_type": "stream",
     "text": [
      "Predictions are 98.4% accurate on the training set.\n",
      "Predictions are 97.9% accurate on the test set.\n",
      "\n",
      "Confusion Matrix\n"
     ]
    },
    {
     "data": {
      "text/html": [
       "<div>\n",
       "<style scoped>\n",
       "    .dataframe tbody tr th:only-of-type {\n",
       "        vertical-align: middle;\n",
       "    }\n",
       "\n",
       "    .dataframe tbody tr th {\n",
       "        vertical-align: top;\n",
       "    }\n",
       "\n",
       "    .dataframe thead th {\n",
       "        text-align: right;\n",
       "    }\n",
       "</style>\n",
       "<table border=\"1\" class=\"dataframe\">\n",
       "  <thead>\n",
       "    <tr style=\"text-align: right;\">\n",
       "      <th></th>\n",
       "      <th>Predicted No Attack</th>\n",
       "      <th>Predicted Attack</th>\n",
       "    </tr>\n",
       "  </thead>\n",
       "  <tbody>\n",
       "    <tr>\n",
       "      <th>Actual No Attack</th>\n",
       "      <td>446</td>\n",
       "      <td>6</td>\n",
       "    </tr>\n",
       "    <tr>\n",
       "      <th>Actual Attack</th>\n",
       "      <td>19</td>\n",
       "      <td>712</td>\n",
       "    </tr>\n",
       "  </tbody>\n",
       "</table>\n",
       "</div>"
      ],
      "text/plain": [
       "                  Predicted No Attack  Predicted Attack\n",
       "Actual No Attack                  446                 6\n",
       "Actual Attack                      19               712"
      ]
     },
     "metadata": {},
     "output_type": "display_data"
    },
    {
     "name": "stdout",
     "output_type": "stream",
     "text": [
      "\n",
      "\n",
      "Classification Inform:\n",
      "              precision    recall  f1-score   support\n",
      "\n",
      "      Attack       0.96      0.99      0.97       452\n",
      "   No Attack       0.99      0.97      0.98       731\n",
      "\n",
      "    accuracy                           0.98      1183\n",
      "   macro avg       0.98      0.98      0.98      1183\n",
      "weighted avg       0.98      0.98      0.98      1183\n",
      "\n"
     ]
    }
   ],
   "source": [
    "accuracy_train = accuracy_score(y_train, y_pred_train)\n",
    "print('Predictions are {:3.1f}% accurate on the training set.'.format(100*accuracy_train))\n",
    "accuracy_test = accuracy_score(y_test, y_pred_test)\n",
    "print('Predictions are {:3.1f}% accurate on the test set.'.format(100*accuracy_test))\n",
    "\n",
    "# Create a matrix confusion based on our y_test and y_pred_test\n",
    "cm = confusion_matrix(y_test, y_pred_test)\n",
    "\n",
    "# Create a dataframe from the confusion matrix\n",
    "cm_df = pd.DataFrame(cm, \n",
    "        index = [\"Actual No Attack\", \"Actual Attack\"], \n",
    "        columns= [\"Predicted No Attack\", \"Predicted Attack\"])\n",
    "\n",
    "\n",
    "models_name[0] = \"Decision Tree Classifier\"\n",
    "accuracy_model[0] = ([\"{:.2f}\".format(100*accuracy_train), \"{:.2f}\".format(100*accuracy_test)])\n",
    "\n",
    "print(\"\\nConfusion Matrix\")\n",
    "display(cm_df)\n",
    "\n",
    "print(\"\\n\\nClassification Inform:\")\n",
    "print(classification_report(y_test, y_pred_test))"
   ]
  },
  {
   "cell_type": "markdown",
   "id": "c67d9459",
   "metadata": {},
   "source": [
    "### Text representation of the tree classification.\n",
    "\n",
    "The decision classifier has an attribute called tree_ which allows access to low level attributes such as \n",
    "- node_count\n",
    "- the total number of nodes\n",
    "- max_depth: the maximal depth of the tree.\n",
    "- impurity: tell us how random the data is\n",
    "\n",
    "The tree_.compute_node_depths() method computes the depth of each node in the tree. tree_ also stores the entire binary tree structure, represented as a number of parallel arrays. "
   ]
  },
  {
   "cell_type": "code",
   "execution_count": 433,
   "id": "cad56b4e",
   "metadata": {},
   "outputs": [],
   "source": [
    "# To display tree information \n",
    "from sklearn.tree import plot_tree\n",
    "\n",
    "# Get the Decision Tree structure of the model <=> clf\n",
    "tree_structure = clf.tree_\n",
    "\n",
    "# Create a function to display node information\n",
    "def display_node(node_id, depth=0):\n",
    "    node_value = tree_structure.value[node_id]\n",
    "    class_probabilities = node_value[0] / node_value[0].sum()\n",
    "    class_name = class_labels[class_probabilities.argmax()]\n",
    "    threshold = tree_structure.threshold[node_id] \n",
    "    \n",
    "    # Print node information\n",
    "    print(f\"Node {node_id}: Depth={depth}, Class={class_name}, Samples={node_value[0].sum()}, Impurity={tree_structure.impurity[node_id]:.3f}\")\n",
    "\n",
    "    if tree_structure.children_left[node_id] != tree_structure.children_right[node_id]:\n",
    "        # Recursive call one depth more for both sides of the children\n",
    "        display_node(tree_structure.children_left[node_id], depth + 1)\n",
    "        display_node(tree_structure.children_right[node_id], depth + 1)\n"
   ]
  },
  {
   "cell_type": "markdown",
   "id": "a031d862",
   "metadata": {},
   "source": [
    "The final classification result for a sample is determined by following the path from the root node to a leaf node, making decisions at each step based on the feature values.\n",
    "\n",
    "Since we did a maximum depth that isn't that deep we don't really explore all the features of the model and also it selects the feature that provides the best split at that particular node. This selection is based on **Entropy**."
   ]
  },
  {
   "cell_type": "markdown",
   "id": "c7b615a0",
   "metadata": {},
   "source": [
    "## Visual representation of the tree classification.\n",
    "To see the tree we would import the library plot_tree to be able to plot the tree model."
   ]
  },
  {
   "cell_type": "code",
   "execution_count": 434,
   "id": "b6647fc2",
   "metadata": {},
   "outputs": [],
   "source": [
    "from sklearn.tree import plot_tree"
   ]
  },
  {
   "cell_type": "code",
   "execution_count": 435,
   "id": "004b8c78",
   "metadata": {},
   "outputs": [
    {
     "data": {
      "image/png": "[encoded data removed]",
      "text/plain": [
       "<Figure size 2000x1500 with 1 Axes>"
      ]
     },
     "metadata": {},
     "output_type": "display_data"
    },
    {
     "name": "stdout",
     "output_type": "stream",
     "text": [
      "Node 0: Depth=0, Class=Attack, Samples=4728.0, Impurity=0.940\n",
      "Node 1: Depth=1, Class=No Attack, Samples=2652.0, Impurity=0.946\n",
      "Node 3: Depth=2, Class=No Attack, Samples=2165.0, Impurity=0.762\n",
      "Node 5: Depth=3, Class=No Attack, Samples=1840.0, Impurity=0.457\n",
      "Node 7: Depth=4, Class=No Attack, Samples=1688.0, Impurity=0.198\n",
      "Node 8: Depth=4, Class=Attack, Samples=152.0, Impurity=0.675\n",
      "Node 9: Depth=5, Class=Attack, Samples=124.0, Impurity=0.000\n",
      "Node 10: Depth=5, Class=No Attack, Samples=28.0, Impurity=0.222\n",
      "Node 6: Depth=3, Class=Attack, Samples=325.0, Impurity=0.369\n",
      "Node 4: Depth=2, Class=Attack, Samples=487.0, Impurity=0.000\n",
      "Node 2: Depth=1, Class=Attack, Samples=2076.0, Impurity=0.000\n"
     ]
    }
   ],
   "source": [
    "fig, ax = plt.subplots(figsize=(20, 15))\n",
    "\n",
    "# We assign the colors according to the display of the plot_tree functionn\n",
    "colors = ['Orange', 'Blue']\n",
    "class_labels = [\"No Attack\", \"Attack\"]\n",
    "legend_labels = [f'{label} ' for label, color in zip(class_labels, colors)]\n",
    "\n",
    "plot_tree(clf, filled=True, ax=ax, fontsize=10, node_ids=True, class_names=class_labels, rounded=True)\n",
    "ax.legend(handles=[plt.Line2D([0], [0], marker='o', color='w', markerfacecolor=color, markersize=10, label=label) for label, color in zip(legend_labels, colors)], loc='upper left', fontsize=15)\n",
    "plt.show()\n",
    "\n",
    "# Display node information and the Decision Tree\n",
    "display_node(0)"
   ]
  },
  {
   "cell_type": "markdown",
   "id": "34e0fede",
   "metadata": {},
   "source": [
    "Impurity is measured on a scale from 0 to 1, with 0 representing pure nodes (all samples have the same class) and 1 representing highly impure nodes (samples are evenly distributed across classes).\n",
    "\n",
    "We can see in the image above how is represented for each node, the blue nodes representing an **Attack** and the oranges a **No Attack**, as well, the less light it means it has a less level of Impurity and is more sure of the output."
   ]
  },
  {
   "cell_type": "markdown",
   "id": "0022b925",
   "metadata": {},
   "source": [
    "## Conclusion from Tree Decision Classifier model\n",
    "\n",
    "It is important to check constant on our accuracies to check if the model is overfitting or underfitting, even if it's a great value of accuracy we have to make sure that it is matching our confusion matrix as well.\n",
    "\n",
    "The best way to overcome the \n",
    "From the confusion matrix we can see that \n",
    "- Out of **796** Actual Attacks , **46** were predicted to be no attack, which we call false negative (FN).\n",
    "- Out of **796** Actual attacks, **750** were predicted to be Attacks, which we call true positive (TP).\n",
    "\n"
   ]
  },
  {
   "cell_type": "markdown",
   "id": "8c2b711c",
   "metadata": {},
   "source": [
    "# KNeighbors Classifier\n",
    "\n",
    "This algorithm is an unsupervised algorithm This metric depends totally on a distance metric. \n",
    "\n",
    "To use this model is important to know the number of K neighbors we want to implement, in this case we can implement our model with no parameters and it will be assigned the default 5 neighbors and the default metric is Minkowski p=2, being Euclidean distance.\n",
    "\n",
    "The formula for Minkowski is a generalized formula of the Euclidean Distance and the Manhattan distance being p=1. \n",
    "\n",
    "$$ (\\sum\\limits _{i = 1} ^{k}{ {|x_{i} - y_{i}|}})^\\frac{1}{p}  $$ \n",
    "\n",
    "The formula for Euclidean distance:\n",
    "\n",
    "$$ \\sqrt{\\sum\\limits _{i = 1} ^{k}{ {x_{i} - y_{i}}^2 } }$$ \n",
    "\n",
    "Which is  calculated as the square root of the sum of square differences between a new point x and a point that already exists y.\n",
    "\n",
    "By calculating the Euclidean distance we got the nearest neighbors, it would find the nearest in category \"No Attack\" and the other nearest neighbors in category \"Attack\"."
   ]
  },
  {
   "cell_type": "code",
   "execution_count": 436,
   "id": "eb385fd8",
   "metadata": {},
   "outputs": [],
   "source": [
    "# Import the library KNeighbors Classifier \n",
    "from sklearn.neighbors import KNeighborsClassifier"
   ]
  },
  {
   "cell_type": "code",
   "execution_count": 437,
   "id": "13836f17",
   "metadata": {},
   "outputs": [
    {
     "data": {
      "text/html": [
       "<style>#sk-container-id-35 {color: black;}#sk-container-id-35 pre{padding: 0;}#sk-container-id-35 div.sk-toggleable {background-color: white;}#sk-container-id-35 label.sk-toggleable__label {cursor: pointer;display: block;width: 100%;margin-bottom: 0;padding: 0.3em;box-sizing: border-box;text-align: center;}#sk-container-id-35 label.sk-toggleable__label-arrow:before {content: \"▸\";float: left;margin-right: 0.25em;color: #696969;}#sk-container-id-35 label.sk-toggleable__label-arrow:hover:before {color: black;}#sk-container-id-35 div.sk-estimator:hover label.sk-toggleable__label-arrow:before {color: black;}#sk-container-id-35 div.sk-toggleable__content {max-height: 0;max-width: 0;overflow: hidden;text-align: left;background-color: #f0f8ff;}#sk-container-id-35 div.sk-toggleable__content pre {margin: 0.2em;color: black;border-radius: 0.25em;background-color: #f0f8ff;}#sk-container-id-35 input.sk-toggleable__control:checked~div.sk-toggleable__content {max-height: 200px;max-width: 100%;overflow: auto;}#sk-container-id-35 input.sk-toggleable__control:checked~label.sk-toggleable__label-arrow:before {content: \"▾\";}#sk-container-id-35 div.sk-estimator input.sk-toggleable__control:checked~label.sk-toggleable__label {background-color: #d4ebff;}#sk-container-id-35 div.sk-label input.sk-toggleable__control:checked~label.sk-toggleable__label {background-color: #d4ebff;}#sk-container-id-35 input.sk-hidden--visually {border: 0;clip: rect(1px 1px 1px 1px);clip: rect(1px, 1px, 1px, 1px);height: 1px;margin: -1px;overflow: hidden;padding: 0;position: absolute;width: 1px;}#sk-container-id-35 div.sk-estimator {font-family: monospace;background-color: #f0f8ff;border: 1px dotted black;border-radius: 0.25em;box-sizing: border-box;margin-bottom: 0.5em;}#sk-container-id-35 div.sk-estimator:hover {background-color: #d4ebff;}#sk-container-id-35 div.sk-parallel-item::after {content: \"\";width: 100%;border-bottom: 1px solid gray;flex-grow: 1;}#sk-container-id-35 div.sk-label:hover label.sk-toggleable__label {background-color: #d4ebff;}#sk-container-id-35 div.sk-serial::before {content: \"\";position: absolute;border-left: 1px solid gray;box-sizing: border-box;top: 0;bottom: 0;left: 50%;z-index: 0;}#sk-container-id-35 div.sk-serial {display: flex;flex-direction: column;align-items: center;background-color: white;padding-right: 0.2em;padding-left: 0.2em;position: relative;}#sk-container-id-35 div.sk-item {position: relative;z-index: 1;}#sk-container-id-35 div.sk-parallel {display: flex;align-items: stretch;justify-content: center;background-color: white;position: relative;}#sk-container-id-35 div.sk-item::before, #sk-container-id-35 div.sk-parallel-item::before {content: \"\";position: absolute;border-left: 1px solid gray;box-sizing: border-box;top: 0;bottom: 0;left: 50%;z-index: -1;}#sk-container-id-35 div.sk-parallel-item {display: flex;flex-direction: column;z-index: 1;position: relative;background-color: white;}#sk-container-id-35 div.sk-parallel-item:first-child::after {align-self: flex-end;width: 50%;}#sk-container-id-35 div.sk-parallel-item:last-child::after {align-self: flex-start;width: 50%;}#sk-container-id-35 div.sk-parallel-item:only-child::after {width: 0;}#sk-container-id-35 div.sk-dashed-wrapped {border: 1px dashed gray;margin: 0 0.4em 0.5em 0.4em;box-sizing: border-box;padding-bottom: 0.4em;background-color: white;}#sk-container-id-35 div.sk-label label {font-family: monospace;font-weight: bold;display: inline-block;line-height: 1.2em;}#sk-container-id-35 div.sk-label-container {text-align: center;}#sk-container-id-35 div.sk-container {/* jupyter's `normalize.less` sets `[hidden] { display: none; }` but bootstrap.min.css set `[hidden] { display: none !important; }` so we also need the `!important` here to be able to override the default hidden behavior on the sphinx rendered scikit-learn.org. See: https://github.com/scikit-learn/scikit-learn/issues/21755 */display: inline-block !important;position: relative;}#sk-container-id-35 div.sk-text-repr-fallback {display: none;}</style><div id=\"sk-container-id-35\" class=\"sk-top-container\"><div class=\"sk-text-repr-fallback\"><pre>KNeighborsClassifier()</pre><b>In a Jupyter environment, please rerun this cell to show the HTML representation or trust the notebook. <br />On GitHub, the HTML representation is unable to render, please try loading this page with nbviewer.org.</b></div><div class=\"sk-container\" hidden><div class=\"sk-item\"><div class=\"sk-estimator sk-toggleable\"><input class=\"sk-toggleable__control sk-hidden--visually\" id=\"sk-estimator-id-35\" type=\"checkbox\" checked><label for=\"sk-estimator-id-35\" class=\"sk-toggleable__label sk-toggleable__label-arrow\">KNeighborsClassifier</label><div class=\"sk-toggleable__content\"><pre>KNeighborsClassifier()</pre></div></div></div></div></div>"
      ],
      "text/plain": [
       "KNeighborsClassifier()"
      ]
     },
     "execution_count": 437,
     "metadata": {},
     "output_type": "execute_result"
    }
   ],
   "source": [
    "# We implement knn with default parameters. n_neighbors = 5 metric = Euclidean distance.\n",
    "knn = KNeighborsClassifier()\n",
    "\n",
    "# We fit our data into the model\n",
    "knn.fit(X_train, y_train)"
   ]
  },
  {
   "cell_type": "code",
   "execution_count": 438,
   "id": "8328b9fc",
   "metadata": {},
   "outputs": [],
   "source": [
    "# We make the predictions of our model with X\n",
    "y_pred_train = knn.predict(X_train)\n",
    "y_pred_test = knn.predict(X_test)"
   ]
  },
  {
   "cell_type": "code",
   "execution_count": 439,
   "id": "7366ad31",
   "metadata": {},
   "outputs": [
    {
     "name": "stdout",
     "output_type": "stream",
     "text": [
      "Predictions are 98.6% accurate on the training set.\n",
      "Predictions are 97.6% accurate on the test set.\n"
     ]
    },
    {
     "data": {
      "text/html": [
       "<div>\n",
       "<style scoped>\n",
       "    .dataframe tbody tr th:only-of-type {\n",
       "        vertical-align: middle;\n",
       "    }\n",
       "\n",
       "    .dataframe tbody tr th {\n",
       "        vertical-align: top;\n",
       "    }\n",
       "\n",
       "    .dataframe thead th {\n",
       "        text-align: right;\n",
       "    }\n",
       "</style>\n",
       "<table border=\"1\" class=\"dataframe\">\n",
       "  <thead>\n",
       "    <tr style=\"text-align: right;\">\n",
       "      <th></th>\n",
       "      <th>Predicted No Attack</th>\n",
       "      <th>Predicted Attack</th>\n",
       "    </tr>\n",
       "  </thead>\n",
       "  <tbody>\n",
       "    <tr>\n",
       "      <th>Actual No Attack</th>\n",
       "      <td>445</td>\n",
       "      <td>7</td>\n",
       "    </tr>\n",
       "    <tr>\n",
       "      <th>Actual Attack</th>\n",
       "      <td>21</td>\n",
       "      <td>710</td>\n",
       "    </tr>\n",
       "  </tbody>\n",
       "</table>\n",
       "</div>"
      ],
      "text/plain": [
       "                  Predicted No Attack  Predicted Attack\n",
       "Actual No Attack                  445                 7\n",
       "Actual Attack                      21               710"
      ]
     },
     "metadata": {},
     "output_type": "display_data"
    },
    {
     "name": "stdout",
     "output_type": "stream",
     "text": [
      "\n",
      "\n",
      "Inform of Classification:\n",
      "              precision    recall  f1-score   support\n",
      "\n",
      "      Attack       0.95      0.98      0.97       452\n",
      "   No Attack       0.99      0.97      0.98       731\n",
      "\n",
      "    accuracy                           0.98      1183\n",
      "   macro avg       0.97      0.98      0.98      1183\n",
      "weighted avg       0.98      0.98      0.98      1183\n",
      "\n"
     ]
    }
   ],
   "source": [
    "accuracy_train = accuracy_score(y_train, y_pred_train)\n",
    "print('Predictions are {:3.1f}% accurate on the training set.'.format(100*accuracy_train))\n",
    "accuracy_test = accuracy_score(y_test, y_pred_test)\n",
    "print('Predictions are {:3.1f}% accurate on the test set.'.format(100*accuracy_test))\n",
    "\n",
    "# Create matrix \n",
    "cm = confusion_matrix(y_test, y_pred_test)\n",
    "y_pred_test\n",
    "\n",
    "# Create a dataframe for the confusion matrix\n",
    "cm_df_knn = pd.DataFrame(cm, \n",
    "        index = [\"Actual No Attack\", \"Actual Attack\"], \n",
    "        columns= [\"Predicted No Attack\", \"Predicted Attack\"])\n",
    "\n",
    "display(cm_df_knn)\n",
    "\n",
    "print('\\n\\nInform of Classification:')\n",
    "knn_report = classification_report(y_test, y_pred_test)\n",
    "print(knn_report)"
   ]
  },
  {
   "cell_type": "markdown",
   "id": "623f3bab",
   "metadata": {},
   "source": [
    "We can see that we got really good predictions and the sensitive is high as well, this means that n_neighbors= 5 have a really good accuracy, in other case if we used the default parameters we wouldn't be sure if the result would be the same, for this scenario we're going to try with the second dataset."
   ]
  },
  {
   "cell_type": "markdown",
   "id": "855006c5",
   "metadata": {},
   "source": [
    "## Training the model with second dataset that has 2 features"
   ]
  },
  {
   "cell_type": "code",
   "execution_count": 440,
   "id": "b0039999",
   "metadata": {},
   "outputs": [
    {
     "data": {
      "text/html": [
       "<style>#sk-container-id-36 {color: black;}#sk-container-id-36 pre{padding: 0;}#sk-container-id-36 div.sk-toggleable {background-color: white;}#sk-container-id-36 label.sk-toggleable__label {cursor: pointer;display: block;width: 100%;margin-bottom: 0;padding: 0.3em;box-sizing: border-box;text-align: center;}#sk-container-id-36 label.sk-toggleable__label-arrow:before {content: \"▸\";float: left;margin-right: 0.25em;color: #696969;}#sk-container-id-36 label.sk-toggleable__label-arrow:hover:before {color: black;}#sk-container-id-36 div.sk-estimator:hover label.sk-toggleable__label-arrow:before {color: black;}#sk-container-id-36 div.sk-toggleable__content {max-height: 0;max-width: 0;overflow: hidden;text-align: left;background-color: #f0f8ff;}#sk-container-id-36 div.sk-toggleable__content pre {margin: 0.2em;color: black;border-radius: 0.25em;background-color: #f0f8ff;}#sk-container-id-36 input.sk-toggleable__control:checked~div.sk-toggleable__content {max-height: 200px;max-width: 100%;overflow: auto;}#sk-container-id-36 input.sk-toggleable__control:checked~label.sk-toggleable__label-arrow:before {content: \"▾\";}#sk-container-id-36 div.sk-estimator input.sk-toggleable__control:checked~label.sk-toggleable__label {background-color: #d4ebff;}#sk-container-id-36 div.sk-label input.sk-toggleable__control:checked~label.sk-toggleable__label {background-color: #d4ebff;}#sk-container-id-36 input.sk-hidden--visually {border: 0;clip: rect(1px 1px 1px 1px);clip: rect(1px, 1px, 1px, 1px);height: 1px;margin: -1px;overflow: hidden;padding: 0;position: absolute;width: 1px;}#sk-container-id-36 div.sk-estimator {font-family: monospace;background-color: #f0f8ff;border: 1px dotted black;border-radius: 0.25em;box-sizing: border-box;margin-bottom: 0.5em;}#sk-container-id-36 div.sk-estimator:hover {background-color: #d4ebff;}#sk-container-id-36 div.sk-parallel-item::after {content: \"\";width: 100%;border-bottom: 1px solid gray;flex-grow: 1;}#sk-container-id-36 div.sk-label:hover label.sk-toggleable__label {background-color: #d4ebff;}#sk-container-id-36 div.sk-serial::before {content: \"\";position: absolute;border-left: 1px solid gray;box-sizing: border-box;top: 0;bottom: 0;left: 50%;z-index: 0;}#sk-container-id-36 div.sk-serial {display: flex;flex-direction: column;align-items: center;background-color: white;padding-right: 0.2em;padding-left: 0.2em;position: relative;}#sk-container-id-36 div.sk-item {position: relative;z-index: 1;}#sk-container-id-36 div.sk-parallel {display: flex;align-items: stretch;justify-content: center;background-color: white;position: relative;}#sk-container-id-36 div.sk-item::before, #sk-container-id-36 div.sk-parallel-item::before {content: \"\";position: absolute;border-left: 1px solid gray;box-sizing: border-box;top: 0;bottom: 0;left: 50%;z-index: -1;}#sk-container-id-36 div.sk-parallel-item {display: flex;flex-direction: column;z-index: 1;position: relative;background-color: white;}#sk-container-id-36 div.sk-parallel-item:first-child::after {align-self: flex-end;width: 50%;}#sk-container-id-36 div.sk-parallel-item:last-child::after {align-self: flex-start;width: 50%;}#sk-container-id-36 div.sk-parallel-item:only-child::after {width: 0;}#sk-container-id-36 div.sk-dashed-wrapped {border: 1px dashed gray;margin: 0 0.4em 0.5em 0.4em;box-sizing: border-box;padding-bottom: 0.4em;background-color: white;}#sk-container-id-36 div.sk-label label {font-family: monospace;font-weight: bold;display: inline-block;line-height: 1.2em;}#sk-container-id-36 div.sk-label-container {text-align: center;}#sk-container-id-36 div.sk-container {/* jupyter's `normalize.less` sets `[hidden] { display: none; }` but bootstrap.min.css set `[hidden] { display: none !important; }` so we also need the `!important` here to be able to override the default hidden behavior on the sphinx rendered scikit-learn.org. See: https://github.com/scikit-learn/scikit-learn/issues/21755 */display: inline-block !important;position: relative;}#sk-container-id-36 div.sk-text-repr-fallback {display: none;}</style><div id=\"sk-container-id-36\" class=\"sk-top-container\"><div class=\"sk-text-repr-fallback\"><pre>KNeighborsClassifier()</pre><b>In a Jupyter environment, please rerun this cell to show the HTML representation or trust the notebook. <br />On GitHub, the HTML representation is unable to render, please try loading this page with nbviewer.org.</b></div><div class=\"sk-container\" hidden><div class=\"sk-item\"><div class=\"sk-estimator sk-toggleable\"><input class=\"sk-toggleable__control sk-hidden--visually\" id=\"sk-estimator-id-36\" type=\"checkbox\" checked><label for=\"sk-estimator-id-36\" class=\"sk-toggleable__label sk-toggleable__label-arrow\">KNeighborsClassifier</label><div class=\"sk-toggleable__content\"><pre>KNeighborsClassifier()</pre></div></div></div></div></div>"
      ],
      "text/plain": [
       "KNeighborsClassifier()"
      ]
     },
     "execution_count": 440,
     "metadata": {},
     "output_type": "execute_result"
    }
   ],
   "source": [
    "# We implement knn with default parameters. n_neighbors = 5 metric = Euclidean distance.\n",
    "knn = KNeighborsClassifier()\n",
    "\n",
    "# We fit our data into the model\n",
    "knn.fit(X_train2, y_train2)\n"
   ]
  },
  {
   "cell_type": "code",
   "execution_count": 441,
   "id": "f7301d3f",
   "metadata": {},
   "outputs": [],
   "source": [
    "y_pred_train = knn.predict(X_train2)\n",
    "y_pred_test = knn.predict(X_test2)"
   ]
  },
  {
   "cell_type": "code",
   "execution_count": 442,
   "id": "f8e2d72a",
   "metadata": {},
   "outputs": [
    {
     "name": "stdout",
     "output_type": "stream",
     "text": [
      "Predictions are 97.2% accurate on the training set.\n",
      "Predictions are 95.9% accurate on the test set.\n"
     ]
    },
    {
     "data": {
      "text/html": [
       "<div>\n",
       "<style scoped>\n",
       "    .dataframe tbody tr th:only-of-type {\n",
       "        vertical-align: middle;\n",
       "    }\n",
       "\n",
       "    .dataframe tbody tr th {\n",
       "        vertical-align: top;\n",
       "    }\n",
       "\n",
       "    .dataframe thead th {\n",
       "        text-align: right;\n",
       "    }\n",
       "</style>\n",
       "<table border=\"1\" class=\"dataframe\">\n",
       "  <thead>\n",
       "    <tr style=\"text-align: right;\">\n",
       "      <th></th>\n",
       "      <th>Predicted No Attack</th>\n",
       "      <th>Predicted Attack</th>\n",
       "    </tr>\n",
       "  </thead>\n",
       "  <tbody>\n",
       "    <tr>\n",
       "      <th>Actual No Attack</th>\n",
       "      <td>432</td>\n",
       "      <td>20</td>\n",
       "    </tr>\n",
       "    <tr>\n",
       "      <th>Actual Attack</th>\n",
       "      <td>28</td>\n",
       "      <td>703</td>\n",
       "    </tr>\n",
       "  </tbody>\n",
       "</table>\n",
       "</div>"
      ],
      "text/plain": [
       "                  Predicted No Attack  Predicted Attack\n",
       "Actual No Attack                  432                20\n",
       "Actual Attack                      28               703"
      ]
     },
     "metadata": {},
     "output_type": "display_data"
    },
    {
     "name": "stdout",
     "output_type": "stream",
     "text": [
      "\n",
      "\n",
      "Inform of Classification:\n",
      "              precision    recall  f1-score   support\n",
      "\n",
      "      Attack       0.94      0.96      0.95       452\n",
      "   No Attack       0.97      0.96      0.97       731\n",
      "\n",
      "    accuracy                           0.96      1183\n",
      "   macro avg       0.96      0.96      0.96      1183\n",
      "weighted avg       0.96      0.96      0.96      1183\n",
      "\n"
     ]
    }
   ],
   "source": [
    "accuracy_train = accuracy_score(y_train, y_pred_train)\n",
    "print('Predictions are {:3.1f}% accurate on the training set.'.format(100*accuracy_train))\n",
    "accuracy_test = accuracy_score(y_test, y_pred_test)\n",
    "print('Predictions are {:3.1f}% accurate on the test set.'.format(100*accuracy_test))\n",
    "\n",
    "# Create matrix \n",
    "cm = confusion_matrix(y_test, y_pred_test)\n",
    "\n",
    "# Create a dataframe for the confusion matrix\n",
    "cm_df_knn = pd.DataFrame(cm, \n",
    "        index = [\"Actual No Attack\", \"Actual Attack\"], \n",
    "        columns= [\"Predicted No Attack\", \"Predicted Attack\"])\n",
    "\n",
    "display(cm_df_knn)\n",
    "\n",
    "print('\\n\\nInform of Classification:')\n",
    "report_knn = classification_report(y_test, y_pred_test)\n",
    "print(report_knn)"
   ]
  },
  {
   "cell_type": "markdown",
   "id": "31ca4dbd",
   "metadata": {},
   "source": [
    "For this dataset we could see that the accuracy decrease, meaning that this number of neighbors is good but we don't really know if is the optimal. The main step to do for the KNN neighbors is calculate"
   ]
  },
  {
   "cell_type": "markdown",
   "id": "3748b718",
   "metadata": {},
   "source": [
    "### Selelct our K value\n",
    "How do we know what is the appropiate K for our model? We will implement a formmula that will range from different k_values from range 1 to 31, that will accuracy for each K and we will see based on the model we give which "
   ]
  },
  {
   "cell_type": "code",
   "execution_count": 443,
   "id": "55817f9a",
   "metadata": {},
   "outputs": [],
   "source": [
    "# Import seaborn to plot the k values according to accuracy scores\n",
    "import seaborn as sns\n",
    "\n",
    "#Using Cross Validation to Get the Best Value of k\n",
    "def getK(X, y):\n",
    "    k_values = [i for i in range (1,31)]\n",
    "    scores = []\n",
    "\n",
    "    #scaler = StandardScaler()\n",
    "    #X = scaler.fit_transform(X)\n",
    "\n",
    "    for k in k_values:\n",
    "        knn = KNeighborsClassifier(n_neighbors=k)\n",
    "        #  It then uses cross_val_score to calculate the accuracy of the classifier using 5-fold cross-validation \n",
    "        score = cross_val_score(knn, X, y, cv=5)\n",
    "        scores.append(np.mean(score))\n",
    "\n",
    "    sns.lineplot(x = k_values, y = scores, marker = 'o')\n",
    "    plt.grid()\n",
    "    plt.xlabel(\"K Values\")\n",
    "    plt.ylabel(\"Accuracy Score\")"
   ]
  },
  {
   "cell_type": "markdown",
   "id": "7d598864",
   "metadata": {},
   "source": [
    "Code to get best value of k [2]."
   ]
  },
  {
   "cell_type": "code",
   "execution_count": 444,
   "id": "e9bce2cd",
   "metadata": {},
   "outputs": [
    {
     "data": {
      "image/png": "[encoded data removed]",
      "text/plain": [
       "<Figure size 640x480 with 1 Axes>"
      ]
     },
     "metadata": {},
     "output_type": "display_data"
    }
   ],
   "source": [
    "# Get the accuracy score from K-values from the second \n",
    "getK(TwoX, y)"
   ]
  },
  {
   "cell_type": "code",
   "execution_count": 445,
   "id": "0f68e8bc",
   "metadata": {},
   "outputs": [
    {
     "data": {
      "text/html": [
       "<style>#sk-container-id-37 {color: black;}#sk-container-id-37 pre{padding: 0;}#sk-container-id-37 div.sk-toggleable {background-color: white;}#sk-container-id-37 label.sk-toggleable__label {cursor: pointer;display: block;width: 100%;margin-bottom: 0;padding: 0.3em;box-sizing: border-box;text-align: center;}#sk-container-id-37 label.sk-toggleable__label-arrow:before {content: \"▸\";float: left;margin-right: 0.25em;color: #696969;}#sk-container-id-37 label.sk-toggleable__label-arrow:hover:before {color: black;}#sk-container-id-37 div.sk-estimator:hover label.sk-toggleable__label-arrow:before {color: black;}#sk-container-id-37 div.sk-toggleable__content {max-height: 0;max-width: 0;overflow: hidden;text-align: left;background-color: #f0f8ff;}#sk-container-id-37 div.sk-toggleable__content pre {margin: 0.2em;color: black;border-radius: 0.25em;background-color: #f0f8ff;}#sk-container-id-37 input.sk-toggleable__control:checked~div.sk-toggleable__content {max-height: 200px;max-width: 100%;overflow: auto;}#sk-container-id-37 input.sk-toggleable__control:checked~label.sk-toggleable__label-arrow:before {content: \"▾\";}#sk-container-id-37 div.sk-estimator input.sk-toggleable__control:checked~label.sk-toggleable__label {background-color: #d4ebff;}#sk-container-id-37 div.sk-label input.sk-toggleable__control:checked~label.sk-toggleable__label {background-color: #d4ebff;}#sk-container-id-37 input.sk-hidden--visually {border: 0;clip: rect(1px 1px 1px 1px);clip: rect(1px, 1px, 1px, 1px);height: 1px;margin: -1px;overflow: hidden;padding: 0;position: absolute;width: 1px;}#sk-container-id-37 div.sk-estimator {font-family: monospace;background-color: #f0f8ff;border: 1px dotted black;border-radius: 0.25em;box-sizing: border-box;margin-bottom: 0.5em;}#sk-container-id-37 div.sk-estimator:hover {background-color: #d4ebff;}#sk-container-id-37 div.sk-parallel-item::after {content: \"\";width: 100%;border-bottom: 1px solid gray;flex-grow: 1;}#sk-container-id-37 div.sk-label:hover label.sk-toggleable__label {background-color: #d4ebff;}#sk-container-id-37 div.sk-serial::before {content: \"\";position: absolute;border-left: 1px solid gray;box-sizing: border-box;top: 0;bottom: 0;left: 50%;z-index: 0;}#sk-container-id-37 div.sk-serial {display: flex;flex-direction: column;align-items: center;background-color: white;padding-right: 0.2em;padding-left: 0.2em;position: relative;}#sk-container-id-37 div.sk-item {position: relative;z-index: 1;}#sk-container-id-37 div.sk-parallel {display: flex;align-items: stretch;justify-content: center;background-color: white;position: relative;}#sk-container-id-37 div.sk-item::before, #sk-container-id-37 div.sk-parallel-item::before {content: \"\";position: absolute;border-left: 1px solid gray;box-sizing: border-box;top: 0;bottom: 0;left: 50%;z-index: -1;}#sk-container-id-37 div.sk-parallel-item {display: flex;flex-direction: column;z-index: 1;position: relative;background-color: white;}#sk-container-id-37 div.sk-parallel-item:first-child::after {align-self: flex-end;width: 50%;}#sk-container-id-37 div.sk-parallel-item:last-child::after {align-self: flex-start;width: 50%;}#sk-container-id-37 div.sk-parallel-item:only-child::after {width: 0;}#sk-container-id-37 div.sk-dashed-wrapped {border: 1px dashed gray;margin: 0 0.4em 0.5em 0.4em;box-sizing: border-box;padding-bottom: 0.4em;background-color: white;}#sk-container-id-37 div.sk-label label {font-family: monospace;font-weight: bold;display: inline-block;line-height: 1.2em;}#sk-container-id-37 div.sk-label-container {text-align: center;}#sk-container-id-37 div.sk-container {/* jupyter's `normalize.less` sets `[hidden] { display: none; }` but bootstrap.min.css set `[hidden] { display: none !important; }` so we also need the `!important` here to be able to override the default hidden behavior on the sphinx rendered scikit-learn.org. See: https://github.com/scikit-learn/scikit-learn/issues/21755 */display: inline-block !important;position: relative;}#sk-container-id-37 div.sk-text-repr-fallback {display: none;}</style><div id=\"sk-container-id-37\" class=\"sk-top-container\"><div class=\"sk-text-repr-fallback\"><pre>KNeighborsClassifier(n_neighbors=8)</pre><b>In a Jupyter environment, please rerun this cell to show the HTML representation or trust the notebook. <br />On GitHub, the HTML representation is unable to render, please try loading this page with nbviewer.org.</b></div><div class=\"sk-container\" hidden><div class=\"sk-item\"><div class=\"sk-estimator sk-toggleable\"><input class=\"sk-toggleable__control sk-hidden--visually\" id=\"sk-estimator-id-37\" type=\"checkbox\" checked><label for=\"sk-estimator-id-37\" class=\"sk-toggleable__label sk-toggleable__label-arrow\">KNeighborsClassifier</label><div class=\"sk-toggleable__content\"><pre>KNeighborsClassifier(n_neighbors=8)</pre></div></div></div></div></div>"
      ],
      "text/plain": [
       "KNeighborsClassifier(n_neighbors=8)"
      ]
     },
     "execution_count": 445,
     "metadata": {},
     "output_type": "execute_result"
    }
   ],
   "source": [
    "# Do the model with n_neighbors 8\n",
    "knn = KNeighborsClassifier(n_neighbors= 8)\n",
    "knn.fit(X_train2, y_train2)"
   ]
  },
  {
   "cell_type": "code",
   "execution_count": 446,
   "id": "33190ab8",
   "metadata": {},
   "outputs": [],
   "source": [
    "y_pred_train = knn.predict(X_train2)\n",
    "y_pred_test = knn.predict(X_test2)"
   ]
  },
  {
   "cell_type": "code",
   "execution_count": 447,
   "id": "6933caab",
   "metadata": {},
   "outputs": [
    {
     "name": "stdout",
     "output_type": "stream",
     "text": [
      "Predictions are 97.1% accurate on the training set.\n",
      "Predictions are 96.4% accurate on the test set.\n"
     ]
    },
    {
     "data": {
      "text/html": [
       "<div>\n",
       "<style scoped>\n",
       "    .dataframe tbody tr th:only-of-type {\n",
       "        vertical-align: middle;\n",
       "    }\n",
       "\n",
       "    .dataframe tbody tr th {\n",
       "        vertical-align: top;\n",
       "    }\n",
       "\n",
       "    .dataframe thead th {\n",
       "        text-align: right;\n",
       "    }\n",
       "</style>\n",
       "<table border=\"1\" class=\"dataframe\">\n",
       "  <thead>\n",
       "    <tr style=\"text-align: right;\">\n",
       "      <th></th>\n",
       "      <th>Predicted No Attack</th>\n",
       "      <th>Predicted Attack</th>\n",
       "    </tr>\n",
       "  </thead>\n",
       "  <tbody>\n",
       "    <tr>\n",
       "      <th>Actual No Attack</th>\n",
       "      <td>437</td>\n",
       "      <td>15</td>\n",
       "    </tr>\n",
       "    <tr>\n",
       "      <th>Actual Attack</th>\n",
       "      <td>28</td>\n",
       "      <td>703</td>\n",
       "    </tr>\n",
       "  </tbody>\n",
       "</table>\n",
       "</div>"
      ],
      "text/plain": [
       "                  Predicted No Attack  Predicted Attack\n",
       "Actual No Attack                  437                15\n",
       "Actual Attack                      28               703"
      ]
     },
     "metadata": {},
     "output_type": "display_data"
    },
    {
     "name": "stdout",
     "output_type": "stream",
     "text": [
      "\n",
      "\n",
      "Inform of Classification:\n",
      "              precision    recall  f1-score   support\n",
      "\n",
      "      Attack       0.94      0.97      0.95       452\n",
      "   No Attack       0.98      0.96      0.97       731\n",
      "\n",
      "    accuracy                           0.96      1183\n",
      "   macro avg       0.96      0.96      0.96      1183\n",
      "weighted avg       0.96      0.96      0.96      1183\n",
      "\n"
     ]
    }
   ],
   "source": [
    "accuracy_train = accuracy_score(y_train, y_pred_train)\n",
    "print('Predictions are {:3.1f}% accurate on the training set.'.format(100*accuracy_train))\n",
    "accuracy_test = accuracy_score(y_test, y_pred_test)\n",
    "print('Predictions are {:3.1f}% accurate on the test set.'.format(100*accuracy_test))\n",
    "\n",
    "# Create matrix \n",
    "cm = confusion_matrix(y_test, y_pred_test)\n",
    "y_pred_test\n",
    "\n",
    "# Create a dataframe for the confusion matrix\n",
    "cm_df = pd.DataFrame(cm, \n",
    "        index = [\"Actual No Attack\", \"Actual Attack\"], \n",
    "        columns= [\"Predicted No Attack\", \"Predicted Attack\"])\n",
    "\n",
    "display(cm_df)\n",
    "\n",
    "\n",
    "report_knn = classification_report(y_test, y_pred_test)\n",
    "print('\\n\\nInform of Classification:')\n",
    "print(report_knn)"
   ]
  },
  {
   "cell_type": "markdown",
   "id": "6e796efc",
   "metadata": {},
   "source": [
    "For the second dataset we can see that the sensitivity/recall: is 0.92 which is a good recall but we're going to compare to the first dataset and check if the model can improve with more features."
   ]
  },
  {
   "cell_type": "code",
   "execution_count": 448,
   "id": "79d33f6b",
   "metadata": {},
   "outputs": [
    {
     "data": {
      "image/png": "[encoded data removed]",
      "text/plain": [
       "<Figure size 640x480 with 1 Axes>"
      ]
     },
     "metadata": {},
     "output_type": "display_data"
    }
   ],
   "source": [
    "getK(X,y)"
   ]
  },
  {
   "cell_type": "markdown",
   "id": "b3a10b11",
   "metadata": {},
   "source": [
    "In the graph above, we see the most optimal K-values to use, in this case they can be 3 & 4. We will implement this value and train the model with both K_values to see which one is best.\n"
   ]
  },
  {
   "cell_type": "markdown",
   "id": "d7a5c97f",
   "metadata": {},
   "source": [
    "## Training the model with n_neighbors = 4 and first dataset"
   ]
  },
  {
   "cell_type": "code",
   "execution_count": 449,
   "id": "9bb7d2bb",
   "metadata": {},
   "outputs": [
    {
     "data": {
      "text/html": [
       "<style>#sk-container-id-38 {color: black;}#sk-container-id-38 pre{padding: 0;}#sk-container-id-38 div.sk-toggleable {background-color: white;}#sk-container-id-38 label.sk-toggleable__label {cursor: pointer;display: block;width: 100%;margin-bottom: 0;padding: 0.3em;box-sizing: border-box;text-align: center;}#sk-container-id-38 label.sk-toggleable__label-arrow:before {content: \"▸\";float: left;margin-right: 0.25em;color: #696969;}#sk-container-id-38 label.sk-toggleable__label-arrow:hover:before {color: black;}#sk-container-id-38 div.sk-estimator:hover label.sk-toggleable__label-arrow:before {color: black;}#sk-container-id-38 div.sk-toggleable__content {max-height: 0;max-width: 0;overflow: hidden;text-align: left;background-color: #f0f8ff;}#sk-container-id-38 div.sk-toggleable__content pre {margin: 0.2em;color: black;border-radius: 0.25em;background-color: #f0f8ff;}#sk-container-id-38 input.sk-toggleable__control:checked~div.sk-toggleable__content {max-height: 200px;max-width: 100%;overflow: auto;}#sk-container-id-38 input.sk-toggleable__control:checked~label.sk-toggleable__label-arrow:before {content: \"▾\";}#sk-container-id-38 div.sk-estimator input.sk-toggleable__control:checked~label.sk-toggleable__label {background-color: #d4ebff;}#sk-container-id-38 div.sk-label input.sk-toggleable__control:checked~label.sk-toggleable__label {background-color: #d4ebff;}#sk-container-id-38 input.sk-hidden--visually {border: 0;clip: rect(1px 1px 1px 1px);clip: rect(1px, 1px, 1px, 1px);height: 1px;margin: -1px;overflow: hidden;padding: 0;position: absolute;width: 1px;}#sk-container-id-38 div.sk-estimator {font-family: monospace;background-color: #f0f8ff;border: 1px dotted black;border-radius: 0.25em;box-sizing: border-box;margin-bottom: 0.5em;}#sk-container-id-38 div.sk-estimator:hover {background-color: #d4ebff;}#sk-container-id-38 div.sk-parallel-item::after {content: \"\";width: 100%;border-bottom: 1px solid gray;flex-grow: 1;}#sk-container-id-38 div.sk-label:hover label.sk-toggleable__label {background-color: #d4ebff;}#sk-container-id-38 div.sk-serial::before {content: \"\";position: absolute;border-left: 1px solid gray;box-sizing: border-box;top: 0;bottom: 0;left: 50%;z-index: 0;}#sk-container-id-38 div.sk-serial {display: flex;flex-direction: column;align-items: center;background-color: white;padding-right: 0.2em;padding-left: 0.2em;position: relative;}#sk-container-id-38 div.sk-item {position: relative;z-index: 1;}#sk-container-id-38 div.sk-parallel {display: flex;align-items: stretch;justify-content: center;background-color: white;position: relative;}#sk-container-id-38 div.sk-item::before, #sk-container-id-38 div.sk-parallel-item::before {content: \"\";position: absolute;border-left: 1px solid gray;box-sizing: border-box;top: 0;bottom: 0;left: 50%;z-index: -1;}#sk-container-id-38 div.sk-parallel-item {display: flex;flex-direction: column;z-index: 1;position: relative;background-color: white;}#sk-container-id-38 div.sk-parallel-item:first-child::after {align-self: flex-end;width: 50%;}#sk-container-id-38 div.sk-parallel-item:last-child::after {align-self: flex-start;width: 50%;}#sk-container-id-38 div.sk-parallel-item:only-child::after {width: 0;}#sk-container-id-38 div.sk-dashed-wrapped {border: 1px dashed gray;margin: 0 0.4em 0.5em 0.4em;box-sizing: border-box;padding-bottom: 0.4em;background-color: white;}#sk-container-id-38 div.sk-label label {font-family: monospace;font-weight: bold;display: inline-block;line-height: 1.2em;}#sk-container-id-38 div.sk-label-container {text-align: center;}#sk-container-id-38 div.sk-container {/* jupyter's `normalize.less` sets `[hidden] { display: none; }` but bootstrap.min.css set `[hidden] { display: none !important; }` so we also need the `!important` here to be able to override the default hidden behavior on the sphinx rendered scikit-learn.org. See: https://github.com/scikit-learn/scikit-learn/issues/21755 */display: inline-block !important;position: relative;}#sk-container-id-38 div.sk-text-repr-fallback {display: none;}</style><div id=\"sk-container-id-38\" class=\"sk-top-container\"><div class=\"sk-text-repr-fallback\"><pre>KNeighborsClassifier(n_neighbors=4)</pre><b>In a Jupyter environment, please rerun this cell to show the HTML representation or trust the notebook. <br />On GitHub, the HTML representation is unable to render, please try loading this page with nbviewer.org.</b></div><div class=\"sk-container\" hidden><div class=\"sk-item\"><div class=\"sk-estimator sk-toggleable\"><input class=\"sk-toggleable__control sk-hidden--visually\" id=\"sk-estimator-id-38\" type=\"checkbox\" checked><label for=\"sk-estimator-id-38\" class=\"sk-toggleable__label sk-toggleable__label-arrow\">KNeighborsClassifier</label><div class=\"sk-toggleable__content\"><pre>KNeighborsClassifier(n_neighbors=4)</pre></div></div></div></div></div>"
      ],
      "text/plain": [
       "KNeighborsClassifier(n_neighbors=4)"
      ]
     },
     "execution_count": 449,
     "metadata": {},
     "output_type": "execute_result"
    }
   ],
   "source": [
    "knn = KNeighborsClassifier(n_neighbors= 4)\n",
    "knn.fit(X_train, y_train)"
   ]
  },
  {
   "cell_type": "code",
   "execution_count": 450,
   "id": "f165bd6a",
   "metadata": {},
   "outputs": [],
   "source": [
    "y_pred_train = knn.predict(X_train)\n",
    "y_pred_test = knn.predict(X_test)"
   ]
  },
  {
   "cell_type": "code",
   "execution_count": 451,
   "id": "d0875364",
   "metadata": {},
   "outputs": [
    {
     "name": "stdout",
     "output_type": "stream",
     "text": [
      "Predictions are 98.7% accurate on the training set.\n",
      "Predictions are 97.6% accurate on the test set.\n"
     ]
    },
    {
     "data": {
      "text/html": [
       "<div>\n",
       "<style scoped>\n",
       "    .dataframe tbody tr th:only-of-type {\n",
       "        vertical-align: middle;\n",
       "    }\n",
       "\n",
       "    .dataframe tbody tr th {\n",
       "        vertical-align: top;\n",
       "    }\n",
       "\n",
       "    .dataframe thead th {\n",
       "        text-align: right;\n",
       "    }\n",
       "</style>\n",
       "<table border=\"1\" class=\"dataframe\">\n",
       "  <thead>\n",
       "    <tr style=\"text-align: right;\">\n",
       "      <th></th>\n",
       "      <th>Predicted No Attack</th>\n",
       "      <th>Predicted Attack</th>\n",
       "    </tr>\n",
       "  </thead>\n",
       "  <tbody>\n",
       "    <tr>\n",
       "      <th>Actual No Attack</th>\n",
       "      <td>447</td>\n",
       "      <td>5</td>\n",
       "    </tr>\n",
       "    <tr>\n",
       "      <th>Actual Attack</th>\n",
       "      <td>23</td>\n",
       "      <td>708</td>\n",
       "    </tr>\n",
       "  </tbody>\n",
       "</table>\n",
       "</div>"
      ],
      "text/plain": [
       "                  Predicted No Attack  Predicted Attack\n",
       "Actual No Attack                  447                 5\n",
       "Actual Attack                      23               708"
      ]
     },
     "metadata": {},
     "output_type": "display_data"
    },
    {
     "name": "stdout",
     "output_type": "stream",
     "text": [
      "\n",
      "\n",
      "Inform of Classification:\n",
      "              precision    recall  f1-score   support\n",
      "\n",
      "      Attack       0.95      0.99      0.97       452\n",
      "   No Attack       0.99      0.97      0.98       731\n",
      "\n",
      "    accuracy                           0.98      1183\n",
      "   macro avg       0.97      0.98      0.98      1183\n",
      "weighted avg       0.98      0.98      0.98      1183\n",
      "\n"
     ]
    }
   ],
   "source": [
    "accuracy_train = accuracy_score(y_train, y_pred_train)\n",
    "print('Predictions are {:3.1f}% accurate on the training set.'.format(100*accuracy_train))\n",
    "accuracy_test = accuracy_score(y_test, y_pred_test)\n",
    "print('Predictions are {:3.1f}% accurate on the test set.'.format(100*accuracy_test))\n",
    "\n",
    "# Create matrix \n",
    "cm = confusion_matrix(y_test, y_pred_test)\n",
    "y_pred_test\n",
    "\n",
    "# Create a dataframe for the confusion matrix\n",
    "cm_df = pd.DataFrame(cm, \n",
    "        index = [\"Actual No Attack\", \"Actual Attack\"], \n",
    "        columns= [\"Predicted No Attack\", \"Predicted Attack\"])\n",
    "\n",
    "display(cm_df)\n",
    "\n",
    "report_knn = classification_report(y_test, y_pred_test)\n",
    "\n",
    "print('\\n\\nInform of Classification:')\n",
    "print(report_knn)"
   ]
  },
  {
   "cell_type": "markdown",
   "id": "9394898a",
   "metadata": {},
   "source": [
    "## Training the model with n_neighbors = 3 and first dataset"
   ]
  },
  {
   "cell_type": "code",
   "execution_count": 452,
   "id": "868fc81e",
   "metadata": {},
   "outputs": [
    {
     "data": {
      "text/html": [
       "<style>#sk-container-id-39 {color: black;}#sk-container-id-39 pre{padding: 0;}#sk-container-id-39 div.sk-toggleable {background-color: white;}#sk-container-id-39 label.sk-toggleable__label {cursor: pointer;display: block;width: 100%;margin-bottom: 0;padding: 0.3em;box-sizing: border-box;text-align: center;}#sk-container-id-39 label.sk-toggleable__label-arrow:before {content: \"▸\";float: left;margin-right: 0.25em;color: #696969;}#sk-container-id-39 label.sk-toggleable__label-arrow:hover:before {color: black;}#sk-container-id-39 div.sk-estimator:hover label.sk-toggleable__label-arrow:before {color: black;}#sk-container-id-39 div.sk-toggleable__content {max-height: 0;max-width: 0;overflow: hidden;text-align: left;background-color: #f0f8ff;}#sk-container-id-39 div.sk-toggleable__content pre {margin: 0.2em;color: black;border-radius: 0.25em;background-color: #f0f8ff;}#sk-container-id-39 input.sk-toggleable__control:checked~div.sk-toggleable__content {max-height: 200px;max-width: 100%;overflow: auto;}#sk-container-id-39 input.sk-toggleable__control:checked~label.sk-toggleable__label-arrow:before {content: \"▾\";}#sk-container-id-39 div.sk-estimator input.sk-toggleable__control:checked~label.sk-toggleable__label {background-color: #d4ebff;}#sk-container-id-39 div.sk-label input.sk-toggleable__control:checked~label.sk-toggleable__label {background-color: #d4ebff;}#sk-container-id-39 input.sk-hidden--visually {border: 0;clip: rect(1px 1px 1px 1px);clip: rect(1px, 1px, 1px, 1px);height: 1px;margin: -1px;overflow: hidden;padding: 0;position: absolute;width: 1px;}#sk-container-id-39 div.sk-estimator {font-family: monospace;background-color: #f0f8ff;border: 1px dotted black;border-radius: 0.25em;box-sizing: border-box;margin-bottom: 0.5em;}#sk-container-id-39 div.sk-estimator:hover {background-color: #d4ebff;}#sk-container-id-39 div.sk-parallel-item::after {content: \"\";width: 100%;border-bottom: 1px solid gray;flex-grow: 1;}#sk-container-id-39 div.sk-label:hover label.sk-toggleable__label {background-color: #d4ebff;}#sk-container-id-39 div.sk-serial::before {content: \"\";position: absolute;border-left: 1px solid gray;box-sizing: border-box;top: 0;bottom: 0;left: 50%;z-index: 0;}#sk-container-id-39 div.sk-serial {display: flex;flex-direction: column;align-items: center;background-color: white;padding-right: 0.2em;padding-left: 0.2em;position: relative;}#sk-container-id-39 div.sk-item {position: relative;z-index: 1;}#sk-container-id-39 div.sk-parallel {display: flex;align-items: stretch;justify-content: center;background-color: white;position: relative;}#sk-container-id-39 div.sk-item::before, #sk-container-id-39 div.sk-parallel-item::before {content: \"\";position: absolute;border-left: 1px solid gray;box-sizing: border-box;top: 0;bottom: 0;left: 50%;z-index: -1;}#sk-container-id-39 div.sk-parallel-item {display: flex;flex-direction: column;z-index: 1;position: relative;background-color: white;}#sk-container-id-39 div.sk-parallel-item:first-child::after {align-self: flex-end;width: 50%;}#sk-container-id-39 div.sk-parallel-item:last-child::after {align-self: flex-start;width: 50%;}#sk-container-id-39 div.sk-parallel-item:only-child::after {width: 0;}#sk-container-id-39 div.sk-dashed-wrapped {border: 1px dashed gray;margin: 0 0.4em 0.5em 0.4em;box-sizing: border-box;padding-bottom: 0.4em;background-color: white;}#sk-container-id-39 div.sk-label label {font-family: monospace;font-weight: bold;display: inline-block;line-height: 1.2em;}#sk-container-id-39 div.sk-label-container {text-align: center;}#sk-container-id-39 div.sk-container {/* jupyter's `normalize.less` sets `[hidden] { display: none; }` but bootstrap.min.css set `[hidden] { display: none !important; }` so we also need the `!important` here to be able to override the default hidden behavior on the sphinx rendered scikit-learn.org. See: https://github.com/scikit-learn/scikit-learn/issues/21755 */display: inline-block !important;position: relative;}#sk-container-id-39 div.sk-text-repr-fallback {display: none;}</style><div id=\"sk-container-id-39\" class=\"sk-top-container\"><div class=\"sk-text-repr-fallback\"><pre>KNeighborsClassifier(n_neighbors=3)</pre><b>In a Jupyter environment, please rerun this cell to show the HTML representation or trust the notebook. <br />On GitHub, the HTML representation is unable to render, please try loading this page with nbviewer.org.</b></div><div class=\"sk-container\" hidden><div class=\"sk-item\"><div class=\"sk-estimator sk-toggleable\"><input class=\"sk-toggleable__control sk-hidden--visually\" id=\"sk-estimator-id-39\" type=\"checkbox\" checked><label for=\"sk-estimator-id-39\" class=\"sk-toggleable__label sk-toggleable__label-arrow\">KNeighborsClassifier</label><div class=\"sk-toggleable__content\"><pre>KNeighborsClassifier(n_neighbors=3)</pre></div></div></div></div></div>"
      ],
      "text/plain": [
       "KNeighborsClassifier(n_neighbors=3)"
      ]
     },
     "execution_count": 452,
     "metadata": {},
     "output_type": "execute_result"
    }
   ],
   "source": [
    "knn = KNeighborsClassifier(n_neighbors= 3)\n",
    "knn.fit(X_train, y_train)"
   ]
  },
  {
   "cell_type": "code",
   "execution_count": 453,
   "id": "902a151c",
   "metadata": {},
   "outputs": [],
   "source": [
    "# Measure memory usage\n",
    "tracemalloc.start()\n",
    "\n",
    "# Record the start time\n",
    "start_time = time.time()\n",
    "\n",
    "# Train or model with our first dataset\n",
    "knn = KNeighborsClassifier(n_neighbors= 3)\n",
    "knn.fit(X_train, y_train)\n",
    "\n",
    "# Calculate the execution time\n",
    "end_time = time.time()\n",
    "\n",
    "execution_time = end_time - start_time\n",
    "\n",
    "current, peak = tracemalloc.get_traced_memory()\n",
    "memory_usage[1] = current/ 10**3\n",
    "tracemalloc.stop()\n",
    "\n",
    "# Print or use the execution time as needed\n",
    "computation_time[1] = execution_time"
   ]
  },
  {
   "cell_type": "code",
   "execution_count": 454,
   "id": "85291521",
   "metadata": {},
   "outputs": [],
   "source": [
    "y_pred_train = knn.predict(X_train)\n",
    "y_pred_test = knn.predict(X_test)"
   ]
  },
  {
   "cell_type": "code",
   "execution_count": 455,
   "id": "35f9700d",
   "metadata": {},
   "outputs": [
    {
     "name": "stdout",
     "output_type": "stream",
     "text": [
      "Predictions are 99.1% accurate on the training set.\n",
      "Predictions are 97.9% accurate on the test set.\n"
     ]
    },
    {
     "data": {
      "text/html": [
       "<div>\n",
       "<style scoped>\n",
       "    .dataframe tbody tr th:only-of-type {\n",
       "        vertical-align: middle;\n",
       "    }\n",
       "\n",
       "    .dataframe tbody tr th {\n",
       "        vertical-align: top;\n",
       "    }\n",
       "\n",
       "    .dataframe thead th {\n",
       "        text-align: right;\n",
       "    }\n",
       "</style>\n",
       "<table border=\"1\" class=\"dataframe\">\n",
       "  <thead>\n",
       "    <tr style=\"text-align: right;\">\n",
       "      <th></th>\n",
       "      <th>Predicted No Attack</th>\n",
       "      <th>Predicted Attack</th>\n",
       "    </tr>\n",
       "  </thead>\n",
       "  <tbody>\n",
       "    <tr>\n",
       "      <th>Actual No Attack</th>\n",
       "      <td>445</td>\n",
       "      <td>7</td>\n",
       "    </tr>\n",
       "    <tr>\n",
       "      <th>Actual Attack</th>\n",
       "      <td>18</td>\n",
       "      <td>713</td>\n",
       "    </tr>\n",
       "  </tbody>\n",
       "</table>\n",
       "</div>"
      ],
      "text/plain": [
       "                  Predicted No Attack  Predicted Attack\n",
       "Actual No Attack                  445                 7\n",
       "Actual Attack                      18               713"
      ]
     },
     "metadata": {},
     "output_type": "display_data"
    },
    {
     "name": "stdout",
     "output_type": "stream",
     "text": [
      "\n",
      "\n",
      "Inform of Classification:\n",
      "              precision    recall  f1-score   support\n",
      "\n",
      "      Attack       0.96      0.98      0.97       452\n",
      "   No Attack       0.99      0.98      0.98       731\n",
      "\n",
      "    accuracy                           0.98      1183\n",
      "   macro avg       0.98      0.98      0.98      1183\n",
      "weighted avg       0.98      0.98      0.98      1183\n",
      "\n"
     ]
    }
   ],
   "source": [
    "accuracy_train = accuracy_score(y_train, y_pred_train)\n",
    "print('Predictions are {:3.1f}% accurate on the training set.'.format(100*accuracy_train))\n",
    "accuracy_test = accuracy_score(y_test, y_pred_test)\n",
    "print('Predictions are {:3.1f}% accurate on the test set.'.format(100*accuracy_test))\n",
    "\n",
    "# Create matrix \n",
    "cm = confusion_matrix(y_test, y_pred_test)\n",
    "\n",
    "\n",
    "# Create a dataframe for the confusion matrix\n",
    "cm_df_knn = pd.DataFrame(cm, \n",
    "        index = [\"Actual No Attack\", \"Actual Attack\"], \n",
    "        columns= [\"Predicted No Attack\", \"Predicted Attack\"])\n",
    "\n",
    "display(cm_df_knn)\n",
    "\n",
    "report_knn = classification_report(y_test, y_pred_test)\n",
    "\n",
    "models_name[1] = \"Kneighbors\"\n",
    "accuracy_model[1] = ([\"{:.2f}\".format(100*accuracy_train), \"{:.2f}\".format(100*accuracy_test)])\n",
    "\n",
    "print('\\n\\nInform of Classification:')\n",
    "print(report_knn)"
   ]
  },
  {
   "cell_type": "markdown",
   "id": "470ad606",
   "metadata": {},
   "source": [
    "## Conclusion from KNeighbors Classifier Model\n",
    "\n",
    "Evaluating different number of neighbors following the best K-values for accuracy and also the two dataset, we choose to use the model with n_neighbors= 3 and the first dataset, since the predictions are higher and as well it predict more positive attacks compared to the other model where n_neighbors = 4. \n",
    "\n",
    "It is appreciated too the differents time execution between the models with the first dataset containing X all the features and the second dataset only containing Length and Delta. For the second dataset the code will be compute less times.\n",
    "\n",
    "We will use the model of n=3 neighboors for this algorithm, since it predicts more attack as when is no attacks and is better to have false positives since it doesn't really presents an attack.\n",
    "\n",
    "- Out of **796** Actual Attacks , **31** were predicted to be no attack, which we call false negative (FN).\n",
    "- Out of **796** Actual attacks, **765** were predicted to be Attacks, which we call true positive (TP).\n"
   ]
  },
  {
   "cell_type": "markdown",
   "id": "71b37256",
   "metadata": {},
   "source": [
    "# Multivariate Logistic Regression Model  \n",
    "This a type of analysis that can help predict results when working with multiple variables.\n",
    "This logistic regression is called multivariate due to the fact that we have more than one independent variable -> multiple predictor variables (features). \n",
    "\n",
    "The formula for the probability of an event occurring in multivariate logistic regression can be expressed as follows:\n",
    "\n",
    "Probability of Event (Y=1):\n",
    "\n",
    "$$ P(Y=1) = \\frac{1 }{(1 + e^{(-z)})} $$\n",
    "\n",
    "- P(Y=1) is the probability of the event occurring.\n",
    "- e is the base of the natural logarithm \n",
    "- z is the linear combination of predictor variables and their respective coefficients:\n",
    "\n",
    "For z :\n",
    "$$ z = β₀ + β₁X₁ + β₂X₂ + ... + βn*Xn $$\n",
    "\n",
    "- β₀ is the intercept or bias term.\n",
    "- β₁, β₂, ..., βn are the coefficients associated with each predictor variable X₁, X₂, ..., Xn.\n",
    "- X₁, X₂, ..., Xn are the values of the predictor variables.\n"
   ]
  },
  {
   "cell_type": "markdown",
   "id": "04ef527c",
   "metadata": {},
   "source": [
    "## Evaluate the model with second dataset containing two features being Delta and Length"
   ]
  },
  {
   "cell_type": "code",
   "execution_count": 456,
   "id": "4dee2fa9",
   "metadata": {},
   "outputs": [],
   "source": [
    "from sklearn.linear_model import LogisticRegression"
   ]
  },
  {
   "cell_type": "code",
   "execution_count": 457,
   "id": "d29ec5fd",
   "metadata": {},
   "outputs": [
    {
     "data": {
      "text/html": [
       "<style>#sk-container-id-40 {color: black;}#sk-container-id-40 pre{padding: 0;}#sk-container-id-40 div.sk-toggleable {background-color: white;}#sk-container-id-40 label.sk-toggleable__label {cursor: pointer;display: block;width: 100%;margin-bottom: 0;padding: 0.3em;box-sizing: border-box;text-align: center;}#sk-container-id-40 label.sk-toggleable__label-arrow:before {content: \"▸\";float: left;margin-right: 0.25em;color: #696969;}#sk-container-id-40 label.sk-toggleable__label-arrow:hover:before {color: black;}#sk-container-id-40 div.sk-estimator:hover label.sk-toggleable__label-arrow:before {color: black;}#sk-container-id-40 div.sk-toggleable__content {max-height: 0;max-width: 0;overflow: hidden;text-align: left;background-color: #f0f8ff;}#sk-container-id-40 div.sk-toggleable__content pre {margin: 0.2em;color: black;border-radius: 0.25em;background-color: #f0f8ff;}#sk-container-id-40 input.sk-toggleable__control:checked~div.sk-toggleable__content {max-height: 200px;max-width: 100%;overflow: auto;}#sk-container-id-40 input.sk-toggleable__control:checked~label.sk-toggleable__label-arrow:before {content: \"▾\";}#sk-container-id-40 div.sk-estimator input.sk-toggleable__control:checked~label.sk-toggleable__label {background-color: #d4ebff;}#sk-container-id-40 div.sk-label input.sk-toggleable__control:checked~label.sk-toggleable__label {background-color: #d4ebff;}#sk-container-id-40 input.sk-hidden--visually {border: 0;clip: rect(1px 1px 1px 1px);clip: rect(1px, 1px, 1px, 1px);height: 1px;margin: -1px;overflow: hidden;padding: 0;position: absolute;width: 1px;}#sk-container-id-40 div.sk-estimator {font-family: monospace;background-color: #f0f8ff;border: 1px dotted black;border-radius: 0.25em;box-sizing: border-box;margin-bottom: 0.5em;}#sk-container-id-40 div.sk-estimator:hover {background-color: #d4ebff;}#sk-container-id-40 div.sk-parallel-item::after {content: \"\";width: 100%;border-bottom: 1px solid gray;flex-grow: 1;}#sk-container-id-40 div.sk-label:hover label.sk-toggleable__label {background-color: #d4ebff;}#sk-container-id-40 div.sk-serial::before {content: \"\";position: absolute;border-left: 1px solid gray;box-sizing: border-box;top: 0;bottom: 0;left: 50%;z-index: 0;}#sk-container-id-40 div.sk-serial {display: flex;flex-direction: column;align-items: center;background-color: white;padding-right: 0.2em;padding-left: 0.2em;position: relative;}#sk-container-id-40 div.sk-item {position: relative;z-index: 1;}#sk-container-id-40 div.sk-parallel {display: flex;align-items: stretch;justify-content: center;background-color: white;position: relative;}#sk-container-id-40 div.sk-item::before, #sk-container-id-40 div.sk-parallel-item::before {content: \"\";position: absolute;border-left: 1px solid gray;box-sizing: border-box;top: 0;bottom: 0;left: 50%;z-index: -1;}#sk-container-id-40 div.sk-parallel-item {display: flex;flex-direction: column;z-index: 1;position: relative;background-color: white;}#sk-container-id-40 div.sk-parallel-item:first-child::after {align-self: flex-end;width: 50%;}#sk-container-id-40 div.sk-parallel-item:last-child::after {align-self: flex-start;width: 50%;}#sk-container-id-40 div.sk-parallel-item:only-child::after {width: 0;}#sk-container-id-40 div.sk-dashed-wrapped {border: 1px dashed gray;margin: 0 0.4em 0.5em 0.4em;box-sizing: border-box;padding-bottom: 0.4em;background-color: white;}#sk-container-id-40 div.sk-label label {font-family: monospace;font-weight: bold;display: inline-block;line-height: 1.2em;}#sk-container-id-40 div.sk-label-container {text-align: center;}#sk-container-id-40 div.sk-container {/* jupyter's `normalize.less` sets `[hidden] { display: none; }` but bootstrap.min.css set `[hidden] { display: none !important; }` so we also need the `!important` here to be able to override the default hidden behavior on the sphinx rendered scikit-learn.org. See: https://github.com/scikit-learn/scikit-learn/issues/21755 */display: inline-block !important;position: relative;}#sk-container-id-40 div.sk-text-repr-fallback {display: none;}</style><div id=\"sk-container-id-40\" class=\"sk-top-container\"><div class=\"sk-text-repr-fallback\"><pre>LogisticRegression()</pre><b>In a Jupyter environment, please rerun this cell to show the HTML representation or trust the notebook. <br />On GitHub, the HTML representation is unable to render, please try loading this page with nbviewer.org.</b></div><div class=\"sk-container\" hidden><div class=\"sk-item\"><div class=\"sk-estimator sk-toggleable\"><input class=\"sk-toggleable__control sk-hidden--visually\" id=\"sk-estimator-id-40\" type=\"checkbox\" checked><label for=\"sk-estimator-id-40\" class=\"sk-toggleable__label sk-toggleable__label-arrow\">LogisticRegression</label><div class=\"sk-toggleable__content\"><pre>LogisticRegression()</pre></div></div></div></div></div>"
      ],
      "text/plain": [
       "LogisticRegression()"
      ]
     },
     "execution_count": 457,
     "metadata": {},
     "output_type": "execute_result"
    }
   ],
   "source": [
    "modelLR = LogisticRegression()\n",
    "modelLR.fit(X_train2, y_train2)"
   ]
  },
  {
   "cell_type": "code",
   "execution_count": 458,
   "id": "84677e1d",
   "metadata": {},
   "outputs": [],
   "source": [
    "# Predict the labels for the train\n",
    "y_pred_train = modelLR.predict(X_test2)\n",
    "y_pred_test = modelLR.predict(X_test2)"
   ]
  },
  {
   "cell_type": "code",
   "execution_count": 459,
   "id": "7a13d886",
   "metadata": {},
   "outputs": [
    {
     "name": "stdout",
     "output_type": "stream",
     "text": [
      "Predictions are 99.1% accurate on the training set.\n",
      "Predictions are 97.9% accurate on the test set.\n"
     ]
    },
    {
     "data": {
      "text/html": [
       "<div>\n",
       "<style scoped>\n",
       "    .dataframe tbody tr th:only-of-type {\n",
       "        vertical-align: middle;\n",
       "    }\n",
       "\n",
       "    .dataframe tbody tr th {\n",
       "        vertical-align: top;\n",
       "    }\n",
       "\n",
       "    .dataframe thead th {\n",
       "        text-align: right;\n",
       "    }\n",
       "</style>\n",
       "<table border=\"1\" class=\"dataframe\">\n",
       "  <thead>\n",
       "    <tr style=\"text-align: right;\">\n",
       "      <th></th>\n",
       "      <th>Predicted No Attack</th>\n",
       "      <th>Predicted Attack</th>\n",
       "    </tr>\n",
       "  </thead>\n",
       "  <tbody>\n",
       "    <tr>\n",
       "      <th>Actual No Attack</th>\n",
       "      <td>451</td>\n",
       "      <td>1</td>\n",
       "    </tr>\n",
       "    <tr>\n",
       "      <th>Actual Attack</th>\n",
       "      <td>256</td>\n",
       "      <td>475</td>\n",
       "    </tr>\n",
       "  </tbody>\n",
       "</table>\n",
       "</div>"
      ],
      "text/plain": [
       "                  Predicted No Attack  Predicted Attack\n",
       "Actual No Attack                  451                 1\n",
       "Actual Attack                     256               475"
      ]
     },
     "metadata": {},
     "output_type": "display_data"
    },
    {
     "name": "stdout",
     "output_type": "stream",
     "text": [
      "\n",
      "\n",
      "Inform of Classification:\n",
      "              precision    recall  f1-score   support\n",
      "\n",
      "      Attack       0.64      1.00      0.78       452\n",
      "   No Attack       1.00      0.65      0.79       731\n",
      "\n",
      "    accuracy                           0.78      1183\n",
      "   macro avg       0.82      0.82      0.78      1183\n",
      "weighted avg       0.86      0.78      0.78      1183\n",
      "\n"
     ]
    }
   ],
   "source": [
    "#accuracy_train = accuracy_score(y_train, y_pred_train)\n",
    "print('Predictions are {:3.1f}% accurate on the training set.'.format(100*accuracy_train))\n",
    "#accuracy_test = accuracy_score(y_test, y_pred_test)\n",
    "print('Predictions are {:3.1f}% accurate on the test set.'.format(100*accuracy_test))\n",
    "# Create matrix \n",
    "cm = confusion_matrix(y_test, y_pred_test)\n",
    "\n",
    "# Create matrix \n",
    "cm = confusion_matrix(y_test, y_pred_test)\n",
    "\n",
    "\n",
    "# Create a dataframe for the confusion matrix\n",
    "cm_df = pd.DataFrame(cm, \n",
    "        index = [\"Actual No Attack\", \"Actual Attack\"], \n",
    "        columns= [\"Predicted No Attack\", \"Predicted Attack\"])\n",
    "\n",
    "display(cm_df)\n",
    "report_lr = classification_report(y_test, y_pred_test) \n",
    "print('\\n\\nInform of Classification:')\n",
    "print(report_lr)"
   ]
  },
  {
   "cell_type": "markdown",
   "id": "f4c3a217",
   "metadata": {},
   "source": [
    "The model's accuracy drops to 77.0% in the test set compared to 94.7% in the training set. The lower accuracy on the test set compared to the training set indicates that the model may be overfitting the training data or can it can have limitations in its ability to generalize to new, unseen data."
   ]
  },
  {
   "cell_type": "markdown",
   "id": "c47d1798",
   "metadata": {},
   "source": [
    "## Evaluate the model with first dataset "
   ]
  },
  {
   "cell_type": "code",
   "execution_count": 460,
   "id": "44ffc1ff",
   "metadata": {},
   "outputs": [],
   "source": [
    "# Measure memory usage\n",
    "tracemalloc.start()\n",
    "\n",
    "# Record the start time\n",
    "start_time = time.time()\n",
    "\n",
    "# Train or model with our first dataset\n",
    "modelLR = LogisticRegression()\n",
    "modelLR.fit(X_train, y_train)\n",
    "\n",
    "\n",
    "# Calculate the execution time\n",
    "end_time = time.time()\n",
    "\n",
    "\n",
    "execution_time = end_time - start_time\n",
    "\n",
    "current, peak = tracemalloc.get_traced_memory()\n",
    "memory_usage[2] = current/ 10**3\n",
    "tracemalloc.stop()\n",
    "\n",
    "# Print or use the execution time as needed\n",
    "computation_time[2] = execution_time"
   ]
  },
  {
   "cell_type": "code",
   "execution_count": 461,
   "id": "031c3151",
   "metadata": {},
   "outputs": [],
   "source": [
    "# Predict the labels for the train\n",
    "y_pred_train = modelLR.predict(X_test)\n",
    "y_pred_test = modelLR.predict(X_test)"
   ]
  },
  {
   "cell_type": "code",
   "execution_count": 462,
   "id": "7bf21a02",
   "metadata": {},
   "outputs": [
    {
     "name": "stdout",
     "output_type": "stream",
     "text": [
      "Predictions are 99.1% accurate on the training set.\n",
      "Predictions are 97.0% accurate on the test set.\n"
     ]
    },
    {
     "data": {
      "text/html": [
       "<div>\n",
       "<style scoped>\n",
       "    .dataframe tbody tr th:only-of-type {\n",
       "        vertical-align: middle;\n",
       "    }\n",
       "\n",
       "    .dataframe tbody tr th {\n",
       "        vertical-align: top;\n",
       "    }\n",
       "\n",
       "    .dataframe thead th {\n",
       "        text-align: right;\n",
       "    }\n",
       "</style>\n",
       "<table border=\"1\" class=\"dataframe\">\n",
       "  <thead>\n",
       "    <tr style=\"text-align: right;\">\n",
       "      <th></th>\n",
       "      <th>Predicted No Attack</th>\n",
       "      <th>Predicted Attack</th>\n",
       "    </tr>\n",
       "  </thead>\n",
       "  <tbody>\n",
       "    <tr>\n",
       "      <th>Actual No Attack</th>\n",
       "      <td>445</td>\n",
       "      <td>7</td>\n",
       "    </tr>\n",
       "    <tr>\n",
       "      <th>Actual Attack</th>\n",
       "      <td>29</td>\n",
       "      <td>702</td>\n",
       "    </tr>\n",
       "  </tbody>\n",
       "</table>\n",
       "</div>"
      ],
      "text/plain": [
       "                  Predicted No Attack  Predicted Attack\n",
       "Actual No Attack                  445                 7\n",
       "Actual Attack                      29               702"
      ]
     },
     "metadata": {},
     "output_type": "display_data"
    },
    {
     "name": "stdout",
     "output_type": "stream",
     "text": [
      "\n",
      "\n",
      "Inform of Classification:\n",
      "              precision    recall  f1-score   support\n",
      "\n",
      "      Attack       0.93      0.95      0.94       452\n",
      "   No Attack       0.97      0.95      0.96       731\n",
      "\n",
      "    accuracy                           0.95      1183\n",
      "   macro avg       0.95      0.95      0.95      1183\n",
      "weighted avg       0.95      0.95      0.95      1183\n",
      "\n"
     ]
    }
   ],
   "source": [
    "# Calculate precision\n",
    "accuracy_ = accuracy_score(y_test, y_pred_test)\n",
    "print('Predictions are {:3.1f}% accurate on the training set.'.format(100*accuracy_train))\n",
    "accuracy_test = accuracy_score(y_test, y_pred_test)\n",
    "print('Predictions are {:3.1f}% accurate on the test set.'.format(100*accuracy_test))\n",
    "\n",
    "# Create matrix \n",
    "cm = confusion_matrix(y_test, y_pred_test)\n",
    "\n",
    "\n",
    "# Create a dataframe for the confusion matrix\n",
    "cm_df = pd.DataFrame(cm, \n",
    "        index = [\"Actual No Attack\", \"Actual Attack\"], \n",
    "        columns= [\"Predicted No Attack\", \"Predicted Attack\"])\n",
    "\n",
    "display(cm_df)\n",
    "\n",
    "models_name[2] = \"Logistic Regression\"\n",
    "\n",
    "accuracy_model[2] = ([\"{:.2f}\".format(100*accuracy_train), \"{:.2f}\".format(100*accuracy_test)])\n",
    "print('\\n\\nInform of Classification:')\n",
    "print(report)"
   ]
  },
  {
   "cell_type": "markdown",
   "id": "f7da351f",
   "metadata": {},
   "source": [
    "## Dummy Classifier\n",
    "This classifier predicts the most frequent class according to the training data, it doesn't generate any insight about this data "
   ]
  },
  {
   "cell_type": "code",
   "execution_count": 463,
   "id": "f02db2b9",
   "metadata": {},
   "outputs": [],
   "source": [
    "from sklearn.dummy import DummyClassifier"
   ]
  },
  {
   "cell_type": "code",
   "execution_count": 464,
   "id": "20d70063",
   "metadata": {},
   "outputs": [],
   "source": [
    "dummy_clf = DummyClassifier()\n",
    "dummy_clf.fit(X_train, y_train)\n",
    "y_pred_train = dummy_clf.predict(X_train)\n",
    "y_pred_test = dummy_clf.predict(X_test)"
   ]
  },
  {
   "cell_type": "code",
   "execution_count": 465,
   "id": "dec302d6",
   "metadata": {},
   "outputs": [
    {
     "name": "stdout",
     "output_type": "stream",
     "text": [
      "Predictions are 64.3% accurate on the training set.\n",
      "Predictions are 61.8% accurate on the test set.\n"
     ]
    },
    {
     "data": {
      "text/html": [
       "<div>\n",
       "<style scoped>\n",
       "    .dataframe tbody tr th:only-of-type {\n",
       "        vertical-align: middle;\n",
       "    }\n",
       "\n",
       "    .dataframe tbody tr th {\n",
       "        vertical-align: top;\n",
       "    }\n",
       "\n",
       "    .dataframe thead th {\n",
       "        text-align: right;\n",
       "    }\n",
       "</style>\n",
       "<table border=\"1\" class=\"dataframe\">\n",
       "  <thead>\n",
       "    <tr style=\"text-align: right;\">\n",
       "      <th></th>\n",
       "      <th>Predicted No Attack</th>\n",
       "      <th>Predicted Attack</th>\n",
       "    </tr>\n",
       "  </thead>\n",
       "  <tbody>\n",
       "    <tr>\n",
       "      <th>Actual No Attack</th>\n",
       "      <td>0</td>\n",
       "      <td>452</td>\n",
       "    </tr>\n",
       "    <tr>\n",
       "      <th>Actual Attack</th>\n",
       "      <td>0</td>\n",
       "      <td>731</td>\n",
       "    </tr>\n",
       "  </tbody>\n",
       "</table>\n",
       "</div>"
      ],
      "text/plain": [
       "                  Predicted No Attack  Predicted Attack\n",
       "Actual No Attack                    0               452\n",
       "Actual Attack                       0               731"
      ]
     },
     "metadata": {},
     "output_type": "display_data"
    },
    {
     "name": "stdout",
     "output_type": "stream",
     "text": [
      "\n",
      "\n",
      "Inform of Classification:\n",
      "              precision    recall  f1-score   support\n",
      "\n",
      "      Attack       0.93      0.95      0.94       452\n",
      "   No Attack       0.97      0.95      0.96       731\n",
      "\n",
      "    accuracy                           0.95      1183\n",
      "   macro avg       0.95      0.95      0.95      1183\n",
      "weighted avg       0.95      0.95      0.95      1183\n",
      "\n"
     ]
    }
   ],
   "source": [
    "accuracy_train = accuracy_score(y_train, y_pred_train)\n",
    "print('Predictions are {:3.1f}% accurate on the training set.'.format(100*accuracy_train))\n",
    "accuracy_test = accuracy_score(y_test, y_pred_test)\n",
    "print('Predictions are {:3.1f}% accurate on the test set.'.format(100*accuracy_test))\n",
    "# Create matrix \n",
    "cm = confusion_matrix(y_test, y_pred_test)\n",
    "\n",
    "\n",
    "# Create a dataframe for the confusion matrix\n",
    "cm_df = pd.DataFrame(cm, \n",
    "        index = [\"Actual No Attack\", \"Actual Attack\"], \n",
    "        columns= [\"Predicted No Attack\", \"Predicted Attack\"])\n",
    "\n",
    "display(cm_df)\n",
    "\n",
    "models_name[3] = \"Dummy Classifier\"\n",
    "\n",
    "accuracy_model[3] = ([\"{:.2f}\".format(100*accuracy_train), \"{:.2f}\".format(100*accuracy_test)])\n",
    "print('\\n\\nInform of Classification:')\n",
    "print(report)"
   ]
  },
  {
   "cell_type": "markdown",
   "id": "d8d5f601",
   "metadata": {},
   "source": [
    "For the results, we can see that the confussion matrix is not really helpful since it only adds up to the predicted Attack, being the majority of counts by the model.\n",
    "We need to add uniform so we can have predicted no attack & predicted attacks."
   ]
  },
  {
   "cell_type": "code",
   "execution_count": 466,
   "id": "f58c3c0f",
   "metadata": {},
   "outputs": [],
   "source": [
    "# Measure memory usage\n",
    "tracemalloc.start()\n",
    "\n",
    "# Record the start time\n",
    "start_time = time.time()\n",
    "\n",
    "dummy_clf = DummyClassifier(strategy='uniform')\n",
    "dummy_clf.fit(X_train, y_train)\n",
    "\n",
    "\n",
    "# Calculate the execution time\n",
    "end_time = time.time()\n",
    "\n",
    "\n",
    "execution_time = end_time - start_time\n",
    "\n",
    "current, peak = tracemalloc.get_traced_memory()\n",
    "memory_usage[3] = current/ 10**3\n",
    "tracemalloc.stop()\n",
    "\n",
    "# Print or use the execution time as needed\n",
    "computation_time[3] = execution_time"
   ]
  },
  {
   "cell_type": "code",
   "execution_count": 467,
   "id": "08439837",
   "metadata": {},
   "outputs": [],
   "source": [
    "dummy_clf = DummyClassifier(strategy='uniform')\n",
    "dummy_clf.fit(X_train, y_train)\n",
    "y_pred_train = dummy_clf.predict(X_train)\n",
    "y_pred_test = dummy_clf.predict(X_test)"
   ]
  },
  {
   "cell_type": "code",
   "execution_count": 468,
   "id": "756a8a8f",
   "metadata": {},
   "outputs": [],
   "source": [
    "y_pred_train = dummy_clf.predict(X_train)\n",
    "y_pred_test = dummy_clf.predict(X_test)"
   ]
  },
  {
   "cell_type": "code",
   "execution_count": 469,
   "id": "5c5f1c15",
   "metadata": {},
   "outputs": [
    {
     "name": "stdout",
     "output_type": "stream",
     "text": [
      "Predictions are 48.6% accurate on the training set.\n",
      "Predictions are 48.9% accurate on the test set.\n"
     ]
    },
    {
     "data": {
      "text/html": [
       "<div>\n",
       "<style scoped>\n",
       "    .dataframe tbody tr th:only-of-type {\n",
       "        vertical-align: middle;\n",
       "    }\n",
       "\n",
       "    .dataframe tbody tr th {\n",
       "        vertical-align: top;\n",
       "    }\n",
       "\n",
       "    .dataframe thead th {\n",
       "        text-align: right;\n",
       "    }\n",
       "</style>\n",
       "<table border=\"1\" class=\"dataframe\">\n",
       "  <thead>\n",
       "    <tr style=\"text-align: right;\">\n",
       "      <th></th>\n",
       "      <th>Predicted No Attack</th>\n",
       "      <th>Predicted Attack</th>\n",
       "    </tr>\n",
       "  </thead>\n",
       "  <tbody>\n",
       "    <tr>\n",
       "      <th>Actual No Attack</th>\n",
       "      <td>222</td>\n",
       "      <td>230</td>\n",
       "    </tr>\n",
       "    <tr>\n",
       "      <th>Actual Attack</th>\n",
       "      <td>374</td>\n",
       "      <td>357</td>\n",
       "    </tr>\n",
       "  </tbody>\n",
       "</table>\n",
       "</div>"
      ],
      "text/plain": [
       "                  Predicted No Attack  Predicted Attack\n",
       "Actual No Attack                  222               230\n",
       "Actual Attack                     374               357"
      ]
     },
     "metadata": {},
     "output_type": "display_data"
    },
    {
     "name": "stdout",
     "output_type": "stream",
     "text": [
      "\n",
      "\n",
      "Inform of Classification:\n",
      "              precision    recall  f1-score   support\n",
      "\n",
      "      Attack       0.93      0.95      0.94       452\n",
      "   No Attack       0.97      0.95      0.96       731\n",
      "\n",
      "    accuracy                           0.95      1183\n",
      "   macro avg       0.95      0.95      0.95      1183\n",
      "weighted avg       0.95      0.95      0.95      1183\n",
      "\n"
     ]
    }
   ],
   "source": [
    "accuracy_train = accuracy_score(y_train, y_pred_train)\n",
    "print('Predictions are {:3.1f}% accurate on the training set.'.format(100*accuracy_train))\n",
    "accuracy_test = accuracy_score(y_test, y_pred_test)\n",
    "print('Predictions are {:3.1f}% accurate on the test set.'.format(100*accuracy_test))\n",
    "# Create matrix \n",
    "cm = confusion_matrix(y_test, y_pred_test)\n",
    "\n",
    "\n",
    "# Create a dataframe for the confusion matrix\n",
    "cm_df = pd.DataFrame(cm, \n",
    "        index = [\"Actual No Attack\", \"Actual Attack\"], \n",
    "        columns= [\"Predicted No Attack\", \"Predicted Attack\"])\n",
    "\n",
    "display(cm_df)\n",
    "\n",
    "models_name[3] = \"Dummy Classifier\"\n",
    "\n",
    "accuracy_model[3] = ([\"{:.2f}\".format(100*accuracy_train), \"{:.2f}\".format(100*accuracy_test)])\n",
    "print('\\n\\nInform of Classification:')\n",
    "print(report)"
   ]
  },
  {
   "cell_type": "markdown",
   "id": "a9889613",
   "metadata": {},
   "source": [
    "## Random Forest\n",
    "This model is consisted of multiple decision trees, where each tree independently classifies the data, and the final prediction is determined by a majority vote or the average of this predictions.\n",
    "\n",
    "Since we have multiple trees in the model group, we are going to add  \n",
    "\n",
    "\n",
    "Classification: Let $C^{b(x)} $ be the class prediction of the bth random-forest\n",
    "tree. \n",
    "\n",
    "$$C^{B(x)} = majority vote {C^{b(x)}}$$\n",
    "\n",
    "We will import the library RandomForestClassifier\n"
   ]
  },
  {
   "cell_type": "code",
   "execution_count": 470,
   "id": "d8d74507",
   "metadata": {},
   "outputs": [],
   "source": [
    "from sklearn.ensemble import RandomForestClassifier"
   ]
  },
  {
   "cell_type": "code",
   "execution_count": 471,
   "id": "aa35e591",
   "metadata": {},
   "outputs": [],
   "source": [
    "# Measure memory usage\n",
    "tracemalloc.start()\n",
    "\n",
    "# Record the start time\n",
    "start_time = time.time()\n",
    "\n",
    "forest_clf = RandomForestClassifier(max_depth=10)\n",
    "forest_clf.fit(X_train,y_train)\n",
    "\n",
    "# Calculate the execution time\n",
    "end_time = time.time()\n",
    "\n",
    "execution_time = end_time - start_time\n",
    "\n",
    "current, peak = tracemalloc.get_traced_memory()\n",
    "memory_usage[4] = current/ 10**3\n",
    "tracemalloc.stop()\n",
    "\n",
    "# Print or use the execution time as needed\n",
    "computation_time[4] = execution_time"
   ]
  },
  {
   "cell_type": "code",
   "execution_count": 472,
   "id": "24795495",
   "metadata": {},
   "outputs": [],
   "source": [
    "y_pred_train = forest_clf.predict(X_train)\n",
    "y_pred_test = forest_clf.predict(X_test)"
   ]
  },
  {
   "cell_type": "code",
   "execution_count": 473,
   "id": "4e45664d",
   "metadata": {},
   "outputs": [
    {
     "name": "stdout",
     "output_type": "stream",
     "text": [
      "Predictions are 99.1% accurate on the training set.\n",
      "Predictions are 98.3% accurate on the test set.\n"
     ]
    },
    {
     "data": {
      "text/html": [
       "<div>\n",
       "<style scoped>\n",
       "    .dataframe tbody tr th:only-of-type {\n",
       "        vertical-align: middle;\n",
       "    }\n",
       "\n",
       "    .dataframe tbody tr th {\n",
       "        vertical-align: top;\n",
       "    }\n",
       "\n",
       "    .dataframe thead th {\n",
       "        text-align: right;\n",
       "    }\n",
       "</style>\n",
       "<table border=\"1\" class=\"dataframe\">\n",
       "  <thead>\n",
       "    <tr style=\"text-align: right;\">\n",
       "      <th></th>\n",
       "      <th>Predicted No Attack</th>\n",
       "      <th>Predicted Attack</th>\n",
       "    </tr>\n",
       "  </thead>\n",
       "  <tbody>\n",
       "    <tr>\n",
       "      <th>Actual No Attack</th>\n",
       "      <td>446</td>\n",
       "      <td>6</td>\n",
       "    </tr>\n",
       "    <tr>\n",
       "      <th>Actual Attack</th>\n",
       "      <td>14</td>\n",
       "      <td>717</td>\n",
       "    </tr>\n",
       "  </tbody>\n",
       "</table>\n",
       "</div>"
      ],
      "text/plain": [
       "                  Predicted No Attack  Predicted Attack\n",
       "Actual No Attack                  446                 6\n",
       "Actual Attack                      14               717"
      ]
     },
     "metadata": {},
     "output_type": "display_data"
    },
    {
     "name": "stdout",
     "output_type": "stream",
     "text": [
      "\n",
      "\n",
      "Inform of Classification:\n",
      "              precision    recall  f1-score   support\n",
      "\n",
      "      Attack       0.93      0.95      0.94       452\n",
      "   No Attack       0.97      0.95      0.96       731\n",
      "\n",
      "    accuracy                           0.95      1183\n",
      "   macro avg       0.95      0.95      0.95      1183\n",
      "weighted avg       0.95      0.95      0.95      1183\n",
      "\n"
     ]
    }
   ],
   "source": [
    "accuracy_train = accuracy_score(y_train, y_pred_train)\n",
    "print('Predictions are {:3.1f}% accurate on the training set.'.format(100*accuracy_train))\n",
    "accuracy_test = accuracy_score(y_test, y_pred_test)\n",
    "print('Predictions are {:3.1f}% accurate on the test set.'.format(100*accuracy_test))\n",
    "# Create matrix \n",
    "cm = confusion_matrix(y_test, y_pred_test)\n",
    "\n",
    "\n",
    "# Create a dataframe for the confusion matrix\n",
    "cm_df_forest = pd.DataFrame(cm, \n",
    "        index = [\"Actual No Attack\", \"Actual Attack\"], \n",
    "        columns= [\"Predicted No Attack\", \"Predicted Attack\"])\n",
    "\n",
    "models_name[4] = \"Random Forest Classifier\"\n",
    "\n",
    "\n",
    "accuracy_model[4] = ([\"{:.2f}\".format(100*accuracy_train), \n",
    "                      \"{:.2f}\".format(100*accuracy_test)])\n",
    "display(cm_df_forest)\n",
    "print('\\n\\nInform of Classification:')\n",
    "print(report)"
   ]
  },
  {
   "cell_type": "markdown",
   "id": "b4792fff",
   "metadata": {},
   "source": [
    "# We will implement a for to see the whole models in one cell and see which one is the most optimal"
   ]
  },
  {
   "cell_type": "code",
   "execution_count": 474,
   "id": "333b3c3c",
   "metadata": {},
   "outputs": [
    {
     "data": {
      "text/html": [
       "<div>\n",
       "<style scoped>\n",
       "    .dataframe tbody tr th:only-of-type {\n",
       "        vertical-align: middle;\n",
       "    }\n",
       "\n",
       "    .dataframe tbody tr th {\n",
       "        vertical-align: top;\n",
       "    }\n",
       "\n",
       "    .dataframe thead th {\n",
       "        text-align: right;\n",
       "    }\n",
       "</style>\n",
       "<table border=\"1\" class=\"dataframe\">\n",
       "  <thead>\n",
       "    <tr style=\"text-align: right;\">\n",
       "      <th></th>\n",
       "      <th>Model</th>\n",
       "      <th>Computation Time</th>\n",
       "      <th>Memory Usage (KB)</th>\n",
       "      <th>Predictions Training</th>\n",
       "      <th>Predictions Test</th>\n",
       "    </tr>\n",
       "  </thead>\n",
       "  <tbody>\n",
       "    <tr>\n",
       "      <th>0</th>\n",
       "      <td>Decision Tree Classifier</td>\n",
       "      <td>1.000000</td>\n",
       "      <td>1.000</td>\n",
       "      <td>98.39</td>\n",
       "      <td>97.89</td>\n",
       "    </tr>\n",
       "    <tr>\n",
       "      <th>1</th>\n",
       "      <td>Kneighbors</td>\n",
       "      <td>0.004798</td>\n",
       "      <td>2651.818</td>\n",
       "      <td>99.11</td>\n",
       "      <td>97.89</td>\n",
       "    </tr>\n",
       "    <tr>\n",
       "      <th>2</th>\n",
       "      <td>Logistic Regression</td>\n",
       "      <td>0.077028</td>\n",
       "      <td>2703.642</td>\n",
       "      <td>99.11</td>\n",
       "      <td>96.96</td>\n",
       "    </tr>\n",
       "    <tr>\n",
       "      <th>3</th>\n",
       "      <td>Dummy Classifier</td>\n",
       "      <td>0.002391</td>\n",
       "      <td>3.402</td>\n",
       "      <td>48.65</td>\n",
       "      <td>48.94</td>\n",
       "    </tr>\n",
       "    <tr>\n",
       "      <th>4</th>\n",
       "      <td>Random Forest Classifier</td>\n",
       "      <td>0.482374</td>\n",
       "      <td>76.830</td>\n",
       "      <td>99.13</td>\n",
       "      <td>98.31</td>\n",
       "    </tr>\n",
       "  </tbody>\n",
       "</table>\n",
       "</div>"
      ],
      "text/plain": [
       "                      Model  Computation Time  Memory Usage (KB)  \\\n",
       "0  Decision Tree Classifier          1.000000              1.000   \n",
       "1                Kneighbors          0.004798           2651.818   \n",
       "2       Logistic Regression          0.077028           2703.642   \n",
       "3          Dummy Classifier          0.002391              3.402   \n",
       "4  Random Forest Classifier          0.482374             76.830   \n",
       "\n",
       "  Predictions Training Predictions Test  \n",
       "0                98.39            97.89  \n",
       "1                99.11            97.89  \n",
       "2                99.11            96.96  \n",
       "3                48.65            48.94  \n",
       "4                99.13            98.31  "
      ]
     },
     "execution_count": 474,
     "metadata": {},
     "output_type": "execute_result"
    }
   ],
   "source": [
    "data = {\n",
    "    'Model': models_name,\n",
    "    'Computation Time': computation_time,\n",
    "    'Memory Usage (KB)': memory_usage,\n",
    "    'Predictions Training': [accuracy[0] for accuracy in accuracy_model],\n",
    "    'Predictions Test': [accuracy[1] for accuracy in accuracy_model]\n",
    "}\n",
    "\n",
    "# Create a dataframe with our models and metrics\n",
    "df = pd.DataFrame(data)\n",
    "df"
   ]
  },
  {
   "cell_type": "code",
   "execution_count": 479,
   "id": "04ebbe9f",
   "metadata": {},
   "outputs": [
    {
     "name": "stdout",
     "output_type": "stream",
     "text": [
      "Higher Accuracy Model found: Random Forest Classifier\n"
     ]
    },
    {
     "data": {
      "text/html": [
       "<div>\n",
       "<style scoped>\n",
       "    .dataframe tbody tr th:only-of-type {\n",
       "        vertical-align: middle;\n",
       "    }\n",
       "\n",
       "    .dataframe tbody tr th {\n",
       "        vertical-align: top;\n",
       "    }\n",
       "\n",
       "    .dataframe thead th {\n",
       "        text-align: right;\n",
       "    }\n",
       "</style>\n",
       "<table border=\"1\" class=\"dataframe\">\n",
       "  <thead>\n",
       "    <tr style=\"text-align: right;\">\n",
       "      <th></th>\n",
       "      <th>Predicted No Attack</th>\n",
       "      <th>Predicted Attack</th>\n",
       "    </tr>\n",
       "  </thead>\n",
       "  <tbody>\n",
       "    <tr>\n",
       "      <th>Actual No Attack</th>\n",
       "      <td>446</td>\n",
       "      <td>6</td>\n",
       "    </tr>\n",
       "    <tr>\n",
       "      <th>Actual Attack</th>\n",
       "      <td>14</td>\n",
       "      <td>717</td>\n",
       "    </tr>\n",
       "  </tbody>\n",
       "</table>\n",
       "</div>"
      ],
      "text/plain": [
       "                  Predicted No Attack  Predicted Attack\n",
       "Actual No Attack                  446                 6\n",
       "Actual Attack                      14               717"
      ]
     },
     "metadata": {},
     "output_type": "display_data"
    }
   ],
   "source": [
    "print(f\"Higher Accuracy Model found: Random Forest Classifier\")\n",
    "display(cm_df_forest)"
   ]
  },
  {
   "cell_type": "markdown",
   "id": "ad921b27",
   "metadata": {},
   "source": [
    "# Conclusion\n",
    "\n",
    "We can see that for dettecting an attack or not we have many models that can be suitable for this type of problem due the accuracy but it's important to consider computation time and memory usage. We followed also the confusion matrix since it’s more important to have more predicted **Attacks** in this case of problems, high sensitivity means that among people who actually have an **Attack** risk.\n",
    "\n",
    "We've seen that the model with higher is KNeighbors since it has less attacks but we see that the memory usage is a lot and although the computation time is not that long it takes a lot of space. \n",
    "\n"
   ]
  },
  {
   "cell_type": "code",
   "execution_count": null,
   "id": "8d54f101",
   "metadata": {},
   "outputs": [],
   "source": [
    "# Try our model with Test data"
   ]
  }
 ],
 "metadata": {
  "celltoolbar": "Slideshow",
  "kernelspec": {
   "display_name": "Python 3 (ipykernel)",
   "language": "python",
   "name": "python3"
  },
  "language_info": {
   "codemirror_mode": {
    "name": "ipython",
    "version": 3
   },
   "file_extension": ".py",
   "mimetype": "text/x-python",
   "name": "python",
   "nbconvert_exporter": "python",
   "pygments_lexer": "ipython3",
   "version": "3.11.4"
  }
 },
 "nbformat": 4,
 "nbformat_minor": 5
}
